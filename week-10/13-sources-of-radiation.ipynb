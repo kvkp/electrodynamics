{
 "cells": [
  {
   "cell_type": "markdown",
   "id": "6e300c92",
   "metadata": {},
   "source": [
    "# Dipole Radiation\n",
    "\n",
    "Any accelerating charge produces electromagnetic radiation.  If the charges in a neutral object — like an atom or a radio antenna — are undergoing periodic motion, we can approximate the system as an **oscillating electric dipole**.  As discussed in Chapter 9 of _CER_ or [Chapter 28 of the Feynman Lectures](https://www.feynmanlectures.caltech.edu/I_28.html), the __radiation field__ at point $\\vec{r}$ in the $xz$-plane far from a dipole oscillating along the $z$-axis at the origin is\n",
    "\n",
    "$$\\vec{E}(\\vec{r}, t) = \\dfrac{1}{c^2}\n",
    "\\, \\omega^2 p_0 \\sin \\theta\n",
    "\\, \\dfrac{\\cos \\omega(t - r/c)}{r}\n",
    "\\, (\\hat{e}_x \\cos \\theta - \\hat{e}_z \\sin \\theta)$$\n",
    "\n",
    "The goal of this exercise is to tame this expression and create a movie of an oscillating electric field.\n",
    "\n",
    "First, the variables:\n",
    "\n",
    "| Symbol | Meaning |\n",
    "| --- | --- |\n",
    "| $\\omega$ | angular frequency of oscillation |\n",
    "| $p_0$ | maximum dipole moment |\n",
    "| $c$ | speed of light |\n",
    "| $r$ | distance from origin to point of interest |\n",
    "| $t$ | current time |\n",
    "| $\\theta$ | angle from $y$-axis to point of interest |\n",
    "\n",
    "The final term in parentheses is a unit vector that gives the direction of the field.\n",
    "\n",
    "### Warm Up\n",
    "\n",
    "Our goal is to watch the electromagnetic waves propagate outward from the dipole as it oscillates.  This means we need to choose the time increments and spatial grid of points appropriately.  We need to ...\n",
    "\n",
    "- Determine the duration of the simulation if we want to watch 10 complete cycles of oscillation.\n",
    "\n",
    "- Determine the size of the grid if we want to see at least 5 wavelengths in each direction.\n",
    "\n",
    "- Determine a reasonable time increment `dt` and grid spacing `dx` for simulating red light with a wavelength of $700 \\ {\\tt nm}$.\n",
    "\n",
    "We do not have the computer hardware of lifespan to simulate a 1 billion by 1 billion grid of points for 10 billion time steps!\n",
    "\n",
    "___Solution:___\n",
    "\n",
    "- The wavelength of the light is $\\lambda = 7.0 \\, 10^{-7} \\ {\\tt m}$.\n",
    "\n",
    "- The period of a wave is $T = \\dfrac{1}{f} = \\dfrac{\\lambda}{c}$.  For red light, this works out to $T \\approx 2.335 \\cdot 10^{-15} \\ {\\tt s}$.\n",
    "\n",
    "___Dimensional Analysis:___\n",
    "\n",
    "These values are very small, and the frequency and speed of light are very large. We might run into roundoff error if we are not careful.  Instead, let's choose our units so that numerical values are on the order of 1.\n",
    "\n",
    "First, note that we can rewrite the argument of the cosine function as follows:\n",
    "$$\\omega(t - R/c) = 2\\pi \\left(\\dfrac{t}{T} - \\dfrac{r}{\\lambda}\\right)$$\n",
    "If we measure time in femtoseconds and distance in micrometers, all numbers in this expression will be of order 1.\n",
    "\n",
    "Second, we can now rewrite the expression for the electric field as follows:\n",
    "$$\\vec{E}(\\vec{r}, t)\n",
    "= E_0 \\, \\dfrac{\\lambda}{r} \\, \\cos 2\\pi \\left( \\dfrac{t}{T} - \\dfrac{r}{\\lambda}\\right)\n",
    "\\, (\\hat{e}_x \\cos \\theta - \\hat{e}_z \\sin \\theta)  \\sin \\theta\n",
    "$$\n",
    "where\n",
    "$$E_0 = \\dfrac{\\omega^2 p_0}{\\lambda c^2} = 4 \\pi^2 \\dfrac{p_0}{\\lambda^3}$$\n",
    "\n",
    "Different values of $E_0$ change the overall magnitude of the electric field, but not the relative size of the components at different points.  Thus, we can set $E_0 = 1$ during the calculation, and we can restore the units if we need to compute forces at another time.\n",
    "\n",
    "This type of dimensional analysis can greatly simplify codiing and often leads to more accurate results because you do not \"forget\" a factor $10^9$ somewhere in the code.\n",
    "\n",
    "Now, let's make a movie!"
   ]
  },
  {
   "cell_type": "code",
   "execution_count": 1,
   "id": "d638286d",
   "metadata": {},
   "outputs": [],
   "source": [
    "import numpy as np\n",
    "import matplotlib.pyplot as plt\n",
    "from os import system\n",
    "from IPython.display import HTML, clear_output"
   ]
  },
  {
   "cell_type": "markdown",
   "id": "3dde9bb2",
   "metadata": {},
   "source": [
    "## Linear Dipole\n",
    "\n",
    "Our first simulation will illustrate the radiation field of a dipole oscillating along the z-axis.  This is much like the field created by a single radio tower.  Before you run the following cells, make some predictions.\n",
    "\n",
    "- What do you expect the field to look like?\n",
    "- In what directions will the strength of the field be strongest? Weakest?\n",
    "\n",
    "***Write your predictions below.***"
   ]
  },
  {
   "cell_type": "markdown",
   "id": "353e5358",
   "metadata": {},
   "source": [
    "REPLACE WITH YOUR RESPONSE."
   ]
  },
  {
   "cell_type": "code",
   "execution_count": 17,
   "id": "c79e6cc4",
   "metadata": {},
   "outputs": [
    {
     "name": "stdout",
     "output_type": "stream",
     "text": [
      "Completed frame 65 of 65.\r"
     ]
    }
   ],
   "source": [
    "from scipy.constants import c as speed_of_light\n",
    "\n",
    "# Wavelength in m.\n",
    "lambda0 = 700e-9\n",
    "\n",
    "# Wavelength in um.\n",
    "wavelength = lambda0 * 1e6\n",
    "\n",
    "# Period in fs.\n",
    "period = 1e15 * lambda0 / speed_of_light\n",
    "\n",
    "# Define grid of points and array of times for plotting.\n",
    "t_max = period\n",
    "dt = period / 64\n",
    "t_values = np.arange(0, t_max + dt, dt)\n",
    "N = len(t_values)\n",
    "\n",
    "x_max = 3 * wavelength\n",
    "dx = wavelength / 10\n",
    "coordinates = np.arange(-x_max, x_max + dx, dx)\n",
    "\n",
    "X,Z = np.meshgrid(coordinates, coordinates)\n",
    "R = np.sqrt(X**2 + Z**2 + 1e-6)\n",
    "theta = np.arctan2(X,Z)\n",
    "\n",
    "# Define field strength and cutoff for rescaling large values.\n",
    "E0 = 2.0\n",
    "E_cut = 1.0\n",
    "R_cut = 0.5*wavelength\n",
    "\n",
    "# Remove any existing movie frames.\n",
    "system('rm -f *-linear-dipole.jpg')\n",
    "\n",
    "# It is essential that the frames be named in alphabetical order.\n",
    "# {:03d} will display integers with three digits and insert zeros if needed:\n",
    "# '000_movie.jpg', '001_movie.jpg', etc.\n",
    "file_name = \"{:03d}-linear-dipole.jpg\"\n",
    "\n",
    "\n",
    "plt.figure(figsize=(6,6), dpi=200)\n",
    "# Generate frames and save each figure as a separate .jpg file.\n",
    "for i, t in enumerate(t_values):\n",
    "    # Compute magnitude of field.\n",
    "    ## Dipole oscillating along z-axis.\n",
    "    #pz = np.cos(2*np.pi * (t/period))\n",
    "    #px = 0\n",
    "    #E =  -E0 * wavelength * np.sin(theta) * np.cos(2*np.pi * (t/period - R/wavelength)) / R\n",
    "    \n",
    "    ## Dipole oscillating along x-axis.\n",
    "    pz = 0\n",
    "    px = np.cos(2*np.pi * (t/period))    \n",
    "    E =  E0 * wavelength * np.cos(theta) * np.cos(2*np.pi * (t/period - R/wavelength)) / R*2\n",
    "\n",
    "    # Use this for the oscillating dipole.\n",
    "    Ex = E * np.cos(theta)\n",
    "    Ez = -E * np.sin(theta)\n",
    "\n",
    "    # Rescale large values.\n",
    "    Ex[R<R_cut] = 0\n",
    "    Ez[R<R_cut] = 0\n",
    "    E = np.sqrt(Ex**2 + Ez**2) \n",
    "    bad = E > E_cut\n",
    "    Ex[bad] = E_cut * Ex[bad] / E[bad]\n",
    "    Ez[bad] = E_cut * Ez[bad] / E[bad]\n",
    "    \n",
    "    # Make plot and save to file.\n",
    "    plt.quiver(X, Z, Ex, Ez, pivot='middle', lw=1, scale=40)\n",
    "    plt.quiver(0,0,px,pz, pivot='middle', color='red', lw=1, scale=10)\n",
    "    plt.xlabel('X [um]')\n",
    "    plt.ylabel('Z [um]')\n",
    "    plt.savefig(file_name.format(i))  # save current plot\n",
    "\n",
    "    # Clear plot for next frame.\n",
    "    plt.cla()\n",
    "    \n",
    "    print(\"Completed frame %d of %d.\\r\" % (i+1,N), end='')\n",
    "\n",
    "plt.close()"
   ]
  },
  {
   "cell_type": "code",
   "execution_count": 18,
   "id": "6a6ab05c",
   "metadata": {},
   "outputs": [
    {
     "name": "stderr",
     "output_type": "stream",
     "text": [
      "ffmpeg version 4.3.1 Copyright (c) 2000-2020 the FFmpeg developers\n",
      "  built with gcc 10.2.1 (GCC) 20200726\n",
      "  configuration: --disable-static --enable-shared --enable-gpl --enable-version3 --enable-sdl2 --enable-fontconfig --enable-gnutls --enable-iconv --enable-libass --enable-libdav1d --enable-libbluray --enable-libfreetype --enable-libmp3lame --enable-libopencore-amrnb --enable-libopencore-amrwb --enable-libopenjpeg --enable-libopus --enable-libshine --enable-libsnappy --enable-libsoxr --enable-libsrt --enable-libtheora --enable-libtwolame --enable-libvpx --enable-libwavpack --enable-libwebp --enable-libx264 --enable-libx265 --enable-libxml2 --enable-libzimg --enable-lzma --enable-zlib --enable-gmp --enable-libvidstab --enable-libvmaf --enable-libvorbis --enable-libvo-amrwbenc --enable-libmysofa --enable-libspeex --enable-libxvid --enable-libaom --enable-libgsm --enable-librav1e --disable-w32threads --enable-libmfx --enable-ffnvcodec --enable-cuda-llvm --enable-cuvid --enable-d3d11va --enable-nvenc --enable-nvdec --enable-dxva2 --enable-avisynth --enable-libopenmpt --enable-amf\n",
      "  libavutil      56. 51.100 / 56. 51.100\n",
      "  libavcodec     58. 91.100 / 58. 91.100\n",
      "  libavformat    58. 45.100 / 58. 45.100\n",
      "  libavdevice    58. 10.100 / 58. 10.100\n",
      "  libavfilter     7. 85.100 /  7. 85.100\n",
      "  libswscale      5.  7.100 /  5.  7.100\n",
      "  libswresample   3.  7.100 /  3.  7.100\n",
      "  libpostproc    55.  7.100 / 55.  7.100\n",
      "Input #0, image2, from '%03d-linear-dipole.jpg':\n",
      "  Duration: 00:00:02.60, start: 0.000000, bitrate: N/A\n",
      "    Stream #0:0: Video: mjpeg (Baseline), yuvj420p(pc, bt470bg/unknown/unknown), 1200x1200 [SAR 200:200 DAR 1:1], 25 fps, 25 tbr, 25 tbn, 25 tbc\n",
      "Stream mapping:\n",
      "  Stream #0:0 -> #0:0 (mjpeg (native) -> h264 (libx264))\n",
      "Press [q] to stop, [?] for help\n",
      "[swscaler @ 0000020f71313f40] deprecated pixel format used, make sure you did set range correctly\n",
      "[libx264 @ 0000020f712b7700] using SAR=1/1\n",
      "[libx264 @ 0000020f712b7700] using cpu capabilities: MMX2 SSE2Fast SSSE3 SSE4.2 AVX FMA3 BMI2 AVX2\n",
      "[libx264 @ 0000020f712b7700] profile High, level 4.0, 4:2:0, 8-bit\n",
      "[libx264 @ 0000020f712b7700] 264 - core 161 - H.264/MPEG-4 AVC codec - Copyleft 2003-2020 - http://www.videolan.org/x264.html - options: cabac=1 ref=3 deblock=1:0:0 analyse=0x3:0x113 me=hex subme=7 psy=1 psy_rd=1.00:0.00 mixed_ref=1 me_range=16 chroma_me=1 trellis=1 8x8dct=1 cqm=0 deadzone=21,11 fast_pskip=1 chroma_qp_offset=-2 threads=24 lookahead_threads=4 sliced_threads=0 nr=0 decimate=1 interlaced=0 bluray_compat=0 constrained_intra=0 bframes=3 b_pyramid=2 b_adapt=1 b_bias=0 direct=1 weightb=1 open_gop=0 weightp=2 keyint=250 keyint_min=25 scenecut=40 intra_refresh=0 rc_lookahead=40 rc=crf mbtree=1 crf=23.0 qcomp=0.60 qpmin=0 qpmax=69 qpstep=4 ip_ratio=1.40 aq=1:1.00\n",
      "Output #0, mp4, to 'linear-movie.mp4':\n",
      "  Metadata:\n",
      "    encoder         : Lavf58.45.100\n",
      "    Stream #0:0: Video: h264 (libx264) (avc1 / 0x31637661), yuv420p, 1200x1200 [SAR 1:1 DAR 1:1], q=-1--1, 25 fps, 12800 tbn, 25 tbc\n",
      "    Metadata:\n",
      "      encoder         : Lavc58.91.100 libx264\n",
      "    Side data:\n",
      "      cpb: bitrate max/min/avg: 0/0/0 buffer size: 0 vbv_delay: N/A\n",
      "frame=   43 fps=0.0 q=0.0 size=       0kB time=00:00:00.00 bitrate=N/A speed=   0x    \n",
      "frame=   65 fps= 63 q=-1.0 Lsize=    2211kB time=00:00:02.48 bitrate=7303.9kbits/s speed= 2.4x    \n",
      "video:2210kB audio:0kB subtitle:0kB other streams:0kB global headers:0kB muxing overhead: 0.073411%\n",
      "[libx264 @ 0000020f712b7700] frame I:1     Avg QP:22.82  size:183091\n",
      "[libx264 @ 0000020f712b7700] frame P:19    Avg QP:24.90  size: 58240\n",
      "[libx264 @ 0000020f712b7700] frame B:45    Avg QP:29.92  size: 21606\n",
      "[libx264 @ 0000020f712b7700] consecutive B-frames:  7.7%  0.0%  0.0% 92.3%\n",
      "[libx264 @ 0000020f712b7700] mb I  I16..4: 27.9% 19.5% 52.6%\n",
      "[libx264 @ 0000020f712b7700] mb P  I16..4:  0.2%  0.1%  0.4%  P16..4:  9.9% 12.9% 19.4%  0.0%  0.0%    skip:57.0%\n",
      "[libx264 @ 0000020f712b7700] mb B  I16..4:  0.2%  0.0%  0.0%  B16..8:  7.1%  5.8% 10.6%  direct: 9.7%  skip:66.7%  L0:49.2% L1:35.7% BI:15.1%\n",
      "[libx264 @ 0000020f712b7700] 8x8 transform intra:18.5% inter:5.3%\n",
      "[libx264 @ 0000020f712b7700] coded y,uvDC,uvAC intra: 41.7% 0.3% 0.3% inter: 15.8% 0.0% 0.0%\n",
      "[libx264 @ 0000020f712b7700] i16 v,h,dc,p: 83% 13%  4%  0%\n",
      "[libx264 @ 0000020f712b7700] i8 v,h,dc,ddl,ddr,vr,hd,vl,hu: 49%  5% 45%  1%  0%  0%  0%  0%  0%\n",
      "[libx264 @ 0000020f712b7700] i4 v,h,dc,ddl,ddr,vr,hd,vl,hu: 30% 19% 12%  7%  8%  5%  8%  4%  7%\n",
      "[libx264 @ 0000020f712b7700] i8c dc,h,v,p: 100%  0%  0%  0%\n",
      "[libx264 @ 0000020f712b7700] Weighted P-Frames: Y:0.0% UV:0.0%\n",
      "[libx264 @ 0000020f712b7700] ref P L0: 57.8%  8.4% 22.5% 11.3%\n",
      "[libx264 @ 0000020f712b7700] ref B L0: 73.5% 16.5% 10.0%\n",
      "[libx264 @ 0000020f712b7700] ref B L1: 95.3%  4.7%\n",
      "[libx264 @ 0000020f712b7700] kb/s:6959.79\n"
     ]
    }
   ],
   "source": [
    "!ffmpeg -y -i %03d-linear-dipole.jpg -pix_fmt yuv420p linear-movie.mp4"
   ]
  },
  {
   "cell_type": "code",
   "execution_count": 19,
   "id": "699fa3c2",
   "metadata": {},
   "outputs": [
    {
     "data": {
      "text/html": [
       "\n",
       "    <video width=\"800\" height=\"800\" alt=\"test\" controls loop>\n",
       "        <source src=linear-movie.mp4 type=\"video/mp4\">\n",
       "    </video>\n"
      ],
      "text/plain": [
       "<IPython.core.display.HTML object>"
      ]
     },
     "execution_count": 19,
     "metadata": {},
     "output_type": "execute_result"
    }
   ],
   "source": [
    "# Play the movie within the notebook.\n",
    "HTML(\"\"\"\n",
    "    <video width=\"800\" height=\"800\" alt=\"test\" controls loop>\n",
    "        <source src=%s type=\"video/mp4\">\n",
    "    </video>\n",
    "\"\"\" % \"linear-movie.mp4\")"
   ]
  },
  {
   "cell_type": "markdown",
   "id": "a3b9ce21",
   "metadata": {},
   "source": [
    "### Questions\n",
    "\n",
    "Describe the field pattern.\n",
    "\n",
    "- What does the field to look like?\n",
    "- In what directions will the strength of the field be strongest? Weakest?\n",
    "\n",
    "***Report your observations below.***"
   ]
  },
  {
   "cell_type": "markdown",
   "id": "3b8b29d9",
   "metadata": {},
   "source": [
    "The field looks like water after a rock is dropped into it, with the exception of straight up and straight down where there appears to be no affect. The field is strongest to the straight left and right, weakest to the straight up and down directions "
   ]
  },
  {
   "cell_type": "markdown",
   "id": "47f3b8da",
   "metadata": {},
   "source": [
    "Would you describe this radiation as a \"plane wave\"?  Why or why not?\n",
    "\n",
    "***Share your opinion below.***"
   ]
  },
  {
   "cell_type": "markdown",
   "id": "09c075af",
   "metadata": {},
   "source": [
    "yes, the waves are constant over time and do not change in direction or behavior"
   ]
  },
  {
   "cell_type": "markdown",
   "id": "79574a6a",
   "metadata": {},
   "source": [
    "**Different Axis**\n",
    "\n",
    "How would you expect the pattern to change if you rotated the dipole by 90°?\n",
    "\n",
    "***Report your prediction below.***"
   ]
  },
  {
   "cell_type": "markdown",
   "id": "9fea28cd",
   "metadata": {},
   "source": [
    "I would expect the direction of the areas with the strongest and non existent waves would rotate 90 degrees"
   ]
  },
  {
   "cell_type": "markdown",
   "id": "9390de6d",
   "metadata": {},
   "source": [
    "The code above contains instructions for viewing a dipole oscillating along the x-axis.\n",
    "\n",
    "Comment out the three lines below\n",
    "```\n",
    "    ## Dipole oscillating along z-axis.\n",
    "```\n",
    "Uncomment the three lines below\n",
    "```\n",
    "    ## Dipole oscillating along x-axis.\n",
    "```\n",
    "Rerun the simulation.\n",
    "\n",
    "- Describe what you see.\n",
    "- Assess your predictions.\n",
    "\n",
    "***Report your observations below.***"
   ]
  },
  {
   "cell_type": "markdown",
   "id": "046da479",
   "metadata": {},
   "source": [
    "I do not see a difference after changing back and forth several times, i will post in slack about this.\n",
    "\n",
    "I multiplied E by 2 and now the pattern of the waves has rotated by 90 degrees and appear to move faster."
   ]
  },
  {
   "cell_type": "markdown",
   "id": "773d3dd3",
   "metadata": {},
   "source": [
    "## Rotating Dipole\n",
    "\n",
    "Instead of a single dipole oscillating along the $y$-axis, analyze a dipole that is rotating in the $xy$-plane.  The dipole moment is\n",
    "\n",
    "$$\\vec{p}(t) = p_0 \\left(\\hat{e}_x \\cos \\omega t + \\hat{e}_z \\sin \\omega t \\right)$$\n",
    "\n",
    "This is equivalent to two _linear_ dipoles at right angles to each other, oscillating $90^\\circ$ out of phase.\n",
    "\n",
    "The code below simply adds together the fields of the two dipoles you just observed.  Before you run it, make some predictions.\n",
    "\n",
    "- What do you expect the field to look like?\n",
    "- In what directions will the strength of the field be strongest? Weakest?\n",
    "\n",
    "***Write your predictions below.***"
   ]
  },
  {
   "cell_type": "markdown",
   "id": "c43b4f82",
   "metadata": {},
   "source": [
    "I think the wave will have the same pattern but move faster. "
   ]
  },
  {
   "cell_type": "code",
   "execution_count": 55,
   "id": "2fcef72a",
   "metadata": {},
   "outputs": [
    {
     "name": "stdout",
     "output_type": "stream",
     "text": [
      "Completed frame 65 of 65.\r"
     ]
    }
   ],
   "source": [
    "from scipy.constants import c as speed_of_light\n",
    "\n",
    "# Wavelength in m.\n",
    "lambda0 = 700e-9\n",
    "\n",
    "# Wavelength in um.\n",
    "wavelength = lambda0 * 1e6\n",
    "\n",
    "# Period in fs.\n",
    "period = 1e15 * lambda0 / speed_of_light\n",
    "\n",
    "# Define grid of points and array of times for plotting.\n",
    "t_max = period\n",
    "dt = period / 64\n",
    "t_values = np.arange(0, t_max + dt, dt)\n",
    "N = len(t_values)\n",
    "\n",
    "x_max = 3 * wavelength\n",
    "dx = wavelength / 10\n",
    "coordinates = np.arange(-x_max, x_max + dx, dx)\n",
    "\n",
    "X,Z = np.meshgrid(coordinates, coordinates)\n",
    "R = np.sqrt(X**2 + Z**2 + 1e-6)\n",
    "theta = np.arctan2(X,Z)\n",
    "\n",
    "# Define field strength and cutoff for rescaling large values.\n",
    "E0 = 2.0\n",
    "E_cut = 1.0\n",
    "R_cut = 0.5*wavelength\n",
    "\n",
    "# Remove any existing movie frames.\n",
    "system('rm -f *-rotating-dipole.jpg')\n",
    "\n",
    "# It is essential that the frames be named in alphabetical order.\n",
    "# {:03d} will display integers with three digits and insert zeros if needed:\n",
    "# '000_movie.jpg', '001_movie.jpg', etc.\n",
    "file_name = \"{:03d}-rotating-dipole.jpg\"\n",
    "\n",
    "\n",
    "plt.figure(figsize=(6,6), dpi=200)\n",
    "# Generate frames and save each figure as a separate .jpg file.\n",
    "for i, t in enumerate(t_values):\n",
    "    # Plot the dipole that is creating the fields.\n",
    "    pz = np.cos(2*np.pi * (t/period))\n",
    "    px = np.sin(2*np.pi * (t/period))*0.5\n",
    "\n",
    "    # Compute magnitudes of fields.\n",
    "    E1 = E0 * wavelength * np.sin(theta) * np.cos(2*np.pi * (t/period - R/wavelength)) / R\n",
    "    E2 = E0 * wavelength * np.cos(theta) * np.sin(2*np.pi * (t/period - R/wavelength)) / R\n",
    "\n",
    "    Ex = (E1 + E2) * np.cos(theta)\n",
    "    Ez = (E1 + E2) * np.sin(theta)\n",
    "\n",
    "    # Rescale large values.\n",
    "    Ex[R<R_cut] = 0\n",
    "    Ez[R<R_cut] = 0\n",
    "    E = np.sqrt(Ex**2 + Ez**2) \n",
    "    bad = E > E_cut\n",
    "    Ex[bad] = E_cut * Ex[bad] / E[bad]\n",
    "    Ez[bad] = E_cut * Ez[bad] / E[bad]\n",
    "\n",
    "    # Make plot and save to file.\n",
    "    plt.quiver(X, Z, Ex, Ez, pivot='middle', lw=1, scale=40)\n",
    "    plt.quiver(0,0,px,pz, pivot='middle', color='red', lw=1, scale=10)\n",
    "    plt.xlabel('X [um]')\n",
    "    plt.ylabel('Z [um]')\n",
    "    plt.savefig(file_name.format(i))  # save current plot\n",
    "\n",
    "    # Clear plot for next frame.\n",
    "    plt.cla()\n",
    "    \n",
    "    print(\"Completed frame %d of %d.\\r\" % (i+1,N), end='')\n",
    "\n",
    "plt.close()"
   ]
  },
  {
   "cell_type": "code",
   "execution_count": 60,
   "id": "e342ebf7",
   "metadata": {},
   "outputs": [
    {
     "name": "stderr",
     "output_type": "stream",
     "text": [
      "ffmpeg version 4.3.1 Copyright (c) 2000-2020 the FFmpeg developers\n",
      "  built with gcc 10.2.1 (GCC) 20200726\n",
      "  configuration: --disable-static --enable-shared --enable-gpl --enable-version3 --enable-sdl2 --enable-fontconfig --enable-gnutls --enable-iconv --enable-libass --enable-libdav1d --enable-libbluray --enable-libfreetype --enable-libmp3lame --enable-libopencore-amrnb --enable-libopencore-amrwb --enable-libopenjpeg --enable-libopus --enable-libshine --enable-libsnappy --enable-libsoxr --enable-libsrt --enable-libtheora --enable-libtwolame --enable-libvpx --enable-libwavpack --enable-libwebp --enable-libx264 --enable-libx265 --enable-libxml2 --enable-libzimg --enable-lzma --enable-zlib --enable-gmp --enable-libvidstab --enable-libvmaf --enable-libvorbis --enable-libvo-amrwbenc --enable-libmysofa --enable-libspeex --enable-libxvid --enable-libaom --enable-libgsm --enable-librav1e --disable-w32threads --enable-libmfx --enable-ffnvcodec --enable-cuda-llvm --enable-cuvid --enable-d3d11va --enable-nvenc --enable-nvdec --enable-dxva2 --enable-avisynth --enable-libopenmpt --enable-amf\n",
      "  libavutil      56. 51.100 / 56. 51.100\n",
      "  libavcodec     58. 91.100 / 58. 91.100\n",
      "  libavformat    58. 45.100 / 58. 45.100\n",
      "  libavdevice    58. 10.100 / 58. 10.100\n",
      "  libavfilter     7. 85.100 /  7. 85.100\n",
      "  libswscale      5.  7.100 /  5.  7.100\n",
      "  libswresample   3.  7.100 /  3.  7.100\n",
      "  libpostproc    55.  7.100 / 55.  7.100\n",
      "Input #0, image2, from '%03d-rotating-dipole.jpg':\n",
      "  Duration: 00:00:02.60, start: 0.000000, bitrate: N/A\n",
      "    Stream #0:0: Video: mjpeg (Baseline), yuvj420p(pc, bt470bg/unknown/unknown), 1200x1200 [SAR 200:200 DAR 1:1], 25 fps, 25 tbr, 25 tbn, 25 tbc\n",
      "Stream mapping:\n",
      "  Stream #0:0 -> #0:0 (mjpeg (native) -> h264 (libx264))\n",
      "Press [q] to stop, [?] for help\n",
      "[swscaler @ 00000282fb50ff80] deprecated pixel format used, make sure you did set range correctly\n",
      "[libx264 @ 00000282fb100b40] using SAR=1/1\n",
      "[libx264 @ 00000282fb100b40] using cpu capabilities: MMX2 SSE2Fast SSSE3 SSE4.2 AVX FMA3 BMI2 AVX2\n",
      "[libx264 @ 00000282fb100b40] profile High, level 4.0, 4:2:0, 8-bit\n",
      "[libx264 @ 00000282fb100b40] 264 - core 161 - H.264/MPEG-4 AVC codec - Copyleft 2003-2020 - http://www.videolan.org/x264.html - options: cabac=1 ref=3 deblock=1:0:0 analyse=0x3:0x113 me=hex subme=7 psy=1 psy_rd=1.00:0.00 mixed_ref=1 me_range=16 chroma_me=1 trellis=1 8x8dct=1 cqm=0 deadzone=21,11 fast_pskip=1 chroma_qp_offset=-2 threads=24 lookahead_threads=4 sliced_threads=0 nr=0 decimate=1 interlaced=0 bluray_compat=0 constrained_intra=0 bframes=3 b_pyramid=2 b_adapt=1 b_bias=0 direct=1 weightb=1 open_gop=0 weightp=2 keyint=250 keyint_min=25 scenecut=40 intra_refresh=0 rc_lookahead=40 rc=crf mbtree=1 crf=23.0 qcomp=0.60 qpmin=0 qpmax=69 qpstep=4 ip_ratio=1.40 aq=1:1.00\n",
      "Output #0, mp4, to 'rotating-movie.mp4':\n",
      "  Metadata:\n",
      "    encoder         : Lavf58.45.100\n",
      "    Stream #0:0: Video: h264 (libx264) (avc1 / 0x31637661), yuv420p, 1200x1200 [SAR 1:1 DAR 1:1], q=-1--1, 25 fps, 12800 tbn, 25 tbc\n",
      "    Metadata:\n",
      "      encoder         : Lavc58.91.100 libx264\n",
      "    Side data:\n",
      "      cpb: bitrate max/min/avg: 0/0/0 buffer size: 0 vbv_delay: N/A\n",
      "frame=   50 fps=0.0 q=0.0 size=       0kB time=00:00:00.00 bitrate=N/A speed=   0x    \n",
      "frame=   65 fps=0.0 q=-1.0 Lsize=    3121kB time=00:00:02.48 bitrate=10308.3kbits/s speed=2.61x    \n",
      "video:3119kB audio:0kB subtitle:0kB other streams:0kB global headers:0kB muxing overhead: 0.045488%\n",
      "[libx264 @ 00000282fb100b40] frame I:1     Avg QP:24.35  size:171004\n",
      "[libx264 @ 00000282fb100b40] frame P:43    Avg QP:25.95  size: 58925\n",
      "[libx264 @ 00000282fb100b40] frame B:21    Avg QP:29.56  size: 23275\n",
      "[libx264 @ 00000282fb100b40] consecutive B-frames: 56.9%  0.0%  0.0% 43.1%\n",
      "[libx264 @ 00000282fb100b40] mb I  I16..4: 22.6% 24.5% 52.9%\n",
      "[libx264 @ 00000282fb100b40] mb P  I16..4:  0.1%  0.1%  0.3%  P16..4: 11.1% 14.4% 21.2%  0.0%  0.0%    skip:52.7%\n",
      "[libx264 @ 00000282fb100b40] mb B  I16..4:  0.0%  0.0%  0.0%  B16..8:  6.1%  6.5% 11.1%  direct:12.6%  skip:63.5%  L0:43.1% L1:33.2% BI:23.8%\n",
      "[libx264 @ 00000282fb100b40] 8x8 transform intra:22.9% inter:4.5%\n",
      "[libx264 @ 00000282fb100b40] coded y,uvDC,uvAC intra: 44.4% 0.5% 0.5% inter: 23.6% 0.1% 0.1%\n",
      "[libx264 @ 00000282fb100b40] i16 v,h,dc,p: 78% 15%  7%  0%\n",
      "[libx264 @ 00000282fb100b40] i8 v,h,dc,ddl,ddr,vr,hd,vl,hu: 52%  5% 42%  1%  0%  0%  0%  0%  0%\n",
      "[libx264 @ 00000282fb100b40] i4 v,h,dc,ddl,ddr,vr,hd,vl,hu: 34% 17% 15%  6%  6%  6%  6%  5%  6%\n",
      "[libx264 @ 00000282fb100b40] i8c dc,h,v,p: 100%  0%  0%  0%\n",
      "[libx264 @ 00000282fb100b40] Weighted P-Frames: Y:0.0% UV:0.0%\n",
      "[libx264 @ 00000282fb100b40] ref P L0: 67.6% 10.4% 10.4% 11.6%\n",
      "[libx264 @ 00000282fb100b40] ref B L0: 83.2%  8.3%  8.5%\n",
      "[libx264 @ 00000282fb100b40] ref B L1: 97.9%  2.1%\n",
      "[libx264 @ 00000282fb100b40] kb/s:9826.33\n"
     ]
    }
   ],
   "source": [
    "!ffmpeg -y -i %03d-rotating-dipole.jpg -pix_fmt yuv420p rotating-movie.mp4"
   ]
  },
  {
   "cell_type": "code",
   "execution_count": 61,
   "id": "72407b9e",
   "metadata": {},
   "outputs": [
    {
     "data": {
      "text/html": [
       "\n",
       "    <video width=\"800\" height=\"800\" alt=\"test\" controls loop>\n",
       "        <source src=rotating-movie.mp4 type=\"video/mp4\">\n",
       "    </video>\n"
      ],
      "text/plain": [
       "<IPython.core.display.HTML object>"
      ]
     },
     "execution_count": 61,
     "metadata": {},
     "output_type": "execute_result"
    }
   ],
   "source": [
    "# Play the movie within the notebook.\n",
    "HTML(\"\"\"\n",
    "    <video width=\"800\" height=\"800\" alt=\"test\" controls loop>\n",
    "        <source src=%s type=\"video/mp4\">\n",
    "    </video>\n",
    "\"\"\" % \"rotating-movie.mp4\")"
   ]
  },
  {
   "cell_type": "markdown",
   "id": "f56308b8",
   "metadata": {},
   "source": [
    "### Questions\n",
    "\n",
    "Describe the field pattern.\n",
    "\n",
    "- What does the field to look like?\n",
    "- In what directions will the strength of the field be strongest? Weakest?\n",
    "\n",
    "***Report your observations below.***"
   ]
  },
  {
   "cell_type": "markdown",
   "id": "75c95745",
   "metadata": {},
   "source": [
    "the field now appears to be a spiral that is rotating around the center."
   ]
  },
  {
   "cell_type": "markdown",
   "id": "0579310b",
   "metadata": {},
   "source": [
    "Would you describe this radiation as a \"plane wave\"?  Why or why not?\n",
    "\n",
    "***Share your opinion below.***"
   ]
  },
  {
   "cell_type": "markdown",
   "id": "332a5da9",
   "metadata": {},
   "source": [
    "I would say the wave is a plain wave as you move away from the center. At the center the wave varies in its length but not far away from the center it is relativly the same all around."
   ]
  },
  {
   "cell_type": "markdown",
   "id": "9e88fc41",
   "metadata": {},
   "source": [
    "Modify the code above to make the dipole rotate in the opposite direction ***and*** produce the correct radiation pattern.\n",
    "\n",
    "**Hint:** It only requires two minus signs ...\n",
    "\n",
    "- Describe your attempts and your results.\n",
    "- Why are only two minus signs required?\n",
    "\n",
    "***Report your observations below.***"
   ]
  },
  {
   "cell_type": "markdown",
   "id": "7b9e79b9",
   "metadata": {},
   "source": [
    "I was not able to find the values that needed minus signs, i changed almost everything and the vector in the center is still turining in the clockwise direction"
   ]
  },
  {
   "cell_type": "markdown",
   "id": "db4f7e77",
   "metadata": {},
   "source": [
    "What would happen if the dipole along the x-axis were **half as large** as the dipole along the z-axis?\n",
    "\n",
    "- How do you think this would change the field pattern?  Why?\n",
    "\n",
    "***Report your predictions below.***"
   ]
  },
  {
   "cell_type": "markdown",
   "id": "457d217e",
   "metadata": {},
   "source": [
    "An oval shape would appear, waves on the sides will move slower"
   ]
  },
  {
   "cell_type": "markdown",
   "id": "0b83589c",
   "metadata": {},
   "source": [
    "Modify the code above so that the dipole along the  x-axis is **half as large** as that along the z-axis.  You will need to modify `px` and `E2`.\n",
    "\n",
    "- How does this change the field pattern?\n",
    "\n",
    "***Report your observations below.***"
   ]
  },
  {
   "cell_type": "markdown",
   "id": "d679cb36",
   "metadata": {},
   "source": [
    "the center vector is reduced in magnitude as it points in the +/- x direction, this change happens gradually "
   ]
  },
  {
   "cell_type": "markdown",
   "id": "672834ea",
   "metadata": {},
   "source": [
    "# Reflection and Summary\n",
    "\n",
    "- What are the major takeaways of this assignment for you?\n",
    "- What was the most difficult part of this assignment?\n",
    "- What was the most interesting part of this assignment?\n",
    "- What questions do you have?\n",
    "\n",
    "***Include your response below.***"
   ]
  },
  {
   "cell_type": "markdown",
   "id": "e4b840e6",
   "metadata": {},
   "source": [
    "Physics is fun,the behavior of waves\n",
    "getting the vector to rotate in the opposite direction, will have to ask in class\n",
    "how small changes can have a large impact\n",
    "how do i get the vector to turn the opposite direction?"
   ]
  },
  {
   "cell_type": "markdown",
   "id": "9485dbc5",
   "metadata": {},
   "source": [
    "# Challenge Problems\n",
    "\n",
    "The challenge problems below ask you to extend the simulation above.  \n",
    "\n",
    "## Near Fields\n",
    "\n",
    "The simulations above only include the radiation field — the portion of the field that decreases as $1/r$.  Far from the source, this is the only part that matters.  Near the source, the other contributions to the electric field are the most important.\n",
    "\n",
    "Refer to Equation (9.39) in _CER_.  Try to plot the full electric field for the dipole\n",
    "\n",
    "$$\\vec{p} = p_0 \\, \\hat{e}_z \\, \\cos \\omega t$$\n",
    "\n",
    "\n",
    "## Multiple Sources\n",
    "\n",
    "In the code above, all of the dipoles are at the origin.  Adapt the code above to simulate the field of two dipoles at different locations.\n",
    "\n",
    "\n",
    "## 3D Plots\n",
    "\n",
    "Adapt the code to plot the field of a linear dipole or a rotating dipole in three dimensions.\n",
    "\n",
    "\n",
    "## Plot Everything\n",
    "\n",
    "Add the magnetic field and the Poynting vector to a 3D simulation!"
   ]
  },
  {
   "cell_type": "code",
   "execution_count": null,
   "id": "a15b9da2",
   "metadata": {},
   "outputs": [],
   "source": [
    "### Replace with your code."
   ]
  },
  {
   "cell_type": "markdown",
   "id": "ff9edead",
   "metadata": {},
   "source": [
    "## A note on coordinates and formulae\n",
    "\n",
    "The simulation above uses spherical coordinates to match equations in textbooks.  However, this is not always convenient for simulating problems on a grid.  For instance, the equations for the fields assume the dipoles are at the origin.  If there are two dipoles at different locations, \"$\\hat{e}_r$\" and \"$\\hat{e}_\\theta$\" in the formulas are ***not*** the same vector for both dipoles.\n",
    "\n",
    "It might be easier to work in Cartesian coordinates.  The following relations may be useful if you attempt the challenge problems. If the location of the dipole is $(x_0, y_0, z_0)$, then the textbook formulae translate as follows.\n",
    "\n",
    "\\begin{align*}\n",
    "r &= \\sqrt{(x-x_0)^2 + (y-y_0)^2 + (z-z_0)^2} \\\\\n",
    "\\cos \\theta & = \\dfrac{z-z_0}{r} \\\\\n",
    "\\sin \\theta &= \\dfrac{\\sqrt{(x-x_0)^2 + (y-y_0)^2}}{r} \\\\\n",
    "\\cos \\phi &= \\dfrac{x-x_0}{\\sqrt{(x-x_0)^2+(y-y_0)^2}} \\\\\n",
    "\\sin \\phi &= \\dfrac{y-y_0}{\\sqrt{(x-x_0)^2+(y-y_0)^2}} \\\\\n",
    "\\hat{e}_r &= \\hat{e}_x \\, \\sin \\theta \\cos \\phi + \\hat{e}_y \\, \\sin \\theta \\sin \\phi + \\hat{e}_z \\, \\cos \\theta \\\\\n",
    "\\hat{e}_\\theta &= \\hat{e}_x \\, \\cos \\theta \\cos \\phi + \\hat{e}_y \\, \\cos \\theta \\sin \\phi - \\hat{e}_z \\sin \\theta \\\\\n",
    "\\hat{e}_\\phi &= -\\hat{e}_x \\, \\sin \\phi + \\hat{e}_y \\, \\cos \\phi\n",
    "\\end{align*}"
   ]
  }
 ],
 "metadata": {
  "kernelspec": {
   "display_name": "Python 3 (ipykernel)",
   "language": "python",
   "name": "python3"
  },
  "language_info": {
   "codemirror_mode": {
    "name": "ipython",
    "version": 3
   },
   "file_extension": ".py",
   "mimetype": "text/x-python",
   "name": "python",
   "nbconvert_exporter": "python",
   "pygments_lexer": "ipython3",
   "version": "3.9.7"
  }
 },
 "nbformat": 4,
 "nbformat_minor": 5
}
