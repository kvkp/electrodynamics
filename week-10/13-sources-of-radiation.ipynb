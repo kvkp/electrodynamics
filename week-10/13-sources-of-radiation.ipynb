{
 "cells": [
  {
   "cell_type": "markdown",
   "id": "6e300c92",
   "metadata": {},
   "source": [
    "# Dipole Radiation\n",
    "\n",
    "Any accelerating charge produces electromagnetic radiation.  If the charges in a neutral object — like an atom or a radio antenna — are undergoing periodic motion, we can approximate the system as an **oscillating electric dipole**.  As discussed in Chapter 9 of _CER_ or [Chapter 28 of the Feynman Lectures](https://www.feynmanlectures.caltech.edu/I_28.html), the __radiation field__ at point $\\vec{r}$ in the $xz$-plane far from a dipole oscillating along the $z$-axis at the origin is\n",
    "\n",
    "$$\\vec{E}(\\vec{r}, t) = \\dfrac{1}{c^2}\n",
    "\\, \\omega^2 p_0 \\sin \\theta\n",
    "\\, \\dfrac{\\cos \\omega(t - r/c)}{r}\n",
    "\\, (\\hat{e}_x \\cos \\theta - \\hat{e}_z \\sin \\theta)$$\n",
    "\n",
    "The goal of this exercise is to tame this expression and create a movie of an oscillating electric field.\n",
    "\n",
    "First, the variables:\n",
    "\n",
    "| Symbol | Meaning |\n",
    "| --- | --- |\n",
    "| $\\omega$ | angular frequency of oscillation |\n",
    "| $p_0$ | maximum dipole moment |\n",
    "| $c$ | speed of light |\n",
    "| $r$ | distance from origin to point of interest |\n",
    "| $t$ | current time |\n",
    "| $\\theta$ | angle from $y$-axis to point of interest |\n",
    "\n",
    "The final term in parentheses is a unit vector that gives the direction of the field.\n",
    "\n",
    "### Warm Up\n",
    "\n",
    "Our goal is to watch the electromagnetic waves propagate outward from the dipole as it oscillates.  This means we need to choose the time increments and spatial grid of points appropriately.  We need to ...\n",
    "\n",
    "- Determine the duration of the simulation if we want to watch 10 complete cycles of oscillation.\n",
    "\n",
    "- Determine the size of the grid if we want to see at least 5 wavelengths in each direction.\n",
    "\n",
    "- Determine a reasonable time increment `dt` and grid spacing `dx` for simulating red light with a wavelength of $700 \\ {\\tt nm}$.\n",
    "\n",
    "We do not have the computer hardware of lifespan to simulate a 1 billion by 1 billion grid of points for 10 billion time steps!\n",
    "\n",
    "___Solution:___\n",
    "\n",
    "- The wavelength of the light is $\\lambda = 7.0 \\, 10^{-7} \\ {\\tt m}$.\n",
    "\n",
    "- The period of a wave is $T = \\dfrac{1}{f} = \\dfrac{\\lambda}{c}$.  For red light, this works out to $T \\approx 2.335 \\cdot 10^{-15} \\ {\\tt s}$.\n",
    "\n",
    "___Dimensional Analysis:___\n",
    "\n",
    "These values are very small, and the frequency and speed of light are very large. We might run into roundoff error if we are not careful.  Instead, let's choose our units so that numerical values are on the order of 1.\n",
    "\n",
    "First, note that we can rewrite the argument of the cosine function as follows:\n",
    "$$\\omega(t - R/c) = 2\\pi \\left(\\dfrac{t}{T} - \\dfrac{r}{\\lambda}\\right)$$\n",
    "If we measure time in femtoseconds and distance in micrometers, all numbers in this expression will be of order 1.\n",
    "\n",
    "Second, we can now rewrite the expression for the electric field as follows:\n",
    "$$\\vec{E}(\\vec{r}, t)\n",
    "= E_0 \\, \\dfrac{\\lambda}{r} \\, \\cos 2\\pi \\left( \\dfrac{t}{T} - \\dfrac{r}{\\lambda}\\right)\n",
    "\\, (\\hat{e}_x \\cos \\theta - \\hat{e}_z \\sin \\theta)  \\sin \\theta\n",
    "$$\n",
    "where\n",
    "$$E_0 = \\dfrac{\\omega^2 p_0}{\\lambda c^2} = 4 \\pi^2 \\dfrac{p_0}{\\lambda^3}$$\n",
    "\n",
    "Different values of $E_0$ change the overall magnitude of the electric field, but not the relative size of the components at different points.  Thus, we can set $E_0 = 1$ during the calculation, and we can restore the units if we need to compute forces at another time.\n",
    "\n",
    "This type of dimensional analysis can greatly simplify codiing and often leads to more accurate results because you do not \"forget\" a factor $10^9$ somewhere in the code.\n",
    "\n",
    "Now, let's make a movie!"
   ]
  },
  {
   "cell_type": "code",
   "execution_count": 1,
   "id": "d638286d",
   "metadata": {},
   "outputs": [],
   "source": [
    "import numpy as np\n",
    "import matplotlib.pyplot as plt\n",
    "from os import system\n",
    "from IPython.display import HTML, clear_output"
   ]
  },
  {
   "cell_type": "markdown",
   "id": "3dde9bb2",
   "metadata": {},
   "source": [
    "## Linear Dipole\n",
    "\n",
    "Our first simulation will illustrate the radiation field of a dipole oscillating along the z-axis.  This is much like the field created by a single radio tower.  Before you run the following cells, make some predictions.\n",
    "\n",
    "- What do you expect the field to look like?\n",
    "- In what directions will the strength of the field be strongest? Weakest?\n",
    "\n",
    "***Write your predictions below.***"
   ]
  },
  {
   "cell_type": "markdown",
   "id": "353e5358",
   "metadata": {},
   "source": [
    "REPLACE WITH YOUR RESPONSE."
   ]
  },
  {
   "cell_type": "code",
   "execution_count": 2,
   "id": "c79e6cc4",
   "metadata": {},
   "outputs": [
    {
     "name": "stdout",
     "output_type": "stream",
     "text": [
      "Completed frame 65 of 65.\r"
     ]
    }
   ],
   "source": [
    "from scipy.constants import c as speed_of_light\n",
    "\n",
    "# Wavelength in m.\n",
    "lambda0 = 700e-9\n",
    "\n",
    "# Wavelength in um.\n",
    "wavelength = lambda0 * 1e6\n",
    "\n",
    "# Period in fs.\n",
    "period = 1e15 * lambda0 / speed_of_light\n",
    "\n",
    "# Define grid of points and array of times for plotting.\n",
    "t_max = period\n",
    "dt = period / 64\n",
    "t_values = np.arange(0, t_max + dt, dt)\n",
    "N = len(t_values)\n",
    "\n",
    "x_max = 3 * wavelength\n",
    "dx = wavelength / 10\n",
    "coordinates = np.arange(-x_max, x_max + dx, dx)\n",
    "\n",
    "X,Z = np.meshgrid(coordinates, coordinates)\n",
    "R = np.sqrt(X**2 + Z**2 + 1e-6)\n",
    "theta = np.arctan2(X,Z)\n",
    "\n",
    "# Define field strength and cutoff for rescaling large values.\n",
    "E0 = 2.0\n",
    "E_cut = 1.0\n",
    "R_cut = 0.5*wavelength\n",
    "\n",
    "# Remove any existing movie frames.\n",
    "system('rm -f *-linear-dipole.jpg')\n",
    "\n",
    "# It is essential that the frames be named in alphabetical order.\n",
    "# {:03d} will display integers with three digits and insert zeros if needed:\n",
    "# '000_movie.jpg', '001_movie.jpg', etc.\n",
    "file_name = \"{:03d}-linear-dipole.jpg\"\n",
    "\n",
    "\n",
    "plt.figure(figsize=(6,6), dpi=200)\n",
    "# Generate frames and save each figure as a separate .jpg file.\n",
    "for i, t in enumerate(t_values):\n",
    "    # Compute magnitude of field.\n",
    "    ## Dipole oscillating along z-axis.\n",
    "    pz = np.cos(2*np.pi * (t/period))\n",
    "    px = 0\n",
    "    E =  -E0 * wavelength * np.sin(theta) * np.cos(2*np.pi * (t/period - R/wavelength)) / R\n",
    "    \n",
    "    ## Dipole oscillating along x-axis.\n",
    "    # pz = 0\n",
    "    # px = np.cos(2*np.pi * (t/period))    \n",
    "    # E =  E0 * wavelength * np.cos(theta) * np.cos(2*np.pi * (t/period - R/wavelength)) / R\n",
    "\n",
    "    # Use this for the oscillating dipole.\n",
    "    Ex = E * np.cos(theta)\n",
    "    Ez = -E * np.sin(theta)\n",
    "\n",
    "    # Rescale large values.\n",
    "    Ex[R<R_cut] = 0\n",
    "    Ez[R<R_cut] = 0\n",
    "    E = np.sqrt(Ex**2 + Ez**2) \n",
    "    bad = E > E_cut\n",
    "    Ex[bad] = E_cut * Ex[bad] / E[bad]\n",
    "    Ez[bad] = E_cut * Ez[bad] / E[bad]\n",
    "    \n",
    "    # Make plot and save to file.\n",
    "    plt.quiver(X, Z, Ex, Ez, pivot='middle', lw=1, scale=40)\n",
    "    plt.quiver(0,0,px,pz, pivot='middle', color='red', lw=1, scale=10)\n",
    "    plt.xlabel('X [um]')\n",
    "    plt.ylabel('Z [um]')\n",
    "    plt.savefig(file_name.format(i))  # save current plot\n",
    "\n",
    "    # Clear plot for next frame.\n",
    "    plt.cla()\n",
    "    \n",
    "    print(\"Completed frame %d of %d.\\r\" % (i+1,N), end='')\n",
    "\n",
    "plt.close()"
   ]
  },
  {
   "cell_type": "code",
   "execution_count": 3,
   "id": "6a6ab05c",
   "metadata": {},
   "outputs": [
    {
     "name": "stdout",
     "output_type": "stream",
     "text": [
      "ffmpeg version 5.1.2 Copyright (c) 2000-2022 the FFmpeg developers\r\n",
      "  built with clang version 14.0.4\r\n",
      "  configuration: --prefix=/Users/runner/miniforge3/conda-bld/ffmpeg_1666357556406/_h_env_placehold_placehold_placehold_placehold_placehold_placehold_placehold_placehold_placehold_placehold_placehold_placehold_placehold_placehold_placehold_placehold_placehold_placehold_placehold_pl --cc=arm64-apple-darwin20.0.0-clang --cxx=arm64-apple-darwin20.0.0-clang++ --nm=arm64-apple-darwin20.0.0-nm --ar=arm64-apple-darwin20.0.0-ar --disable-doc --disable-openssl --enable-demuxer=dash --enable-hardcoded-tables --enable-libfreetype --enable-libfontconfig --enable-libopenh264 --enable-cross-compile --arch=arm64 --target-os=darwin --cross-prefix=arm64-apple-darwin20.0.0- --host-cc=/Users/runner/miniforge3/conda-bld/ffmpeg_1666357556406/_build_env/bin/x86_64-apple-darwin13.4.0-clang --enable-neon --enable-gnutls --enable-libmp3lame --enable-libvpx --enable-pthreads --enable-gpl --enable-libx264 --enable-libx265 --enable-libaom --enable-libsvtav1 --enable-libxml2 --enable-pic --enable-shared --disable-static --enable-version3 --enable-zlib --pkg-config=/Users/runner/miniforge3/conda-bld/ffmpeg_1666357556406/_build_env/bin/pkg-config\r\n",
      "  libavutil      57. 28.100 / 57. 28.100\r\n",
      "  libavcodec     59. 37.100 / 59. 37.100\r\n",
      "  libavformat    59. 27.100 / 59. 27.100\r\n",
      "  libavdevice    59.  7.100 / 59.  7.100\r\n",
      "  libavfilter     8. 44.100 /  8. 44.100\r\n",
      "  libswscale      6.  7.100 /  6.  7.100\r\n",
      "  libswresample   4.  7.100 /  4.  7.100\r\n",
      "  libpostproc    56.  6.100 / 56.  6.100\r\n",
      "Input #0, image2, from '%03d-linear-dipole.jpg':\r\n",
      "  Duration: 00:00:02.60, start: 0.000000, bitrate: N/A\r\n",
      "  Stream #0:0: Video: mjpeg (Baseline), yuvj420p(pc, bt470bg/unknown/unknown), 1200x1200 [SAR 200:200 DAR 1:1], 25 fps, 25 tbr, 25 tbn\r\n",
      "Stream mapping:\r\n",
      "  Stream #0:0 -> #0:0 (mjpeg (native) -> h264 (libx264))\r\n",
      "Press [q] to stop, [?] for help\r\n",
      "\u001b[1;34m[swscaler @ 0x1283e0000] \u001b[0m\u001b[1;34m[swscaler @ 0x130008000] \u001b[0m\u001b[0;33mdeprecated pixel format used, make sure you did set range correctly\r\n",
      "\u001b[0m\u001b[1;34m[swscaler @ 0x1283e0000] \u001b[0m\u001b[1;34m[swscaler @ 0x130018000] \u001b[0m\u001b[0;33mdeprecated pixel format used, make sure you did set range correctly\r\n",
      "\u001b[0m\u001b[1;34m[swscaler @ 0x1283e0000] \u001b[0m\u001b[1;34m[swscaler @ 0x130028000] \u001b[0m\u001b[0;33mdeprecated pixel format used, make sure you did set range correctly\r\n",
      "\u001b[0m\u001b[1;34m[swscaler @ 0x1283e0000] \u001b[0m\u001b[1;34m[swscaler @ 0x130038000] \u001b[0m\u001b[0;33mdeprecated pixel format used, make sure you did set range correctly\r\n",
      "\u001b[0m\u001b[1;34m[swscaler @ 0x1283e0000] \u001b[0m\u001b[1;34m[swscaler @ 0x130048000] \u001b[0m\u001b[0;33mdeprecated pixel format used, make sure you did set range correctly\r\n",
      "\u001b[0m\u001b[1;34m[swscaler @ 0x1283e0000] \u001b[0m\u001b[1;34m[swscaler @ 0x130058000] \u001b[0m\u001b[0;33mdeprecated pixel format used, make sure you did set range correctly\r\n",
      "\u001b[0m\u001b[1;34m[swscaler @ 0x1283e0000] \u001b[0m\u001b[1;34m[swscaler @ 0x130068000] \u001b[0m\u001b[0;33mdeprecated pixel format used, make sure you did set range correctly\r\n",
      "\u001b[0m\u001b[1;34m[swscaler @ 0x1283e0000] \u001b[0m\u001b[1;34m[swscaler @ 0x130078000] \u001b[0m\u001b[0;33mdeprecated pixel format used, make sure you did set range correctly\r\n",
      "\u001b[0m\u001b[1;34m[swscaler @ 0x1283e0000] \u001b[0m\u001b[1;34m[swscaler @ 0x130088000] \u001b[0m\u001b[0;33mdeprecated pixel format used, make sure you did set range correctly\r\n",
      "\u001b[0m\u001b[1;34m[swscaler @ 0x130088000] \u001b[0m\u001b[1;34m[swscaler @ 0x130098000] \u001b[0m\u001b[0;33mdeprecated pixel format used, make sure you did set range correctly\r\n",
      "\u001b[0m\u001b[1;34m[swscaler @ 0x130088000] \u001b[0m\u001b[1;34m[swscaler @ 0x1283e0000] \u001b[0m\u001b[0;33mdeprecated pixel format used, make sure you did set range correctly\r\n",
      "\u001b[0m\u001b[1;34m[swscaler @ 0x130088000] \u001b[0m\u001b[1;34m[swscaler @ 0x1283f0000] \u001b[0m\u001b[0;33mdeprecated pixel format used, make sure you did set range correctly\r\n",
      "\u001b[0m\u001b[1;34m[swscaler @ 0x130088000] \u001b[0m\u001b[1;34m[swscaler @ 0x128400000] \u001b[0m\u001b[0;33mdeprecated pixel format used, make sure you did set range correctly\r\n",
      "\u001b[0m\u001b[1;34m[swscaler @ 0x130088000] \u001b[0m\u001b[1;34m[swscaler @ 0x128410000] \u001b[0m\u001b[0;33mdeprecated pixel format used, make sure you did set range correctly\r\n",
      "\u001b[0m\u001b[1;34m[swscaler @ 0x130088000] \u001b[0m\u001b[1;34m[swscaler @ 0x128420000] \u001b[0m\u001b[0;33mdeprecated pixel format used, make sure you did set range correctly\r\n",
      "\u001b[0m\u001b[1;34m[swscaler @ 0x130088000] \u001b[0m\u001b[1;34m[swscaler @ 0x128430000] \u001b[0m\u001b[0;33mdeprecated pixel format used, make sure you did set range correctly\r\n",
      "\u001b[0m\u001b[1;34m[swscaler @ 0x130088000] \u001b[0m\u001b[1;34m[swscaler @ 0x128440000] \u001b[0m\u001b[0;33mdeprecated pixel format used, make sure you did set range correctly\r\n",
      "\u001b[0m\u001b[1;34m[swscaler @ 0x130088000] \u001b[0m\u001b[1;34m[swscaler @ 0x128450000] \u001b[0m\u001b[0;33mdeprecated pixel format used, make sure you did set range correctly\r\n",
      "\u001b[0m\u001b[1;34m[swscaler @ 0x130088000] \u001b[0m\u001b[1;34m[swscaler @ 0x138488000] \u001b[0m\u001b[0;33mdeprecated pixel format used, make sure you did set range correctly\r\n",
      "\u001b[0m\u001b[1;34m[swscaler @ 0x130088000] \u001b[0m\u001b[1;34m[swscaler @ 0x138498000] \u001b[0m\u001b[0;33mdeprecated pixel format used, make sure you did set range correctly\r\n",
      "\u001b[0m\u001b[1;34m[swscaler @ 0x130088000] \u001b[0m\u001b[1;34m[swscaler @ 0x138050000] \u001b[0m\u001b[0;33mdeprecated pixel format used, make sure you did set range correctly\r\n",
      "\u001b[0m\u001b[1;34m[swscaler @ 0x130088000] \u001b[0m\u001b[1;34m[swscaler @ 0x138060000] \u001b[0m\u001b[0;33mdeprecated pixel format used, make sure you did set range correctly\r\n",
      "\u001b[0m\u001b[1;34m[swscaler @ 0x130088000] \u001b[0m\u001b[1;34m[swscaler @ 0x138070000] \u001b[0m\u001b[0;33mdeprecated pixel format used, make sure you did set range correctly\r\n",
      "\u001b[0m\u001b[1;34m[swscaler @ 0x130088000] \u001b[0m\u001b[1;34m[swscaler @ 0x138080000] \u001b[0m\u001b[0;33mdeprecated pixel format used, make sure you did set range correctly\r\n",
      "\u001b[0m\u001b[1;34m[swscaler @ 0x130088000] \u001b[0m\u001b[1;34m[swscaler @ 0x1384a8000] \u001b[0m\u001b[0;33mdeprecated pixel format used, make sure you did set range correctly\r\n",
      "\u001b[0m\u001b[1;34m[swscaler @ 0x130088000] \u001b[0m\u001b[1;34m[swscaler @ 0x1384b8000] \u001b[0m\u001b[0;33mdeprecated pixel format used, make sure you did set range correctly\r\n",
      "\u001b[0m\u001b[1;34m[swscaler @ 0x130088000] \u001b[0m\u001b[1;34m[swscaler @ 0x1384c8000] \u001b[0m\u001b[0;33mdeprecated pixel format used, make sure you did set range correctly\r\n",
      "\u001b[0m\u001b[1;34m[swscaler @ 0x130088000] \u001b[0m\u001b[1;34m[swscaler @ 0x118008000] \u001b[0m\u001b[0;33mdeprecated pixel format used, make sure you did set range correctly\r\n",
      "\u001b[0m\u001b[1;34m[swscaler @ 0x130088000] \u001b[0m\u001b[1;34m[swscaler @ 0x118018000] \u001b[0m\u001b[0;33mdeprecated pixel format used, make sure you did set range correctly\r\n",
      "\u001b[0m\u001b[1;34m[swscaler @ 0x130088000] \u001b[0m\u001b[1;34m[swscaler @ 0x118028000] \u001b[0m\u001b[0;33mdeprecated pixel format used, make sure you did set range correctly\r\n",
      "\u001b[0m\u001b[1;34m[swscaler @ 0x130088000] \u001b[0m\u001b[1;34m[swscaler @ 0x118038000] \u001b[0m\u001b[0;33mdeprecated pixel format used, make sure you did set range correctly\r\n",
      "\u001b[0m\u001b[1;34m[swscaler @ 0x130088000] \u001b[0m\u001b[1;34m[swscaler @ 0x128450000] \u001b[0m\u001b[0;33mdeprecated pixel format used, make sure you did set range correctly\r\n",
      "\u001b[0m\u001b[1;34m[swscaler @ 0x130088000] \u001b[0m\u001b[1;34m[swscaler @ 0x128460000] \u001b[0m\u001b[0;33mdeprecated pixel format used, make sure you did set range correctly\r\n",
      "\u001b[0m\u001b[1;34m[swscaler @ 0x130088000] \u001b[0m\u001b[1;34m[swscaler @ 0x1283e0000] \u001b[0m\u001b[0;33mdeprecated pixel format used, make sure you did set range correctly\r\n",
      "\u001b[0m\u001b[1;34m[swscaler @ 0x130088000] \u001b[0m\u001b[1;34m[swscaler @ 0x1283f0000] \u001b[0m\u001b[0;33mdeprecated pixel format used, make sure you did set range correctly\r\n",
      "\u001b[0m\u001b[1;34m[swscaler @ 0x130088000] \u001b[0m\u001b[1;34m[swscaler @ 0x128400000] \u001b[0m\u001b[0;33mdeprecated pixel format used, make sure you did set range correctly\r\n",
      "\u001b[0m\u001b[1;36m[libx264 @ 0x147f06f90] \u001b[0musing SAR=1/1\r\n",
      "\u001b[1;36m[libx264 @ 0x147f06f90] \u001b[0musing cpu capabilities: ARMv8 NEON\r\n",
      "\u001b[1;36m[libx264 @ 0x147f06f90] \u001b[0mprofile High, level 4.0, 4:2:0, 8-bit\r\n",
      "\u001b[1;36m[libx264 @ 0x147f06f90] \u001b[0m264 - core 164 r3095 baee400 - H.264/MPEG-4 AVC codec - Copyleft 2003-2022 - http://www.videolan.org/x264.html - options: cabac=1 ref=3 deblock=1:0:0 analyse=0x3:0x113 me=hex subme=7 psy=1 psy_rd=1.00:0.00 mixed_ref=1 me_range=16 chroma_me=1 trellis=1 8x8dct=1 cqm=0 deadzone=21,11 fast_pskip=1 chroma_qp_offset=-2 threads=12 lookahead_threads=2 sliced_threads=0 nr=0 decimate=1 interlaced=0 bluray_compat=0 constrained_intra=0 bframes=3 b_pyramid=2 b_adapt=1 b_bias=0 direct=1 weightb=1 open_gop=0 weightp=2 keyint=250 keyint_min=25 scenecut=40 intra_refresh=0 rc_lookahead=40 rc=crf mbtree=1 crf=23.0 qcomp=0.60 qpmin=0 qpmax=69 qpstep=4 ip_ratio=1.40 aq=1:1.00\r\n",
      "Output #0, mp4, to 'linear-movie.mp4':\r\n",
      "  Metadata:\r\n",
      "    encoder         : Lavf59.27.100\r\n",
      "  Stream #0:0: Video: h264 (avc1 / 0x31637661), yuv420p(tv, bt470bg/unknown/unknown, progressive), 1200x1200 [SAR 1:1 DAR 1:1], q=2-31, 25 fps, 12800 tbn\r\n",
      "    Metadata:\r\n",
      "      encoder         : Lavc59.37.100 libx264\r\n",
      "    Side data:\r\n",
      "      cpb: bitrate max/min/avg: 0/0/0 buffer size: 0 vbv_delay: N/A\r\n"
     ]
    },
    {
     "name": "stdout",
     "output_type": "stream",
     "text": [
      "frame=   65 fps= 54 q=-1.0 Lsize=    3265kB time=00:00:02.48 bitrate=10785.1kbits/s speed=2.06x    \n",
      "video:3264kB audio:0kB subtitle:0kB other streams:0kB global headers:0kB muxing overhead: 0.035425%\n",
      "\u001b[1;36m[libx264 @ 0x147f06f90] \u001b[0mframe I:1     Avg QP:22.00  size:142016\n",
      "\u001b[1;36m[libx264 @ 0x147f06f90] \u001b[0mframe P:64    Avg QP:25.34  size: 49994\n",
      "\u001b[1;36m[libx264 @ 0x147f06f90] \u001b[0mmb I  I16..4: 32.3% 17.9% 49.7%\n",
      "\u001b[1;36m[libx264 @ 0x147f06f90] \u001b[0mmb P  I16..4:  0.1%  0.1%  0.3%  P16..4: 12.3% 13.2% 17.0%  0.0%  0.0%    skip:57.0%\n",
      "\u001b[1;36m[libx264 @ 0x147f06f90] \u001b[0m8x8 transform intra:20.1% inter:18.9%\n",
      "\u001b[1;36m[libx264 @ 0x147f06f90] \u001b[0mcoded y,uvDC,uvAC intra: 39.3% 0.4% 0.4% inter: 23.9% 0.1% 0.1%\n",
      "\u001b[1;36m[libx264 @ 0x147f06f90] \u001b[0mi16 v,h,dc,p: 81% 10%  8%  1%\n",
      "\u001b[1;36m[libx264 @ 0x147f06f90] \u001b[0mi8 v,h,dc,ddl,ddr,vr,hd,vl,hu: 52%  9% 32%  3%  0%  1%  0%  1%  1%\n",
      "\u001b[1;36m[libx264 @ 0x147f06f90] \u001b[0mi4 v,h,dc,ddl,ddr,vr,hd,vl,hu: 38% 13% 22%  5%  5%  5%  4%  5%  3%\n",
      "\u001b[1;36m[libx264 @ 0x147f06f90] \u001b[0mi8c dc,h,v,p: 99%  0%  1%  0%\n",
      "\u001b[1;36m[libx264 @ 0x147f06f90] \u001b[0mWeighted P-Frames: Y:0.0% UV:0.0%\n",
      "\u001b[1;36m[libx264 @ 0x147f06f90] \u001b[0mref P L0: 80.4% 12.2%  3.7%  3.6%\n",
      "\u001b[1;36m[libx264 @ 0x147f06f90] \u001b[0mkb/s:10281.86\n"
     ]
    }
   ],
   "source": [
    "!ffmpeg -y -i %03d-linear-dipole.jpg -pix_fmt yuv420p linear-movie.mp4"
   ]
  },
  {
   "cell_type": "code",
   "execution_count": 4,
   "id": "699fa3c2",
   "metadata": {},
   "outputs": [
    {
     "data": {
      "text/html": [
       "\n",
       "    <video width=\"800\" height=\"800\" alt=\"test\" controls loop>\n",
       "        <source src=linear-movie.mp4 type=\"video/mp4\">\n",
       "    </video>\n"
      ],
      "text/plain": [
       "<IPython.core.display.HTML object>"
      ]
     },
     "execution_count": 4,
     "metadata": {},
     "output_type": "execute_result"
    }
   ],
   "source": [
    "# Play the movie within the notebook.\n",
    "HTML(\"\"\"\n",
    "    <video width=\"800\" height=\"800\" alt=\"test\" controls loop>\n",
    "        <source src=%s type=\"video/mp4\">\n",
    "    </video>\n",
    "\"\"\" % \"linear-movie.mp4\")"
   ]
  },
  {
   "cell_type": "markdown",
   "id": "a3b9ce21",
   "metadata": {},
   "source": [
    "### Questions\n",
    "\n",
    "Describe the field pattern.\n",
    "\n",
    "- What does the field to look like?\n",
    "- In what directions will the strength of the field be strongest? Weakest?\n",
    "\n",
    "***Report your observations below.***"
   ]
  },
  {
   "cell_type": "markdown",
   "id": "3b8b29d9",
   "metadata": {},
   "source": [
    "REPLACE WITH YOUR RESPONSE."
   ]
  },
  {
   "cell_type": "markdown",
   "id": "47f3b8da",
   "metadata": {},
   "source": [
    "Would you describe this radiation as a \"plane wave\"?  Why or why not?\n",
    "\n",
    "***Share your opinion below.***"
   ]
  },
  {
   "cell_type": "markdown",
   "id": "09c075af",
   "metadata": {},
   "source": [
    "REPLACE WITH YOUR RESPONSE."
   ]
  },
  {
   "cell_type": "markdown",
   "id": "79574a6a",
   "metadata": {},
   "source": [
    "**Different Axis**\n",
    "\n",
    "How would you expect the pattern to change if you rotated the dipole by 90°?\n",
    "\n",
    "***Report your prediction below.***"
   ]
  },
  {
   "cell_type": "markdown",
   "id": "9fea28cd",
   "metadata": {},
   "source": [
    "REPLACE WITH YOUR RESPONSE."
   ]
  },
  {
   "cell_type": "markdown",
   "id": "9390de6d",
   "metadata": {},
   "source": [
    "The code above contains instructions for viewing a dipole oscillating along the x-axis.\n",
    "\n",
    "Comment out the three lines below\n",
    "```\n",
    "    ## Dipole oscillating along z-axis.\n",
    "```\n",
    "Uncomment the three lines below\n",
    "```\n",
    "    ## Dipole oscillating along x-axis.\n",
    "```\n",
    "Rerun the simulation.\n",
    "\n",
    "- Describe what you see.\n",
    "- Assess your predictions.\n",
    "\n",
    "***Report your observations below.***"
   ]
  },
  {
   "cell_type": "markdown",
   "id": "046da479",
   "metadata": {},
   "source": [
    "REPLACE WITH YOUR RESPONSE."
   ]
  },
  {
   "cell_type": "markdown",
   "id": "773d3dd3",
   "metadata": {},
   "source": [
    "## Rotating Dipole\n",
    "\n",
    "Instead of a single dipole oscillating along the $y$-axis, analyze a dipole that is rotating in the $xy$-plane.  The dipole moment is\n",
    "\n",
    "$$\\vec{p}(t) = p_0 \\left(\\hat{e}_x \\cos \\omega t + \\hat{e}_z \\sin \\omega t \\right)$$\n",
    "\n",
    "This is equivalent to two _linear_ dipoles at right angles to each other, oscillating $90^\\circ$ out of phase.\n",
    "\n",
    "The code below simply adds together the fields of the two dipoles you just observed.  Before you run it, make some predictions.\n",
    "\n",
    "- What do you expect the field to look like?\n",
    "- In what directions will the strength of the field be strongest? Weakest?\n",
    "\n",
    "***Write your predictions below.***"
   ]
  },
  {
   "cell_type": "markdown",
   "id": "c43b4f82",
   "metadata": {},
   "source": [
    "REPLACE WITH YOUR RESPONSE."
   ]
  },
  {
   "cell_type": "code",
   "execution_count": 5,
   "id": "2fcef72a",
   "metadata": {},
   "outputs": [
    {
     "name": "stdout",
     "output_type": "stream",
     "text": [
      "Completed frame 65 of 65.\r"
     ]
    }
   ],
   "source": [
    "from scipy.constants import c as speed_of_light\n",
    "\n",
    "# Wavelength in m.\n",
    "lambda0 = 700e-9\n",
    "\n",
    "# Wavelength in um.\n",
    "wavelength = lambda0 * 1e6\n",
    "\n",
    "# Period in fs.\n",
    "period = 1e15 * lambda0 / speed_of_light\n",
    "\n",
    "# Define grid of points and array of times for plotting.\n",
    "t_max = period\n",
    "dt = period / 64\n",
    "t_values = np.arange(0, t_max + dt, dt)\n",
    "N = len(t_values)\n",
    "\n",
    "x_max = 3 * wavelength\n",
    "dx = wavelength / 10\n",
    "coordinates = np.arange(-x_max, x_max + dx, dx)\n",
    "\n",
    "X,Z = np.meshgrid(coordinates, coordinates)\n",
    "R = np.sqrt(X**2 + Z**2 + 1e-6)\n",
    "theta = np.arctan2(X,Z)\n",
    "\n",
    "# Define field strength and cutoff for rescaling large values.\n",
    "E0 = 2.0\n",
    "E_cut = 1.0\n",
    "R_cut = 0.5*wavelength\n",
    "\n",
    "# Remove any existing movie frames.\n",
    "system('rm -f *-rotating-dipole.jpg')\n",
    "\n",
    "# It is essential that the frames be named in alphabetical order.\n",
    "# {:03d} will display integers with three digits and insert zeros if needed:\n",
    "# '000_movie.jpg', '001_movie.jpg', etc.\n",
    "file_name = \"{:03d}-rotating-dipole.jpg\"\n",
    "\n",
    "\n",
    "plt.figure(figsize=(6,6), dpi=200)\n",
    "# Generate frames and save each figure as a separate .jpg file.\n",
    "for i, t in enumerate(t_values):\n",
    "    # Plot the dipole that is creating the fields.\n",
    "    pz = -np.cos(2*np.pi * (t/period))\n",
    "    px = -np.sin(2*np.pi * (t/period))\n",
    "\n",
    "    # Compute magnitudes of fields.\n",
    "    E1 = E0 * wavelength * np.sin(theta) * np.cos(2*np.pi * (t/period - R/wavelength)) / R\n",
    "    E2 = -E0 * wavelength * np.cos(theta) * np.sin(2*np.pi * (t/period - R/wavelength)) / R\n",
    "\n",
    "    Ex = (E1 + E2) * np.cos(theta)\n",
    "    Ez = -(E1 + E2) * np.sin(theta)\n",
    "\n",
    "    # Rescale large values.\n",
    "    Ex[R<R_cut] = 0\n",
    "    Ez[R<R_cut] = 0\n",
    "    E = np.sqrt(Ex**2 + Ez**2) \n",
    "    bad = E > E_cut\n",
    "    Ex[bad] = E_cut * Ex[bad] / E[bad]\n",
    "    Ez[bad] = E_cut * Ez[bad] / E[bad]\n",
    "\n",
    "    # Make plot and save to file.\n",
    "    plt.quiver(X, Z, Ex, Ez, pivot='middle', lw=1, scale=40)\n",
    "    plt.quiver(0,0,px,pz, pivot='middle', color='red', lw=1, scale=10)\n",
    "    plt.xlabel('X [um]')\n",
    "    plt.ylabel('Z [um]')\n",
    "    plt.savefig(file_name.format(i))  # save current plot\n",
    "\n",
    "    # Clear plot for next frame.\n",
    "    plt.cla()\n",
    "    \n",
    "    print(\"Completed frame %d of %d.\\r\" % (i+1,N), end='')\n",
    "\n",
    "plt.close()"
   ]
  },
  {
   "cell_type": "code",
   "execution_count": 6,
   "id": "e342ebf7",
   "metadata": {},
   "outputs": [
    {
     "name": "stdout",
     "output_type": "stream",
     "text": [
      "ffmpeg version 5.1.2 Copyright (c) 2000-2022 the FFmpeg developers\r\n",
      "  built with clang version 14.0.4\r\n",
      "  configuration: --prefix=/Users/runner/miniforge3/conda-bld/ffmpeg_1666357556406/_h_env_placehold_placehold_placehold_placehold_placehold_placehold_placehold_placehold_placehold_placehold_placehold_placehold_placehold_placehold_placehold_placehold_placehold_placehold_placehold_pl --cc=arm64-apple-darwin20.0.0-clang --cxx=arm64-apple-darwin20.0.0-clang++ --nm=arm64-apple-darwin20.0.0-nm --ar=arm64-apple-darwin20.0.0-ar --disable-doc --disable-openssl --enable-demuxer=dash --enable-hardcoded-tables --enable-libfreetype --enable-libfontconfig --enable-libopenh264 --enable-cross-compile --arch=arm64 --target-os=darwin --cross-prefix=arm64-apple-darwin20.0.0- --host-cc=/Users/runner/miniforge3/conda-bld/ffmpeg_1666357556406/_build_env/bin/x86_64-apple-darwin13.4.0-clang --enable-neon --enable-gnutls --enable-libmp3lame --enable-libvpx --enable-pthreads --enable-gpl --enable-libx264 --enable-libx265 --enable-libaom --enable-libsvtav1 --enable-libxml2 --enable-pic --enable-shared --disable-static --enable-version3 --enable-zlib --pkg-config=/Users/runner/miniforge3/conda-bld/ffmpeg_1666357556406/_build_env/bin/pkg-config\r\n",
      "  libavutil      57. 28.100 / 57. 28.100\r\n",
      "  libavcodec     59. 37.100 / 59. 37.100\r\n",
      "  libavformat    59. 27.100 / 59. 27.100\r\n",
      "  libavdevice    59.  7.100 / 59.  7.100\r\n",
      "  libavfilter     8. 44.100 /  8. 44.100\r\n",
      "  libswscale      6.  7.100 /  6.  7.100\r\n",
      "  libswresample   4.  7.100 /  4.  7.100\r\n",
      "  libpostproc    56.  6.100 / 56.  6.100\r\n",
      "Input #0, image2, from '%03d-rotating-dipole.jpg':\r\n",
      "  Duration: 00:00:02.60, start: 0.000000, bitrate: N/A\r\n",
      "  Stream #0:0: Video: mjpeg (Baseline), yuvj420p(pc, bt470bg/unknown/unknown), 1200x1200 [SAR 200:200 DAR 1:1], 25 fps, 25 tbr, 25 tbn\r\n",
      "Stream mapping:\r\n",
      "  Stream #0:0 -> #0:0 (mjpeg (native) -> h264 (libx264))\r\n",
      "Press [q] to stop, [?] for help\r\n",
      "\u001b[1;34m[swscaler @ 0x128008000] \u001b[0m\u001b[1;34m[swscaler @ 0x128018000] \u001b[0m\u001b[0;33mdeprecated pixel format used, make sure you did set range correctly\r\n",
      "\u001b[0m\u001b[1;34m[swscaler @ 0x128008000] \u001b[0m\u001b[1;34m[swscaler @ 0x1400a0000] \u001b[0m\u001b[0;33mdeprecated pixel format used, make sure you did set range correctly\r\n",
      "\u001b[0m\u001b[1;34m[swscaler @ 0x128008000] \u001b[0m\u001b[1;34m[swscaler @ 0x1400b0000] \u001b[0m\u001b[0;33mdeprecated pixel format used, make sure you did set range correctly\r\n",
      "\u001b[0m\u001b[1;34m[swscaler @ 0x128008000] \u001b[0m\u001b[1;34m[swscaler @ 0x1400c0000] \u001b[0m\u001b[0;33mdeprecated pixel format used, make sure you did set range correctly\r\n",
      "\u001b[0m\u001b[1;34m[swscaler @ 0x128008000] \u001b[0m\u001b[1;34m[swscaler @ 0x1385d0000] \u001b[0m\u001b[0;33mdeprecated pixel format used, make sure you did set range correctly\r\n",
      "\u001b[0m\u001b[1;34m[swscaler @ 0x128008000] \u001b[0m\u001b[1;34m[swscaler @ 0x1481c8000] \u001b[0m\u001b[0;33mdeprecated pixel format used, make sure you did set range correctly\r\n",
      "\u001b[0m\u001b[1;34m[swscaler @ 0x128008000] \u001b[0m\u001b[1;34m[swscaler @ 0x1481d8000] \u001b[0m\u001b[0;33mdeprecated pixel format used, make sure you did set range correctly\r\n",
      "\u001b[0m\u001b[1;34m[swscaler @ 0x128008000] \u001b[0m\u001b[1;34m[swscaler @ 0x1481e8000] \u001b[0m\u001b[0;33mdeprecated pixel format used, make sure you did set range correctly\r\n",
      "\u001b[0m\u001b[1;34m[swscaler @ 0x128008000] \u001b[0m\u001b[1;34m[swscaler @ 0x1481f8000] \u001b[0m\u001b[0;33mdeprecated pixel format used, make sure you did set range correctly\r\n",
      "\u001b[0m\u001b[1;34m[swscaler @ 0x128008000] \u001b[0m\u001b[1;34m[swscaler @ 0x128018000] \u001b[0m\u001b[0;33mdeprecated pixel format used, make sure you did set range correctly\r\n",
      "\u001b[0m\u001b[1;34m[swscaler @ 0x128008000] \u001b[0m\u001b[1;34m[swscaler @ 0x128028000] \u001b[0m\u001b[0;33mdeprecated pixel format used, make sure you did set range correctly\r\n",
      "\u001b[0m\u001b[1;34m[swscaler @ 0x128008000] \u001b[0m\u001b[1;34m[swscaler @ 0x128038000] \u001b[0m\u001b[0;33mdeprecated pixel format used, make sure you did set range correctly\r\n",
      "\u001b[0m\u001b[1;34m[swscaler @ 0x128008000] \u001b[0m\u001b[1;34m[swscaler @ 0x1481f8000] \u001b[0m\u001b[0;33mdeprecated pixel format used, make sure you did set range correctly\r\n",
      "\u001b[0m\u001b[1;34m[swscaler @ 0x128008000] \u001b[0m\u001b[1;34m[swscaler @ 0x148208000] \u001b[0m\u001b[0;33mdeprecated pixel format used, make sure you did set range correctly\r\n",
      "\u001b[0m\u001b[1;34m[swscaler @ 0x128008000] \u001b[0m\u001b[1;34m[swscaler @ 0x1481c8000] \u001b[0m\u001b[0;33mdeprecated pixel format used, make sure you did set range correctly\r\n",
      "\u001b[0m\u001b[1;34m[swscaler @ 0x128008000] \u001b[0m\u001b[1;34m[swscaler @ 0x1481d8000] \u001b[0m\u001b[0;33mdeprecated pixel format used, make sure you did set range correctly\r\n",
      "\u001b[0m\u001b[1;34m[swscaler @ 0x128008000] \u001b[0m\u001b[1;34m[swscaler @ 0x1481e8000] \u001b[0m\u001b[0;33mdeprecated pixel format used, make sure you did set range correctly\r\n",
      "\u001b[0m\u001b[1;34m[swscaler @ 0x128008000] \u001b[0m\u001b[1;34m[swscaler @ 0x128048000] \u001b[0m\u001b[0;33mdeprecated pixel format used, make sure you did set range correctly\r\n",
      "\u001b[0m\u001b[1;34m[swscaler @ 0x1481e8000] \u001b[0m\u001b[1;34m[swscaler @ 0x1481c8000] \u001b[0m\u001b[0;33mdeprecated pixel format used, make sure you did set range correctly\r\n",
      "\u001b[0m\u001b[1;34m[swscaler @ 0x1481e8000] \u001b[0m\u001b[1;34m[swscaler @ 0x1481d8000] \u001b[0m\u001b[0;33mdeprecated pixel format used, make sure you did set range correctly\r\n",
      "\u001b[0m\u001b[1;34m[swscaler @ 0x1481e8000] \u001b[0m\u001b[1;34m[swscaler @ 0x1385d0000] \u001b[0m\u001b[0;33mdeprecated pixel format used, make sure you did set range correctly\r\n",
      "\u001b[0m\u001b[1;34m[swscaler @ 0x1481e8000] \u001b[0m\u001b[1;34m[swscaler @ 0x1481f8000] \u001b[0m\u001b[0;33mdeprecated pixel format used, make sure you did set range correctly\r\n",
      "\u001b[0m\u001b[1;34m[swscaler @ 0x1481e8000] \u001b[0m\u001b[1;34m[swscaler @ 0x148208000] \u001b[0m\u001b[0;33mdeprecated pixel format used, make sure you did set range correctly\r\n",
      "\u001b[0m\u001b[1;34m[swscaler @ 0x1481e8000] \u001b[0m\u001b[1;34m[swscaler @ 0x1385e0000] \u001b[0m\u001b[0;33mdeprecated pixel format used, make sure you did set range correctly\r\n",
      "\u001b[0m\u001b[1;34m[swscaler @ 0x1481e8000] \u001b[0m\u001b[1;34m[swscaler @ 0x138008000] \u001b[0m\u001b[0;33mdeprecated pixel format used, make sure you did set range correctly\r\n",
      "\u001b[0m\u001b[1;34m[swscaler @ 0x1481e8000] \u001b[0m\u001b[1;34m[swscaler @ 0x138018000] \u001b[0m\u001b[0;33mdeprecated pixel format used, make sure you did set range correctly\r\n",
      "\u001b[0m\u001b[1;34m[swscaler @ 0x1481e8000] \u001b[0m\u001b[1;34m[swscaler @ 0x138028000] \u001b[0m\u001b[0;33mdeprecated pixel format used, make sure you did set range correctly\r\n",
      "\u001b[0m\u001b[1;34m[swscaler @ 0x138028000] \u001b[0m\u001b[1;34m[swscaler @ 0x138008000] \u001b[0m\u001b[0;33mdeprecated pixel format used, make sure you did set range correctly\r\n",
      "\u001b[0m\u001b[1;34m[swscaler @ 0x138028000] \u001b[0m\u001b[1;34m[swscaler @ 0x138018000] \u001b[0m\u001b[0;33mdeprecated pixel format used, make sure you did set range correctly\r\n",
      "\u001b[0m\u001b[1;34m[swscaler @ 0x138028000] \u001b[0m\u001b[1;34m[swscaler @ 0x1385d0000] \u001b[0m\u001b[0;33mdeprecated pixel format used, make sure you did set range correctly\r\n",
      "\u001b[0m\u001b[1;34m[swscaler @ 0x138028000] \u001b[0m\u001b[1;34m[swscaler @ 0x1385e0000] \u001b[0m\u001b[0;33mdeprecated pixel format used, make sure you did set range correctly\r\n",
      "\u001b[0m\u001b[1;34m[swscaler @ 0x138028000] \u001b[0m\u001b[1;34m[swscaler @ 0x138038000] \u001b[0m\u001b[0;33mdeprecated pixel format used, make sure you did set range correctly\r\n",
      "\u001b[0m\u001b[1;34m[swscaler @ 0x138028000] \u001b[0m\u001b[1;34m[swscaler @ 0x1400c0000] \u001b[0m\u001b[0;33mdeprecated pixel format used, make sure you did set range correctly\r\n",
      "\u001b[0m\u001b[1;34m[swscaler @ 0x138028000] \u001b[0m\u001b[1;34m[swscaler @ 0x1400d0000] \u001b[0m\u001b[0;33mdeprecated pixel format used, make sure you did set range correctly\r\n",
      "\u001b[0m\u001b[1;34m[swscaler @ 0x138028000] \u001b[0m\u001b[1;34m[swscaler @ 0x1400a0000] \u001b[0m\u001b[0;33mdeprecated pixel format used, make sure you did set range correctly\r\n",
      "\u001b[0m\u001b[1;34m[swscaler @ 0x138028000] \u001b[0m\u001b[1;34m[swscaler @ 0x1481e8000] \u001b[0m\u001b[0;33mdeprecated pixel format used, make sure you did set range correctly\r\n",
      "\u001b[0m\u001b[1;36m[libx264 @ 0x157e0d020] \u001b[0musing SAR=1/1\r\n",
      "\u001b[1;36m[libx264 @ 0x157e0d020] \u001b[0musing cpu capabilities: ARMv8 NEON\r\n",
      "\u001b[1;36m[libx264 @ 0x157e0d020] \u001b[0mprofile High, level 4.0, 4:2:0, 8-bit\r\n",
      "\u001b[1;36m[libx264 @ 0x157e0d020] \u001b[0m264 - core 164 r3095 baee400 - H.264/MPEG-4 AVC codec - Copyleft 2003-2022 - http://www.videolan.org/x264.html - options: cabac=1 ref=3 deblock=1:0:0 analyse=0x3:0x113 me=hex subme=7 psy=1 psy_rd=1.00:0.00 mixed_ref=1 me_range=16 chroma_me=1 trellis=1 8x8dct=1 cqm=0 deadzone=21,11 fast_pskip=1 chroma_qp_offset=-2 threads=12 lookahead_threads=2 sliced_threads=0 nr=0 decimate=1 interlaced=0 bluray_compat=0 constrained_intra=0 bframes=3 b_pyramid=2 b_adapt=1 b_bias=0 direct=1 weightb=1 open_gop=0 weightp=2 keyint=250 keyint_min=25 scenecut=40 intra_refresh=0 rc_lookahead=40 rc=crf mbtree=1 crf=23.0 qcomp=0.60 qpmin=0 qpmax=69 qpstep=4 ip_ratio=1.40 aq=1:1.00\r\n",
      "Output #0, mp4, to 'rotating-movie.mp4':\r\n",
      "  Metadata:\r\n",
      "    encoder         : Lavf59.27.100\r\n",
      "  Stream #0:0: Video: h264 (avc1 / 0x31637661), yuv420p(tv, bt470bg/unknown/unknown, progressive), 1200x1200 [SAR 1:1 DAR 1:1], q=2-31, 25 fps, 12800 tbn\r\n",
      "    Metadata:\r\n",
      "      encoder         : Lavc59.37.100 libx264\r\n",
      "    Side data:\r",
      "\r\n",
      "      cpb: bitrate max/min/avg: 0/0/0 buffer size: 0 vbv_delay: N/A\r\n"
     ]
    },
    {
     "name": "stdout",
     "output_type": "stream",
     "text": [
      "frame=   65 fps= 53 q=-1.0 Lsize=    3057kB time=00:00:02.48 bitrate=10096.7kbits/s speed=2.01x    6x    \n",
      "video:3055kB audio:0kB subtitle:0kB other streams:0kB global headers:0kB muxing overhead: 0.050759%\n",
      "\u001b[1;36m[libx264 @ 0x157e0d020] \u001b[0mframe I:1     Avg QP:22.16  size:176984\n",
      "\u001b[1;36m[libx264 @ 0x157e0d020] \u001b[0mframe P:32    Avg QP:25.09  size: 67735\n",
      "\u001b[1;36m[libx264 @ 0x157e0d020] \u001b[0mframe B:32    Avg QP:29.38  size: 24478\n",
      "\u001b[1;36m[libx264 @ 0x157e0d020] \u001b[0mconsecutive B-frames: 33.8%  0.0%  4.6% 61.5%\n",
      "\u001b[1;36m[libx264 @ 0x157e0d020] \u001b[0mmb I  I16..4: 33.0% 15.2% 51.8%\n",
      "\u001b[1;36m[libx264 @ 0x157e0d020] \u001b[0mmb P  I16..4:  0.4%  0.1%  0.4%  P16..4: 10.9% 15.4% 21.2%  0.0%  0.0%    skip:51.7%\n",
      "\u001b[1;36m[libx264 @ 0x157e0d020] \u001b[0mmb B  I16..4:  0.1%  0.0%  0.0%  B16..8:  7.3%  7.0% 10.3%  direct:13.2%  skip:62.0%  L0:45.7% L1:32.2% BI:22.2%\n",
      "\u001b[1;36m[libx264 @ 0x157e0d020] \u001b[0m8x8 transform intra:14.9% inter:13.0%\n",
      "\u001b[1;36m[libx264 @ 0x157e0d020] \u001b[0mcoded y,uvDC,uvAC intra: 41.4% 0.7% 0.7% inter: 21.9% 0.2% 0.2%\n",
      "\u001b[1;36m[libx264 @ 0x157e0d020] \u001b[0mi16 v,h,dc,p: 84% 13%  3%  0%\n",
      "\u001b[1;36m[libx264 @ 0x157e0d020] \u001b[0mi8 v,h,dc,ddl,ddr,vr,hd,vl,hu: 52%  5% 37%  2%  1%  0%  1%  1%  2%\n",
      "\u001b[1;36m[libx264 @ 0x157e0d020] \u001b[0mi4 v,h,dc,ddl,ddr,vr,hd,vl,hu: 30% 16% 15%  6%  7%  7%  6%  5%  6%\n",
      "\u001b[1;36m[libx264 @ 0x157e0d020] \u001b[0mi8c dc,h,v,p: 99%  0%  0%  0%\n",
      "\u001b[1;36m[libx264 @ 0x157e0d020] \u001b[0mWeighted P-Frames: Y:0.0% UV:0.0%\n",
      "\u001b[1;36m[libx264 @ 0x157e0d020] \u001b[0mref P L0: 56.6% 11.9% 17.3% 14.1%\n",
      "\u001b[1;36m[libx264 @ 0x157e0d020] \u001b[0mref B L0: 76.5% 11.6% 11.8%\n",
      "\u001b[1;36m[libx264 @ 0x157e0d020] \u001b[0mref B L1: 97.5%  2.5%\n",
      "\u001b[1;36m[libx264 @ 0x157e0d020] \u001b[0mkb/s:9623.98\n"
     ]
    }
   ],
   "source": [
    "!ffmpeg -y -i %03d-rotating-dipole.jpg -pix_fmt yuv420p rotating-movie.mp4"
   ]
  },
  {
   "cell_type": "code",
   "execution_count": 7,
   "id": "72407b9e",
   "metadata": {},
   "outputs": [
    {
     "data": {
      "text/html": [
       "\n",
       "    <video width=\"800\" height=\"800\" alt=\"test\" controls loop>\n",
       "        <source src=rotating-movie.mp4 type=\"video/mp4\">\n",
       "    </video>\n"
      ],
      "text/plain": [
       "<IPython.core.display.HTML object>"
      ]
     },
     "execution_count": 7,
     "metadata": {},
     "output_type": "execute_result"
    }
   ],
   "source": [
    "# Play the movie within the notebook.\n",
    "HTML(\"\"\"\n",
    "    <video width=\"800\" height=\"800\" alt=\"test\" controls loop>\n",
    "        <source src=%s type=\"video/mp4\">\n",
    "    </video>\n",
    "\"\"\" % \"rotating-movie.mp4\")"
   ]
  },
  {
   "cell_type": "markdown",
   "id": "f56308b8",
   "metadata": {},
   "source": [
    "### Questions\n",
    "\n",
    "Describe the field pattern.\n",
    "\n",
    "- What does the field to look like?\n",
    "- In what directions will the strength of the field be strongest? Weakest?\n",
    "\n",
    "***Report your observations below.***"
   ]
  },
  {
   "cell_type": "markdown",
   "id": "75c95745",
   "metadata": {},
   "source": [
    "REPLACE WITH YOUR RESPONSE."
   ]
  },
  {
   "cell_type": "markdown",
   "id": "0579310b",
   "metadata": {},
   "source": [
    "Would you describe this radiation as a \"plane wave\"?  Why or why not?\n",
    "\n",
    "***Share your opinion below.***"
   ]
  },
  {
   "cell_type": "markdown",
   "id": "332a5da9",
   "metadata": {},
   "source": [
    "REPLACE WITH YOUR RESPONSE."
   ]
  },
  {
   "cell_type": "markdown",
   "id": "9e88fc41",
   "metadata": {},
   "source": [
    "Modify the code above to make the dipole rotate in the opposite direction ***and*** produce the correct radiation pattern.\n",
    "\n",
    "**Hint:** It only requires two minus signs ...\n",
    "\n",
    "- Describe your attempts and your results.\n",
    "- Why are only two minus signs required?\n",
    "\n",
    "***Report your observations below.***"
   ]
  },
  {
   "cell_type": "markdown",
   "id": "7b9e79b9",
   "metadata": {},
   "source": [
    "REPLACE WITH YOUR RESPONSE."
   ]
  },
  {
   "cell_type": "markdown",
   "id": "db4f7e77",
   "metadata": {},
   "source": [
    "What would happen if the dipole along the x-axis were **half as large** as the dipole along the z-axis?\n",
    "\n",
    "- How do you think this would change the field pattern?  Why?\n",
    "\n",
    "***Report your predictions below.***"
   ]
  },
  {
   "cell_type": "markdown",
   "id": "457d217e",
   "metadata": {},
   "source": [
    "REPLACE WITH YOUR RESPONSE."
   ]
  },
  {
   "cell_type": "markdown",
   "id": "0b83589c",
   "metadata": {},
   "source": [
    "Modify the code above so that the dipole along the  x-axis is **half as large** as that along the z-axis.  You will need to modify `px` and `E2`.\n",
    "\n",
    "- How does this change the field pattern?\n",
    "\n",
    "***Report your observations below.***"
   ]
  },
  {
   "cell_type": "markdown",
   "id": "d679cb36",
   "metadata": {},
   "source": [
    "REPLACE WITH YOUR RESPONSE."
   ]
  },
  {
   "cell_type": "markdown",
   "id": "672834ea",
   "metadata": {},
   "source": [
    "# Reflection and Summary\n",
    "\n",
    "- What are the major takeaways of this assignment for you?\n",
    "- What was the most difficult part of this assignment?\n",
    "- What was the most interesting part of this assignment?\n",
    "- What questions do you have?\n",
    "\n",
    "***Include your response below.***"
   ]
  },
  {
   "cell_type": "markdown",
   "id": "e4b840e6",
   "metadata": {},
   "source": [
    "REPLACE WITH YOUR RESPONSE."
   ]
  },
  {
   "cell_type": "markdown",
   "id": "9485dbc5",
   "metadata": {},
   "source": [
    "# Challenge Problems\n",
    "\n",
    "The challenge problems below ask you to extend the simulation above.  \n",
    "\n",
    "## Near Fields\n",
    "\n",
    "The simulations above only include the radiation field — the portion of the field that decreases as $1/r$.  Far from the source, this is the only part that matters.  Near the source, the other contributions to the electric field are the most important.\n",
    "\n",
    "Refer to Equation (9.39) in _CER_.  Try to plot the full electric field for the dipole\n",
    "\n",
    "$$\\vec{p} = p_0 \\, \\hat{e}_z \\, \\cos \\omega t$$\n",
    "\n",
    "\n",
    "## Multiple Sources\n",
    "\n",
    "In the code above, all of the dipoles are at the origin.  Adapt the code above to simulate the field of two dipoles at different locations.\n",
    "\n",
    "\n",
    "## 3D Plots\n",
    "\n",
    "Adapt the code to plot the field of a linear dipole or a rotating dipole in three dimensions.\n",
    "\n",
    "\n",
    "## Plot Everything\n",
    "\n",
    "Add the magnetic field and the Poynting vector to a 3D simulation!"
   ]
  },
  {
   "cell_type": "code",
   "execution_count": null,
   "id": "a15b9da2",
   "metadata": {},
   "outputs": [],
   "source": [
    "### Replace with your code."
   ]
  },
  {
   "cell_type": "markdown",
   "id": "ff9edead",
   "metadata": {},
   "source": [
    "## A note on coordinates and formulae\n",
    "\n",
    "The simulation above uses spherical coordinates to match equations in textbooks.  However, this is not always convenient for simulating problems on a grid.  For instance, the equations for the fields assume the dipoles are at the origin.  If there are two dipoles at different locations, \"$\\hat{e}_r$\" and \"$\\hat{e}_\\theta$\" in the formulas are ***not*** the same vector for both dipoles.\n",
    "\n",
    "It might be easier to work in Cartesian coordinates.  The following relations may be useful if you attempt the challenge problems. If the location of the dipole is $(x_0, y_0, z_0)$, then the textbook formulae translate as follows.\n",
    "\n",
    "\\begin{align*}\n",
    "r &= \\sqrt{(x-x_0)^2 + (y-y_0)^2 + (z-z_0)^2} \\\\\n",
    "\\cos \\theta & = \\dfrac{z-z_0}{r} \\\\\n",
    "\\sin \\theta &= \\dfrac{\\sqrt{(x-x_0)^2 + (y-y_0)^2}}{r} \\\\\n",
    "\\cos \\phi &= \\dfrac{x-x_0}{\\sqrt{(x-x_0)^2+(y-y_0)^2}} \\\\\n",
    "\\sin \\phi &= \\dfrac{y-y_0}{\\sqrt{(x-x_0)^2+(y-y_0)^2}} \\\\\n",
    "\\hat{e}_r &= \\hat{e}_x \\, \\sin \\theta \\cos \\phi + \\hat{e}_y \\, \\sin \\theta \\sin \\phi + \\hat{e}_z \\, \\cos \\theta \\\\\n",
    "\\hat{e}_\\theta &= \\hat{e}_x \\, \\cos \\theta \\cos \\phi + \\hat{e}_y \\, \\cos \\theta \\sin \\phi - \\hat{e}_z \\sin \\theta \\\\\n",
    "\\hat{e}_\\phi &= -\\hat{e}_x \\, \\sin \\phi + \\hat{e}_y \\, \\cos \\phi\n",
    "\\end{align*}"
   ]
  }
 ],
 "metadata": {
  "kernelspec": {
   "display_name": "Python 3 (ipykernel)",
   "language": "python",
   "name": "python3"
  },
  "language_info": {
   "codemirror_mode": {
    "name": "ipython",
    "version": 3
   },
   "file_extension": ".py",
   "mimetype": "text/x-python",
   "name": "python",
   "nbconvert_exporter": "python",
   "pygments_lexer": "ipython3",
   "version": "3.10.6"
  }
 },
 "nbformat": 4,
 "nbformat_minor": 5
}
