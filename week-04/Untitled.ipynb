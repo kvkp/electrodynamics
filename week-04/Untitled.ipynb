{
 "cells": [
  {
   "cell_type": "code",
   "execution_count": 13,
   "id": "2b438777",
   "metadata": {},
   "outputs": [
    {
     "ename": "SyntaxError",
     "evalue": "invalid syntax (Temp/ipykernel_21648/2103218148.py, line 1)",
     "output_type": "error",
     "traceback": [
      "\u001b[1;36m  File \u001b[1;32m\"C:\\Users\\KP\\AppData\\Local\\Temp/ipykernel_21648/2103218148.py\"\u001b[1;36m, line \u001b[1;32m1\u001b[0m\n\u001b[1;33m    conda install -c username packagename\u001b[0m\n\u001b[1;37m          ^\u001b[0m\n\u001b[1;31mSyntaxError\u001b[0m\u001b[1;31m:\u001b[0m invalid syntax\n"
     ]
    }
   ],
   "source": [
    "conda install -c username packagename\n",
    "conda install -c conda-forge magpylib\n",
    "## Documentation: https://magpylib.readthedocs.io/en/latest/_autogen/magpylib.core.html\n",
    "\n",
    "# imports\n",
    "import numpy as np\n",
    "import matplotlib.pyplot as plt\n",
    "import magpylib as magpy\n",
    "\n",
    "## Use this command to turn ON interactive plots:\n",
    "%matplotlib notebook\n",
    "\n",
    "## Use this command to turn OFF interactive plots.\n",
    "# %matplotlib inline\n",
    "\n",
    "# create figure\n",
    "fig = plt.figure(figsize=(8,4))\n",
    "ax1 = fig.add_subplot(121, projection='3d') # 3D plotting axis\n",
    "ax2 = fig.add_subplot(122) # 2D plotting axis\n",
    "\n",
    "# create magnets\n",
    "# mag = magnetization vector magnitude + direction (units = mT)\n",
    "# dim = shape dimensions\n",
    "# pos = location of the center of the shape\n",
    "# angle = angle relative to the x-axis\n",
    "\n",
    "s1 = magpy.source.magnet.Box(mag=[0,10,0],dim=[0.4,0.2,3],pos=[-1.5,3,2], angle=-180)\n",
    "s2 = magpy.source.magnet.Box(mag=[0,10,0],dim=[0.4,0.2,3],pos=[-1.5,1,2], angle=0)\n",
    "s3 = magpy.source.magnet.Box(mag=[0,10,0],dim=[0.4,0.2,3],pos=[-1.5,-1,2], angle=-180)\n",
    "s4 = magpy.source.magnet.Box(mag=[0,10,0],dim=[0.4,0.2,3],pos=[-1.5,-3,2], angle=0)\n",
    "\n",
    "s5 = magpy.source.magnet.Box(mag=[0,10,0],dim=[0.4,0.2,3],pos=[1.5,3,2], angle=-180)\n",
    "s6 = magpy.source.magnet.Box(mag=[0,10,0],dim=[0.4,0.2,3],pos=[1.5,1,2], angle=0)\n",
    "s7 = magpy.source.magnet.Box(mag=[0,10,0],dim=[0.4,0.2,3],pos=[1.5,-1,2], angle=-180)\n",
    "s8 = magpy.source.magnet.Box(mag=[0,10,0],dim=[0.4,0.2,3],pos=[1.5,-3,2], angle=0)\n",
    "\n",
    "s9 = magpy.source.magnet.Box(mag=[0,10,0],dim=[0.4,0.2,3],pos=[-3,1.5,2], angle=-90)\n",
    "s10 = magpy.source.magnet.Box(mag=[0,10,0],dim=[0.4,0.2,3],pos=[-1,1.5,2], angle=90)\n",
    "s11 = magpy.source.magnet.Box(mag=[0,10,0],dim=[0.4,0.2,3],pos=[-3,-1.5,2], angle=-90)\n",
    "s12 = magpy.source.magnet.Box(mag=[0,10,0],dim=[0.4,0.2,3],pos=[-1,-1.5,2], angle=90)\n",
    "\n",
    "s13 = magpy.source.magnet.Box(mag=[0,10,0],dim=[0.4,0.2,3],pos=[3,1.5,2], angle=90)\n",
    "s14 = magpy.source.magnet.Box(mag=[0,10,0],dim=[0.4,0.2,3],pos=[1,1.5,2], angle=-90)\n",
    "s15 = magpy.source.magnet.Box(mag=[0,10,0],dim=[0.4,0.2,3],pos=[3,-1.5,2], angle=90)\n",
    "s16 = magpy.source.magnet.Box(mag=[0,10,0],dim=[0.4,0.2,3],pos=[1,-1.5,2], angle=-90)\n",
    "\n",
    "# create collection\n",
    "c = magpy.Collection(s1,s2, s3, s4, s5, s6, s7, s8, s9, s10, s11, s12, s13, s14, s15, s16)\n",
    "\n",
    "# display system geometry on ax1\n",
    "magpy.displaySystem(c,subplotAx=ax1,suppress=True)\n",
    "\n",
    "# calculate B-field on a grid\n",
    "xs = np.linspace(-10,10,29)\n",
    "zs = np.linspace(-10,10,29)\n",
    "Bs = np.array([[c.getB([x,0,z]) for x in xs] for z in zs])\n",
    "\n",
    "# display field in xz-plane using matplotlib\n",
    "X,Z = np.meshgrid(xs,zs)\n",
    "U,V = Bs[:,:,0], Bs[:,:,2]\n",
    "ax2.streamplot(X, Z, U, V, color=np.log(U**2+V**2),density=2)\n",
    "plt.show()\n",
    "\n",
    "# display collection\n",
    "magpy.displaySystem(c,direc=True,figsize=(6,6))\n",
    "\n",
    "\n"
   ]
  },
  {
   "cell_type": "code",
   "execution_count": null,
   "id": "7fb84405",
   "metadata": {},
   "outputs": [],
   "source": []
  },
  {
   "cell_type": "code",
   "execution_count": null,
   "id": "dd7fbeb6",
   "metadata": {},
   "outputs": [],
   "source": []
  }
 ],
 "metadata": {
  "kernelspec": {
   "display_name": "Python 3 (ipykernel)",
   "language": "python",
   "name": "python3"
  },
  "language_info": {
   "codemirror_mode": {
    "name": "ipython",
    "version": 3
   },
   "file_extension": ".py",
   "mimetype": "text/x-python",
   "name": "python",
   "nbconvert_exporter": "python",
   "pygments_lexer": "ipython3",
   "version": "3.9.7"
  }
 },
 "nbformat": 4,
 "nbformat_minor": 5
}
