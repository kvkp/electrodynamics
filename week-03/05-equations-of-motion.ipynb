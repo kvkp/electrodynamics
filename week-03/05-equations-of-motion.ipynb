{
 "cells": [
  {
   "cell_type": "markdown",
   "id": "fe5592d2",
   "metadata": {},
   "source": [
    "# Equations of Motion\n",
    "\n",
    "There are two connected problems at the foundation of electricity and magnetism:\n",
    "\n",
    "1. Given the locations and trajectories of all of the charges in a system, use **Maxwell's Equations** to compute the fields.\n",
    "2. Given the electric and magnetic fieldds in a system, use the **Lorentz force law** to compute the trajectories of the charges.\n",
    "\n",
    "In electrodynamics, we have to solve both problems together, updating the fields and the motion of the charges simultaneously.  In electrostatics, we treat each problem separately.\n",
    "\n",
    "In this notebook, we will explore ***numerical methods*** for studying the motion of charges, given the electric and magnetic fields.  In the next one, we will introduce the ***finite element method*** to compute the electric field given a charge distribution.  (Next week, we will compute magnetic fields, too!)"
   ]
  },
  {
   "cell_type": "markdown",
   "id": "6f1f444f",
   "metadata": {
    "id": "pd9NEmp2R1FG"
   },
   "source": [
    "## Finite Differences\n",
    "\n",
    "The \"Dynamic Loop\" can be used to compute the motion of a system of particles.  We use Newton's Second Law to repeatedly update the positions and velocities of each particle.\n",
    "\n",
    "1. Compute the forces.\n",
    "2. Update the velocities.\n",
    "3. Update the positions.\n",
    "4. Go to 1.\n",
    "\n",
    "There are more efficient ways to do the numerical integration, but for simplicity, we will start with first-order finite differences.  In essence, we make the approximation\n",
    "\n",
    "$$\\dfrac{df}{dt} \\approx \\dfrac{f_{n+1} - f_n}{\\Delta t}$$\n",
    "\n",
    "and use this to determine the next value of $f$ from the current value and the derivative:\n",
    "\n",
    "$$f_{n+1} \\approx f_n + \\Delta t \\cdot \\dfrac{df}{dt}$$\n",
    "\n",
    "This method assumes that the derivative $\\dfrac{df}{dt}$ can be calculated."
   ]
  },
  {
   "cell_type": "markdown",
   "id": "552ada93",
   "metadata": {
    "id": "_RQGdO9_R1FG"
   },
   "source": [
    "### Constant Acceleration\n",
    "\n",
    "Let's apply this method to a system whose solution is known: one-dimensional motion under constant acceleration.\n",
    "\n",
    "The equations of motion are\n",
    "\n",
    "$$\\dfrac{dx}{dt} = v(t) \\qquad \\qquad \\dfrac{dv}{dt} = a$$\n",
    "\n",
    "Let the (constant) acceleration be the acceleration due to gravity and use the following values for the initial position and velocity.  (You can experiment with other values later.)\n",
    "\n",
    "$$a=-9.8 \\ {\\tt m/s^2} \\qquad \\qquad x_0 = 0.0 \\ {\\tt m} \\qquad \\qquad v_0 = 98 \\ {\\tt m/s}$$\n",
    "\n",
    "The Python code below will simulate the motion of the projectile for 20 seconds."
   ]
  },
  {
   "cell_type": "code",
   "execution_count": null,
   "id": "9ae5bd06",
   "metadata": {
    "executionInfo": {
     "elapsed": 1167,
     "status": "ok",
     "timestamp": 1610754216652,
     "user": {
      "displayName": "Jesse Kinder",
      "photoUrl": "https://lh3.googleusercontent.com/a-/AOh14GhWEMYMhBlXg8VT102xkyzwBJVXNM4htlSSnflU=s64",
      "userId": "16106231046976726443"
     },
     "user_tz": 480
    },
    "id": "wseyoeITR1FH"
   },
   "outputs": [],
   "source": [
    "# Get access to useful functions.\n",
    "import numpy as np\n",
    "import matplotlib.pyplot as plt\n",
    "from mpl_toolkits import mplot3d\n",
    "from scipy.integrate import odeint"
   ]
  },
  {
   "cell_type": "code",
   "execution_count": null,
   "id": "a74d511d",
   "metadata": {
    "colab": {
     "base_uri": "https://localhost:8080/",
     "height": 1000
    },
    "executionInfo": {
     "elapsed": 3088,
     "status": "ok",
     "timestamp": 1610754218607,
     "user": {
      "displayName": "Jesse Kinder",
      "photoUrl": "https://lh3.googleusercontent.com/a-/AOh14GhWEMYMhBlXg8VT102xkyzwBJVXNM4htlSSnflU=s64",
      "userId": "16106231046976726443"
     },
     "user_tz": 480
    },
    "id": "pXplUGpeR1FH",
    "outputId": "6eebe7e6-b736-49d2-a5e1-da06bc024d63"
   },
   "outputs": [],
   "source": [
    "# Define parameters of problem.  All quantities are in SI units.\n",
    "acceleration = -9.8\n",
    "initial_position = 0.0\n",
    "initial_velocity = 98.0\n",
    "dt = 1.0\n",
    "t_max = 20\n",
    "\n",
    "# Create arrays for time, position, and velocity.\n",
    "t = np.arange(0, t_max+dt, dt)\n",
    "num_steps = len(t)\n",
    "x = np.zeros(num_steps)\n",
    "v = np.zeros(num_steps)\n",
    "\n",
    "# Set initial position and velocity.\n",
    "x[0] = initial_position\n",
    "v[0] = initial_velocity\n",
    "\n",
    "# Loop over time values and update position and velocity.\n",
    "# Start at 1, because x[0] and v[0] are already defined.\n",
    "for n in range(1,num_steps):\n",
    "    # Update velocity.\n",
    "    v[n] = v[n-1] + acceleration * dt\n",
    "\n",
    "    # Update position.\n",
    "    x[n] = x[n-1] + v[n] * dt\n",
    "\n",
    "# Compare the finite difference result to the analytic result.\n",
    "x_exact = initial_position + initial_velocity * t + 0.5 * acceleration * t**2\n",
    "\n",
    "plt.figure(dpi=150)\n",
    "plt.plot(t, x, 'o', mfc='white', label=\"finite difference\")\n",
    "plt.plot(t, x_exact, 'r-', label=\"exact solution\")\n",
    "plt.xlabel(\"Time [s]\")\n",
    "plt.ylabel(\"Position [m]\")\n",
    "plt.title(r\"$\\Delta t = %g$ s\" % dt)\n",
    "plt.legend()"
   ]
  },
  {
   "cell_type": "markdown",
   "id": "78aacc42",
   "metadata": {
    "id": "_RQGdO9_R1FG"
   },
   "source": [
    "Create plots of $x(t)$ to compare the exact solution with the result of the finite difference method for the following values of the time step:\n",
    "\n",
    "- $\\Delta t = 1.0 \\ {\\tt s}$\n",
    "- $\\Delta t = 0.1 \\ {\\tt s}$\n",
    "- $\\Delta t = 0.01 \\ {\\tt s}$\n",
    "- $\\Delta t = 0.001 \\ {\\tt s}$\n",
    "\n",
    "Explore other values of $\\Delta t$ if you would like.\n",
    "\n",
    "***Describe your observations.***  \n",
    "Is there a point beyond which you would say the finite difference method has \"converged\" to the exact solution?"
   ]
  },
  {
   "cell_type": "markdown",
   "id": "8b1141bc",
   "metadata": {},
   "source": [
    "***Replace with your comments.***"
   ]
  },
  {
   "cell_type": "markdown",
   "id": "7ccc627a",
   "metadata": {
    "id": "8bCea7j2R1FI"
   },
   "source": [
    "## Coulomb Scattering\n",
    "\n",
    "Let's look at a two-dimensional problem from electricity and magnetism now: Coulomb scattering.  (An analysis of this problem is what led Rutherford to conclude that atomic nuclei occupy a tiny volume within an atom.)\n",
    "\n",
    "Two charged particles interact by the Coulomb force between them.\n",
    "$$\\vec{F}(\\vec{r}) = \\dfrac{qQ}{r^2} \\, \\hat{e}_r = qQ \\, \\dfrac{\\vec{r}}{r^3}$$\n",
    "\n",
    "Both charged particles experience a force, but we will assume that one particle has a much greater mass than the other so that we can ignore its acceleration.  We will assume the large particle sits at the origin, so that $\\vec{r}$ is the separation of the two particles _and_ the location of the smaller particle.  (This is a decent approximation for $\\alpha$-particles scattering off of gold nuclei, as in Rutherford's experiments: $m/M = 4/197 \\approx 1/50$.  The acceleration of the helium nucleus is 50 times larger than the gold nucleus.)\n",
    "\n",
    "Our equations of motion for the helium nucleus are\n",
    "$$\n",
    "\\dfrac{d\\vec{r}}{dt} = \\vec{v}\n",
    "\\qquad \\qquad\n",
    "\\dfrac{d\\vec{v}}{dt} = \\vec{a} = \\dfrac{\\vec{F}}{m} = \\dfrac{qQ}{m} \\, \\dfrac{\\vec{r}}{r^3}\n",
    "$$\n",
    "\n",
    "It is possible to solve the equations of motion for Coulomb scattering analytically.  However, we can also specify the initial conditions, integrate the equations of motion, and compute the trajectory with a `for` loop.\n",
    "\n",
    "The following function will compute the trajectory of a charged particle given its initial speed $v_0$ — assumed to be in the $z$-direction — and its ***impact parameter*** — its initial displacement to the left or right of the massive particle at the origin."
   ]
  },
  {
   "cell_type": "code",
   "execution_count": null,
   "id": "6e6b2baf",
   "metadata": {
    "executionInfo": {
     "elapsed": 3198,
     "status": "ok",
     "timestamp": 1610754218798,
     "user": {
      "displayName": "Jesse Kinder",
      "photoUrl": "https://lh3.googleusercontent.com/a-/AOh14GhWEMYMhBlXg8VT102xkyzwBJVXNM4htlSSnflU=s64",
      "userId": "16106231046976726443"
     },
     "user_tz": 480
    },
    "id": "OIHhu4PfR1FO"
   },
   "outputs": [],
   "source": [
    "def get_trajectory(b, v0, q=+1, Q=+1, L=5, dt=2e-4, N=1e5):\n",
    "    \"\"\"\n",
    "    Integrate the equations of motion for Coulomb's law to generate a scattering\n",
    "    trajectory.\n",
    "\n",
    "        v0 = initial speed of particle\n",
    "        b  = impact parameter of trajectory\n",
    "        q  = charge of light particle\n",
    "        Q  = charge of massive particle\n",
    "        L  = box size\n",
    "        dt = time step\n",
    "        N  = maximum number of time steps\n",
    "        \n",
    "    Returns x and y coordinate arrays and time array for the trajectory.\n",
    "    Computation runs for N time steps, or until the particle leaves the box\n",
    "    --- whichever comes first.\n",
    "    \n",
    "    Note: The calculation uses \"natural units\" for the problem, so only the\n",
    "    sign of the two particles matters.\n",
    "    \"\"\"\n",
    "    from math import sin, cos, sqrt, pi\n",
    "    \n",
    "    n_max = int(N)\n",
    "\n",
    "    # Store trajectory in an array.\n",
    "    x = np.zeros(n_max)\n",
    "    y = np.zeros(n_max)\n",
    "\n",
    "    # Initial position.\n",
    "    x0 = b\n",
    "    y0 = -L\n",
    "    r0 = sqrt(x0**2 + y0**2)\n",
    "\n",
    "    # Initial speed.\n",
    "    vx0 = 0.0\n",
    "    vy0 = v0\n",
    "\n",
    "    # Sign of interaction: +1 ==> repulsive, -1 ==> attractive\n",
    "    sign = q * Q / abs(q*Q)\n",
    "\n",
    "    # Initial acceleration.\n",
    "    ax0 = sign * x0/r0**3\n",
    "    ay0 = sign * y0/r0**3\n",
    "\n",
    "    # Current position, velocity, and acceleration\n",
    "    x[0] = x0\n",
    "    y[0] = y0\n",
    "    ax = ax0\n",
    "    ay = ay0\n",
    "\n",
    "    # Use midpoint method to compute velocity and improve accuracy.\n",
    "    vx = vx0 + 0.5 * ax * dt\n",
    "    vy = vy0 + 0.5 * ay * dt\n",
    "\n",
    "\n",
    "    for n in range(n_max):\n",
    "        # Exit the loop when the particle exits the box.\n",
    "        if (abs(x[n]) > L) or (abs(y[n]) > L): break\n",
    "            \n",
    "        # Update positions\n",
    "        x[n+1] = x[n] + vx * dt\n",
    "        y[n+1] = y[n] + vy * dt\n",
    "        r = sqrt(x[n+1]**2 + y[n+1]**2)\n",
    "        \n",
    "        # Update acceleration.\n",
    "        ax = sign * x[n+1] / r**3\n",
    "        ay = sign * y[n+1] / r**3\n",
    "\n",
    "        # Update velocities\n",
    "        vx = vx + ax * dt\n",
    "        vy = vy + ay * dt\n",
    "    \n",
    "    return x[:n], y[:n], dt*np.arange(n)"
   ]
  },
  {
   "cell_type": "markdown",
   "id": "27839150",
   "metadata": {},
   "source": [
    "Let's use this function to generate a trajectory."
   ]
  },
  {
   "cell_type": "code",
   "execution_count": null,
   "id": "56fa8f19",
   "metadata": {
    "colab": {
     "base_uri": "https://localhost:8080/",
     "height": 312
    },
    "executionInfo": {
     "elapsed": 7328,
     "status": "ok",
     "timestamp": 1610754222962,
     "user": {
      "displayName": "Jesse Kinder",
      "photoUrl": "https://lh3.googleusercontent.com/a-/AOh14GhWEMYMhBlXg8VT102xkyzwBJVXNM4htlSSnflU=s64",
      "userId": "16106231046976726443"
     },
     "user_tz": 480
    },
    "id": "YtgWx-x_R1FP",
    "outputId": "c1d8cad5-dc35-4a5f-d01a-857eb5e72101"
   },
   "outputs": [],
   "source": [
    "# Generate a trajectories for repulsive interaction.\n",
    "v0 = 1.0\n",
    "b  = 0.8\n",
    "q  = +1\n",
    "Q  = +1\n",
    "L  = 5\n",
    "\n",
    "# Create a figure.\n",
    "plt.figure(dpi=150)\n",
    "\n",
    "# Generate a trajectory.\n",
    "x, y, t = get_trajectory(b, v0, q, Q, L)\n",
    "\n",
    "# Plot it.\n",
    "plt.plot(x,y, lw=2)\n",
    "\n",
    "# Add labels and title.\n",
    "plt.plot(0,0,'ro', ms=4)\n",
    "plt.axis([-L,L,-L,L])\n",
    "plt.xlabel('Horizontal Position [a.u.]')\n",
    "plt.ylabel('Vertical Position [a.u.]')\n",
    "plt.title('Coulomb Scattering')"
   ]
  },
  {
   "cell_type": "markdown",
   "id": "4d7afdb7",
   "metadata": {},
   "source": [
    "Use the cell above to generate several different trajectories.  What patterns do you notice?"
   ]
  },
  {
   "cell_type": "markdown",
   "id": "5bf547ba",
   "metadata": {},
   "source": [
    "***Replace with your comments.***"
   ]
  },
  {
   "cell_type": "markdown",
   "id": "2d5dbc77",
   "metadata": {},
   "source": [
    "Repeat the analysis for two charges with opposite signs.  Try changing the initial velocity as well as the impact parameter."
   ]
  },
  {
   "cell_type": "markdown",
   "id": "74465d91",
   "metadata": {},
   "source": [
    "***Describe your observations.***"
   ]
  },
  {
   "cell_type": "markdown",
   "id": "3c9e2603",
   "metadata": {},
   "source": [
    "Rutherford's experiment involved many particles with approximately the same velocity but random impact parameters.  Make a single plot that shows trajectories for 10 different impact parameters (positive and negative) on the same axes.\n",
    "\n",
    "Try writing a ***for loop***."
   ]
  },
  {
   "cell_type": "code",
   "execution_count": null,
   "id": "694d92d9",
   "metadata": {},
   "outputs": [],
   "source": []
  },
  {
   "cell_type": "markdown",
   "id": "952c6f9c",
   "metadata": {},
   "source": [
    "## ODEINT\n",
    "\n",
    "Differential equations that only depend on one parameter, like time, are called ***ordinary differential equations***.  These are are many efficient and accurate algorithms for solving such equations — much better than the \"first-order Euler method\" we have been using.\n",
    "\n",
    "In this last exercise, we will explore the Python function `odeint` for solving such equations.  We will use it to solve a three-dimension problem of a charged particle moving in static, uniform electric and magnetic fields."
   ]
  },
  {
   "cell_type": "markdown",
   "id": "afd0de06",
   "metadata": {},
   "source": [
    "### Background\n",
    "\n",
    "We will use the `odeint` function of the `scipy.integrate` module. This function requires that we express our problem in a particular way. In exchange, it will do all of the grunt  ork of numerical integration. It is a deal worth making!\n",
    "\n",
    "In essence, we have to express our differential equation or system of differential equations as a set of coupled first-order differential equations. Fortunately, this is possible in most cases of practical interest.\n",
    "\n",
    "For instance, to solve the second-order differential equation for a mass on a spring, we start with\n",
    "\n",
    "$$\\dfrac{d^2 x}{d t^2} = -x.$$\n",
    "\n",
    "The set of first-order differential equations for this system is\n",
    "$$\n",
    "\\vec{y} = \\begin{bmatrix} y_1 \\\\ y_2 \\end{bmatrix}\n",
    "\\qquad \\qquad\n",
    "\\dfrac{ d \\vec{y} }{ d t} = \\vec{F}(\\vec{y}, t) = \\begin{bmatrix} y_2 \\\\\n",
    "        -y_1 \\end{bmatrix}.\n",
    "$$\n",
    "\n",
    "We have defined the following variables:\n",
    "$$ y_1 = x \\qquad \\qquad y_2 = \\dfrac{d y_1}{d t} = \\dfrac{d x}{d t}. $$\n",
    "\n",
    "**Make sure you understand why these are equivalent before you move on!**\n",
    "\n",
    "See Section 6.8 of _A Student's Guide to Python_ for more details.\n",
    "\n",
    "The syntax for `odeint` is deceptively simple:\n",
    "\n",
    "    y = odeint(F, y0, t)\n",
    "\n",
    "-   `t` is an array of time values where we want the value of `y`.\n",
    "-   `y0` is an array of initial conditions — one initial condition for\n",
    "    each variable in our system of differential equations.\n",
    "-   `F` is a function that takes an array with the shape of `y0` and a\n",
    "    scalar `t0` and returns an array with the shape of `y0`.\n",
    "\n",
    "`odeint` will take the time array, the initial conditions, and the\n",
    "function you provide and integrate solve the differential equation\n",
    "$$\\dfrac{d\\vec{y}}{dt} = \\vec{F}(\\vec{y},t).$$ It will return the values\n",
    "of $\\vec{y}(t)$ at the times specified in the array of time values.\n",
    "\n",
    "And that’s it!"
   ]
  },
  {
   "cell_type": "markdown",
   "id": "b6125e04",
   "metadata": {},
   "source": [
    "### Lorentz Force Law\n",
    "\n",
    "Our goal is to determine the motion of a charged particle in electric and magnetic fields.  Thus, our starting point is the Lorentz force law:\n",
    "$$\\vec{F} = q \\left(\\vec{E} + \\dfrac{\\vec{v}}{c} \\times \\vec{B} \\right)$$\n",
    "\n",
    "In natural units, we can express this as\n",
    "$$\\dfrac{d^2 \\vec{r}}{dt} = \\vec{E} + \\vec{v} \\times \\vec{B}$$\n",
    "\n",
    "To use `odeint` we need to recast the problem as a set of coupled first-order differential equations and write a single function to evaluate all of the derivatives."
   ]
  },
  {
   "cell_type": "code",
   "execution_count": null,
   "id": "8d4b71ca",
   "metadata": {},
   "outputs": [],
   "source": [
    "# Define the derivative function.\n",
    "def dy_dt(y, t, E, B):\n",
    "    \"\"\"\n",
    "    y = [x, y, z, vx, vy, vz]\n",
    "    t = time\n",
    "    E = [Ex, Ey, Ez] is the electric field\n",
    "    B = [Bx, By, Bz] is the magnetic field\n",
    "    \n",
    "    The function returns dy/dt based on the Lorentz force law:\n",
    "    F = E + vxB.\n",
    "    \"\"\"\n",
    "    dy = np.zeros(6)\n",
    "    \n",
    "    # Position derivatives\n",
    "    dy[0] = y[3]\n",
    "    dy[1] = y[4]\n",
    "    dy[2] = y[5]\n",
    "    \n",
    "    # Velocity derivatives\n",
    "    dy[3] = E[0] + (y[4]*B[2] - y[5]*B[1])\n",
    "    dy[4] = E[1] + (y[5]*B[0] - y[3]*B[2])\n",
    "    dy[5] = E[2] + (y[3]*B[1] - y[4]*B[0])\n",
    "    \n",
    "    # Return the derivative array.\n",
    "    return dy"
   ]
  },
  {
   "cell_type": "markdown",
   "id": "e4277492",
   "metadata": {},
   "source": [
    "Explain why the velocity derivatives are correct.  That is, explain why the Python expressions above give the correct components of the Lorentz force vector."
   ]
  },
  {
   "cell_type": "markdown",
   "id": "0052bcda",
   "metadata": {},
   "source": [
    "***Replace with your response.***"
   ]
  },
  {
   "cell_type": "markdown",
   "id": "513f03b4",
   "metadata": {},
   "source": [
    "Let's use this function with `odeint` to simulate the motion of a charged particle in some practical situations."
   ]
  },
  {
   "cell_type": "markdown",
   "id": "a7beb79a",
   "metadata": {},
   "source": [
    "### Constant Electric Field\n",
    "\n",
    "Consider a particle moving with some initial velocity in the $xy$-plane that enters a region of uniform electric field in the $z$ direction.\n",
    "\n",
    "Predict how the charge will move."
   ]
  },
  {
   "cell_type": "markdown",
   "id": "16aa4907",
   "metadata": {},
   "source": [
    "***Replace with your response.***"
   ]
  },
  {
   "cell_type": "markdown",
   "id": "dd2e7c2f",
   "metadata": {},
   "source": [
    "Use the following cells to explore the scenario."
   ]
  },
  {
   "cell_type": "code",
   "execution_count": null,
   "id": "6ca03db6",
   "metadata": {},
   "outputs": [],
   "source": [
    "## Use this command to turn ON interactive plots:\n",
    "# %matplotlib notebook\n",
    "\n",
    "## Use this command to turn OFF interactive plots.\n",
    "# %matplotlib inline"
   ]
  },
  {
   "cell_type": "code",
   "execution_count": null,
   "id": "68c60206",
   "metadata": {},
   "outputs": [],
   "source": [
    "# Define electric and magnetic fields.\n",
    "Ex = 0\n",
    "Ey = 0\n",
    "Ez = 1\n",
    "E = np.array([Ex, Ey, Ez])\n",
    "\n",
    "Bx = 0\n",
    "By = 0\n",
    "Bz = 0\n",
    "B = np.array([Bx, By, Bz])\n",
    "\n",
    "# Define array of time values to study.\n",
    "num_points = 101\n",
    "tMax = 5\n",
    "t = np.linspace(0, tMax, num_points)\n",
    "\n",
    "# Define the initial conditions.\n",
    "X0 = -5\n",
    "Y0 = -5\n",
    "Z0 = 0\n",
    "\n",
    "VX0 = 2\n",
    "VY0 = 1\n",
    "VZ0 = 0\n",
    "\n",
    "y0 = np.array([X0, Y0, Z0, VX0, VY0, VZ0])\n",
    "\n",
    "# Integrate the equations of motion.\n",
    "trajectory = odeint(dy_dt, y0, t, args=(E,B))\n",
    "x, y, z, vx, vy, vz = trajectory.transpose()"
   ]
  },
  {
   "cell_type": "code",
   "execution_count": null,
   "id": "481c074c",
   "metadata": {},
   "outputs": [],
   "source": [
    "# Plot the result.\n",
    "fig = plt.figure(dpi=200)\n",
    "ax = fig.add_subplot(projection='3d')\n",
    "ax.plot(x,y,z)\n",
    "ax.set_xlabel('X')\n",
    "ax.set_ylabel('Y')\n",
    "ax.set_zlabel('Z')"
   ]
  },
  {
   "cell_type": "markdown",
   "id": "91feaeda",
   "metadata": {},
   "source": [
    "What path does the particle follow?  Try several different sets of initial conditions, and change the duration of the simulation as needed.\n",
    "\n",
    "Was your prediction for the motion correct?"
   ]
  },
  {
   "cell_type": "markdown",
   "id": "7beff80e",
   "metadata": {},
   "source": [
    "***Replace with your response.***"
   ]
  },
  {
   "cell_type": "markdown",
   "id": "a91f6cf8",
   "metadata": {},
   "source": [
    "### Constant Magnetic Field\n",
    "\n",
    "Consider a particle initially moving in the $xz$-plane that enters a region of uniform magnetic field pointing along the $z$-axis.\n",
    "\n",
    "What do you think the trajectory of this particle will look like?"
   ]
  },
  {
   "cell_type": "markdown",
   "id": "d7b8d557",
   "metadata": {},
   "source": [
    "***Replace with your predictions.***"
   ]
  },
  {
   "cell_type": "markdown",
   "id": "15fe9e56",
   "metadata": {},
   "source": [
    "The cells below are a copy of the code from the previous section.  Modify it to simulate the system described above."
   ]
  },
  {
   "cell_type": "code",
   "execution_count": null,
   "id": "4901f057",
   "metadata": {},
   "outputs": [],
   "source": [
    "# Define electric and magnetic fields.\n",
    "Ex = 0\n",
    "Ey = 0\n",
    "Ez = 1\n",
    "E = np.array([Ex, Ey, Ez])\n",
    "\n",
    "Bx = 0\n",
    "By = 0\n",
    "Bz = 0\n",
    "B = np.array([Bx, By, Bz])\n",
    "\n",
    "# Define array of time values to study.\n",
    "num_points = 101\n",
    "tMax = 5\n",
    "t = np.linspace(0, tMax, num_points)\n",
    "\n",
    "# Define the initial conditions.\n",
    "X0 = -5\n",
    "Y0 = -5\n",
    "Z0 = 0\n",
    "\n",
    "VX0 = 2\n",
    "VY0 = 1\n",
    "VZ0 = 0\n",
    "\n",
    "y0 = np.array([X0, Y0, Z0, VX0, VY0, VZ0])\n",
    "\n",
    "# Integrate the equations of motion.\n",
    "trajectory = odeint(dy_dt, y0, t, args=(E,B))\n",
    "x, y, z, vx, vy, vz = trajectory.transpose()"
   ]
  },
  {
   "cell_type": "code",
   "execution_count": null,
   "id": "2130ebf1",
   "metadata": {},
   "outputs": [],
   "source": [
    "# Plot the result.\n",
    "fig = plt.figure(dpi=200)\n",
    "ax = fig.add_subplot(projection='3d')\n",
    "ax.plot(x,y,z)\n",
    "ax.set_xlabel('X')\n",
    "ax.set_ylabel('Y')\n",
    "ax.set_zlabel('Z')"
   ]
  },
  {
   "cell_type": "markdown",
   "id": "2f606081",
   "metadata": {},
   "source": [
    "Change the strength of the field and the initial conditions to simulate several different trajectories.  Describe your experiments and observations."
   ]
  },
  {
   "cell_type": "markdown",
   "id": "cde57e15",
   "metadata": {},
   "source": [
    "***Replace with your observations.***"
   ]
  },
  {
   "cell_type": "markdown",
   "id": "6d2143e2",
   "metadata": {},
   "source": [
    "### Crossed Fields\n",
    "\n",
    "Now consider the motion of a charged particle in a region of crossed fields: constant electric and magnetic fields that are perpendicular to each other.\n",
    "\n",
    "What do you think the trajectory of this particle will look like?  \n",
    "How will it change with the initial velocity (magnitude and direction) of the particle?"
   ]
  },
  {
   "cell_type": "markdown",
   "id": "d67b3a31",
   "metadata": {},
   "source": [
    "***Replace with your predictions.***"
   ]
  },
  {
   "cell_type": "markdown",
   "id": "ab1af7e5",
   "metadata": {},
   "source": [
    "Below is yet one more copy of the constant electric field code.  Modify it to simulate the scenario described in Problem 1-31 and Problem 1-32 of Heald & Marion."
   ]
  },
  {
   "cell_type": "code",
   "execution_count": null,
   "id": "4bdb861c",
   "metadata": {},
   "outputs": [],
   "source": [
    "# Define electric and magnetic fields.\n",
    "Ex = 0\n",
    "Ey = 0\n",
    "Ez = 1\n",
    "E = np.array([Ex, Ey, Ez])\n",
    "\n",
    "Bx = 0\n",
    "By = 0\n",
    "Bz = 0\n",
    "B = np.array([Bx, By, Bz])\n",
    "\n",
    "# Define array of time values to study.\n",
    "num_points = 101\n",
    "tMax = 5\n",
    "t = np.linspace(0, tMax, num_points)\n",
    "\n",
    "# Define the initial conditions.\n",
    "X0 = -5\n",
    "Y0 = -5\n",
    "Z0 = 0\n",
    "\n",
    "VX0 = 2\n",
    "VY0 = 1\n",
    "VZ0 = 0\n",
    "\n",
    "y0 = np.array([X0, Y0, Z0, VX0, VY0, VZ0])\n",
    "\n",
    "# Integrate the equations of motion.\n",
    "trajectory = odeint(dy_dt, y0, t, args=(E,B))\n",
    "x, y, z, vx, vy, vz = trajectory.transpose()"
   ]
  },
  {
   "cell_type": "code",
   "execution_count": null,
   "id": "31964335",
   "metadata": {},
   "outputs": [],
   "source": [
    "# Plot the result.\n",
    "fig = plt.figure(dpi=200)\n",
    "ax = fig.add_subplot(projection='3d')\n",
    "ax.plot(x,y,z)\n",
    "ax.set_xlabel('X')\n",
    "ax.set_ylabel('Y')\n",
    "ax.set_zlabel('Z')"
   ]
  },
  {
   "cell_type": "markdown",
   "id": "ec7513df",
   "metadata": {},
   "source": [
    "Change the strength and direction of the fields and modify the initial conditions to simulate several different trajectories.  Describe your experiments and observations."
   ]
  },
  {
   "cell_type": "markdown",
   "id": "14dd20a5",
   "metadata": {},
   "source": [
    "***Replace with your observations.***"
   ]
  },
  {
   "cell_type": "markdown",
   "id": "c4ff060c",
   "metadata": {},
   "source": [
    "What happens when you release the particle from rest at the origin in crossed fields?"
   ]
  },
  {
   "cell_type": "markdown",
   "id": "2b63bfb3",
   "metadata": {},
   "source": [
    "***Replace with your observations.***"
   ]
  },
  {
   "cell_type": "markdown",
   "id": "8e5ed1d5",
   "metadata": {},
   "source": [
    "## Reflection and Summary\n",
    "\n",
    "Congratulations! You just completed a crash course in ordinary differential equations!\n",
    "\n",
    "- What are the major takeaways of this assignment for you?\n",
    "- What was the most difficult part of this assignment?\n",
    "- What was the most interesting part of this assignment?\n",
    "- What questions do you have?"
   ]
  },
  {
   "cell_type": "markdown",
   "id": "22096f60",
   "metadata": {},
   "source": [
    "***Replace with your response.***"
   ]
  }
 ],
 "metadata": {
  "kernelspec": {
   "display_name": "Python 3",
   "language": "python",
   "name": "python3"
  },
  "language_info": {
   "codemirror_mode": {
    "name": "ipython",
    "version": 3
   },
   "file_extension": ".py",
   "mimetype": "text/x-python",
   "name": "python",
   "nbconvert_exporter": "python",
   "pygments_lexer": "ipython3",
   "version": "3.9.5"
  }
 },
 "nbformat": 4,
 "nbformat_minor": 5
}
