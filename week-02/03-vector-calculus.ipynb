{
 "cells": [
  {
   "cell_type": "markdown",
   "id": "ec4e1dc8",
   "metadata": {},
   "source": [
    "# Vector Calculus\n",
    "\n",
    "Classical electrodynamics describes electromagnetic fields that vary in time and space.  To describe these variations, we use the mathematical framework of ***vector calculus***.  This means that we take derivatives and integrals of scalar and vector fields in three dimensions.  This notebook will introduce you to the most important operations of vector calculus in electrodynamics and give you some tools for visualizing the effect of these operations."
   ]
  },
  {
   "cell_type": "markdown",
   "id": "bbd262bc",
   "metadata": {},
   "source": [
    "## Modules\n",
    "\n",
    "A **module** is a collection of Python functions defined in a separate file.  This notebook uses a couple of custom modules: `Electrodynamics.py` and `VectorCalculus.py`.\n",
    "\n",
    "Before we import them, find these files in your directory, open them, and inspect their contents.\n",
    "\n",
    "- What are some of the functions defined in these modules?  What do they do?"
   ]
  },
  {
   "cell_type": "markdown",
   "id": "6c45c41b",
   "metadata": {},
   "source": [
    "***Replace with your response.***"
   ]
  },
  {
   "cell_type": "code",
   "execution_count": null,
   "id": "aabfbfec",
   "metadata": {},
   "outputs": [],
   "source": [
    "# Get access to useful functions.\n",
    "import numpy as np\n",
    "import matplotlib.pyplot as plt\n",
    "from mpl_toolkits import mplot3d\n",
    "\n",
    "# Get access to custom functions.\n",
    "import VectorCalculus as vc\n",
    "import Electrodynamics as ed\n",
    "\n",
    "from importlib import reload\n",
    "reload(vc)\n",
    "reload(ed)"
   ]
  },
  {
   "cell_type": "code",
   "execution_count": null,
   "id": "15c4cf5c",
   "metadata": {},
   "outputs": [],
   "source": [
    "## Use this command to turn ON interactive plots:\n",
    "# %matplotlib notebook\n",
    "\n",
    "## Use this command to turn OFF interactive plots.\n",
    "# %matplotlib inline"
   ]
  },
  {
   "cell_type": "markdown",
   "id": "95411b2f",
   "metadata": {},
   "source": [
    "Now that we have access to the functions, let's create an electric field, an electrostatic potential, and start exploring."
   ]
  },
  {
   "cell_type": "code",
   "execution_count": null,
   "id": "d9555ffc",
   "metadata": {},
   "outputs": [],
   "source": [
    "# Define coordinate grid.\n",
    "num_points = 257\n",
    "box_size = 5\n",
    "\n",
    "# Store coordinate arrays.\n",
    "X,Y,Z = ed.coordinates(L=box_size, N=num_points)\n",
    "\n",
    "# Compute grid spacing.\n",
    "ds = X[1,0,0] - X[0,0,0]\n",
    "\n",
    "# Store grid and spacing in a single object for repeated use later.\n",
    "grid = (X,Y,Z,ds)\n",
    "\n",
    "# Define charge and location of two point charges.\n",
    "Q1 = +1\n",
    "x1 = -1\n",
    "y1 = 0\n",
    "z1 = 0\n",
    "R1 = np.array([x1,y1,z1])\n",
    "\n",
    "Q2 = -1\n",
    "x2 = +1\n",
    "y2 = 0\n",
    "z2 = 0\n",
    "R2 = np.array([x2,y2,z2])\n",
    "\n",
    "# Compute the potential.\n",
    "V  = ed.point_charge_potential(Q1, R1, X, Y, Z)\n",
    "V += ed.point_charge_potential(Q2, R2, X, Y, Z)\n",
    "\n",
    "# Compute the electric field.\n",
    "E  = ed.point_charge_field(Q1, R1, X, Y, Z)\n",
    "E += ed.point_charge_field(Q2, R2, X, Y, Z)"
   ]
  },
  {
   "cell_type": "code",
   "execution_count": null,
   "id": "45869722",
   "metadata": {},
   "outputs": [],
   "source": [
    "# Draw the electric field.\n",
    "ed.draw_vector_field(X,Y,Z,*E)"
   ]
  },
  {
   "cell_type": "code",
   "execution_count": null,
   "id": "a9666c39",
   "metadata": {},
   "outputs": [],
   "source": [
    "# Draw a slice through the potential.\n",
    "z0 = 0.0\n",
    "ed.draw_scalar_field(X,Y,Z,V,z0, cutoff=10)"
   ]
  },
  {
   "cell_type": "markdown",
   "id": "b25a4067",
   "metadata": {},
   "source": [
    "## Integrals\n",
    "\n",
    "When you first learned what an integral was, you probably learned about a one dimensional integral of a function of just one variable: $\\int dx \\, f(x)$.  In electrodynamics, we have three dimensions, so all of our functions have three variables: $V(x,y,z)$, $\\vec{E}(x,y,z)$.  What's more, some of the fields we work with are vector fields, so they have three components.  We can integrate these fields over lines, surfaces, or volumes.\n",
    "\n",
    "Let's look at some of the useful integrals we can create."
   ]
  },
  {
   "cell_type": "markdown",
   "id": "24743933",
   "metadata": {},
   "source": [
    "## Line Integral\n",
    "\n",
    "A familiar operation from vector calculus is the line integral.  We use it in classical mechanics to calculate the work required to move a system from point A to point B:\n",
    "\n",
    "$$W = \\int_{A}^{B} d\\vec{s} \\cdot \\vec{F}$$\n",
    "\n",
    "We can generalize the idea of the line integral to any vector field.  Let's explore this concept for the electric field of two charges."
   ]
  },
  {
   "cell_type": "code",
   "execution_count": null,
   "id": "d15174ee",
   "metadata": {},
   "outputs": [],
   "source": [
    "# Define a path.\n",
    "x0 = 0\n",
    "y0 = 1\n",
    "z0 = -1\n",
    "\n",
    "# Initial position.\n",
    "P0 = np.array([x0,y0,z0])\n",
    "\n",
    "# Use unit vectors to define the displacement.\n",
    "dx = 3 * vc.eX\n",
    "dy = 4 * vc.eY\n",
    "dz = 2 * vc.eZ\n",
    "\n",
    "# Move to endpoint in steps along a single axis.\n",
    "P1 = P0 + dx\n",
    "P2 = P1 + dy\n",
    "P3 = P2 + dz\n",
    "\n",
    "# Assemble the points into a list.\n",
    "points = [P0, P1, P2, P3]\n",
    "\n",
    "# Compute the contour integral.\n",
    "W = vc.path_integral(E, points, *grid)\n",
    "\n",
    "# Draw the electric field and the path.\n",
    "ax = vc.draw_path(E, points, *grid)\n",
    "\n",
    "# Indicate location of charges in plot.\n",
    "ax.scatter3D(*list(zip(R1,R2)),c=['k','b'], s=9)\n",
    "\n",
    "# Display the result.\n",
    "print(\"The contour integral is\", W)"
   ]
  },
  {
   "cell_type": "markdown",
   "id": "34b087c6",
   "metadata": {},
   "source": [
    "By changing the order of the steps (dx, dy, dz) you can generate six different paths between the starting and ending point.  Do this.  What range of values do you observe for the different paths?"
   ]
  },
  {
   "cell_type": "markdown",
   "id": "dcf3ec4d",
   "metadata": {},
   "source": [
    "***Repalce with your comments.***"
   ]
  },
  {
   "cell_type": "markdown",
   "id": "c51d3772",
   "metadata": {},
   "source": [
    "Create a path with at least 6 points.  Plot it here."
   ]
  },
  {
   "cell_type": "code",
   "execution_count": null,
   "id": "2f62ae2b",
   "metadata": {},
   "outputs": [],
   "source": [
    "# Replace with your own code."
   ]
  },
  {
   "cell_type": "markdown",
   "id": "d8c767a3",
   "metadata": {},
   "source": [
    "## Circulation\n",
    "\n",
    "If the contour for a line integral starts and ends on the same point, its value is called the **circulation** of the vector field, sometimes given the symbol $\\Gamma$:\n",
    "\n",
    "$$\\Gamma = \\oint d\\vec{s} \\cdot \\vec{E}$$\n",
    "\n",
    "The \"O\" on the integral sign is to indicate that the path is actually a closed loop."
   ]
  },
  {
   "cell_type": "code",
   "execution_count": null,
   "id": "5f6ab8ee",
   "metadata": {},
   "outputs": [],
   "source": [
    "# Define a path.\n",
    "x0 = -1.5\n",
    "y0 = -1\n",
    "z0 = -4\n",
    "\n",
    "# Initial position.\n",
    "P0 = np.array([x0,y0,z0])\n",
    "\n",
    "# Use unit vectors to define the displacement.\n",
    "dx = 3 * vc.eX\n",
    "dy = 4 * vc.eY\n",
    "dz = 8 * vc.eZ\n",
    "\n",
    "# Move to endpoint in steps along a single axis.\n",
    "P1 = P0 + dx\n",
    "P2 = P1 + dz\n",
    "P3 = P2 - dx\n",
    "P4 = P3 - dz\n",
    "\n",
    "# Assemble the points into a list.\n",
    "points = [P0, P1, P2, P3, P4]\n",
    "\n",
    "# Compute the circulation.\n",
    "Gamma = vc.path_integral(E, points, *grid)\n",
    "\n",
    "# Draw the electric field and the path.\n",
    "ax = vc.draw_path(E, points, *grid)\n",
    "\n",
    "# Indicate location of charges in plot.\n",
    "ax.scatter3D(*list(zip(R1,R2)),c=['k','b'], s=9)\n",
    "\n",
    "# Display the result.\n",
    "print(\"The circulation integral is\", Gamma)"
   ]
  },
  {
   "cell_type": "markdown",
   "id": "101c27df",
   "metadata": {},
   "source": [
    "Move the loop around and change its size and orientation by modifying the code above.  You can try adding more points if you would like.\n",
    "\n",
    "Compute the circulation for at least 6 different contours.  What range of values do you observe?"
   ]
  },
  {
   "cell_type": "markdown",
   "id": "112069d2",
   "metadata": {},
   "source": [
    "***Repalce with your comments.***"
   ]
  },
  {
   "cell_type": "markdown",
   "id": "270a3ba4",
   "metadata": {},
   "source": [
    "## Flux\n",
    "\n",
    "A **flux** is often defined as an amount of *something* passing through a surface per unit time: energy, charge, mass, volume of fluid, etc.  However, the mathematical concept is more general.  We can compute the flux of *any* vector field through *any* surface.  The resulting quantity is often given the symbol $\\Phi$.\n",
    "\n",
    "$$\\Phi = \\int d\\vec{A} \\cdot \\vec{E}$$\n",
    "\n",
    "$d\\vec{A}$ is an **area element** whose direction is perpendicular to the surface.  When the surface is closed, we indicate this with a modified integral sign.\n",
    "\n",
    "$$\\Phi = \\oint d\\vec{A} \\cdot \\vec{E}$$\n",
    "\n",
    "Gauss' law is an example of flux through a closed surface."
   ]
  },
  {
   "cell_type": "code",
   "execution_count": null,
   "id": "a51c99c2",
   "metadata": {},
   "outputs": [],
   "source": [
    "# Define rectangular box for computing flux.\n",
    "# Coordinates of center.\n",
    "xC = 1\n",
    "yC = -4\n",
    "zC = -2\n",
    "\n",
    "# Lenth of sides.\n",
    "dX = 3\n",
    "dY = 1\n",
    "dZ = 2\n",
    "\n",
    "# Bottom, front, left corner, required by flux and plotting functions.\n",
    "P0 = np.array([xC, yC, zC]) - np.array([dX,dY,dZ]) / 2\n",
    "\n",
    "# Compute the flux.\n",
    "Phi = vc.flux(E, P0, dX, dY, dZ, *grid)\n",
    "\n",
    "# Draw the box and the field.\n",
    "ax = vc.draw_box(E, P0, dX, dY, dZ, *grid)\n",
    "\n",
    "# Indicate location of charges in plot.\n",
    "ax.scatter3D(*list(zip(R1,R2)),c=['k','b'], s=9)\n",
    "\n",
    "# Display the result.\n",
    "print(\"The flux through the box is\", Phi)"
   ]
  },
  {
   "cell_type": "markdown",
   "id": "929052b7",
   "metadata": {},
   "source": [
    "Explore the flux of this electric field.  Move the box around and change its shape by modifying the code above.\n",
    "\n",
    "What range of values do you observe when ***no charges are in the box***?"
   ]
  },
  {
   "cell_type": "markdown",
   "id": "4ac751cc",
   "metadata": {},
   "source": [
    "***Repalce with your comments.***"
   ]
  },
  {
   "cell_type": "markdown",
   "id": "bdce0235",
   "metadata": {},
   "source": [
    "What range of values do you observe when ***only one charge is in the box***?"
   ]
  },
  {
   "cell_type": "markdown",
   "id": "6e9a4f60",
   "metadata": {},
   "source": [
    "***Repalce with your comments.***"
   ]
  },
  {
   "cell_type": "markdown",
   "id": "324e74aa",
   "metadata": {},
   "source": [
    "What range of values do you observe when ***both charges are in the box***?"
   ]
  },
  {
   "cell_type": "markdown",
   "id": "dbcd4a56",
   "metadata": {},
   "source": [
    "***Repalce with your comments.***"
   ]
  },
  {
   "cell_type": "markdown",
   "id": "9c5c5dce",
   "metadata": {},
   "source": [
    "## Derivatives\n",
    "\n",
    "When you first learned about derivatives, as with integrals, you probably learned about the rate of change of a scalar function of a single variable: $\\dfrac{df}{dx}$.\n",
    "\n",
    "In mechanics, we also use derivatives of vector funcations: $\\vec{v}(t) = \\dfrac{d\\vec{r}}{dt}$.\n",
    "\n",
    "There are more possibilities for derivatives in three dimensions, especially when working with vector fields.  We will see three kinds of derivatives quite often in this course."
   ]
  },
  {
   "cell_type": "markdown",
   "id": "a65b7014",
   "metadata": {},
   "source": [
    "## Gradient\n",
    "\n",
    "You may already be familiar with the gradient from an earlier physics course.  We can't simply \"take the deriviative of a function\" in three dimensions.  We need to specify a direction first.  The gradient is special, because it gives the direction of **steepest ascent** — the direction in which a function changes most rapidly at a particular point in space.  (If the function happens to give the height as a function of position, then the gradient points directly uphill.)\n",
    "\n",
    "The gradient of a scalar function is defined as a collection of derivatives:\n",
    "$$\n",
    "\\mathbf{grad}(f) = \\nabla f = \\dfrac{\\partial f}{\\partial x} \\, \\mathbf{e}_x\n",
    "        + \\dfrac{\\partial f}{\\partial y} \\, \\mathbf{e}_y\n",
    "        + \\dfrac{\\partial f}{\\partial z} \\, \\mathbf{e}_z\n",
    "$$"
   ]
  },
  {
   "cell_type": "code",
   "execution_count": null,
   "id": "035b0818",
   "metadata": {},
   "outputs": [],
   "source": [
    "# Define a function in 3D.\n",
    "f = np.exp(-X**2 - Y**2 - Z**2)\n",
    "\n",
    "# Compute its gradient.\n",
    "df = vc.grad(f,ds)"
   ]
  },
  {
   "cell_type": "code",
   "execution_count": null,
   "id": "47c04447",
   "metadata": {},
   "outputs": [],
   "source": [
    "# Draw a slice of the function.\n",
    "ed.draw_scalar_field(X,Y,Z,f, cutoff=f.max())\n",
    "\n",
    "# Draw the resulting vector field.\n",
    "ed.draw_vector_field(X,Y,Z,*df)"
   ]
  },
  {
   "cell_type": "markdown",
   "id": "abe01c66",
   "metadata": {},
   "source": [
    "Compare the vector field to the scalar field.  Do the arrows make sense as a direction of steepest ascent?  Explain why or why not."
   ]
  },
  {
   "cell_type": "markdown",
   "id": "3ff873d6",
   "metadata": {},
   "source": [
    "***Repalce with your comments.***"
   ]
  },
  {
   "cell_type": "markdown",
   "id": "3288c255",
   "metadata": {},
   "source": [
    "Change the definition of $f(x,y,z)$ to plot some other functions of your choosing.  Maybe try for something with ripples ...\n",
    "\n",
    "What are your observations about the relation of the gradient to the starting function?"
   ]
  },
  {
   "cell_type": "markdown",
   "id": "4421a196",
   "metadata": {},
   "source": [
    "***Repalce with your comments.***"
   ]
  },
  {
   "cell_type": "markdown",
   "id": "4f75ae83",
   "metadata": {},
   "source": [
    "**Note:** Notice that the gradient maps a scalar field to a vector field.  It is possible to take the gradient of a vector field, but the resulting object is called a ***tensor***.  In three dimensions, it has 9 components and can be interpreted as a kind of ***matrix-valued function*** at every point in space.  These are difficult to plot!\n",
    "\n",
    "When we take the derivative of a vector field $\\vec{F}(x,y,z)$, there are 9 possible derivatives:\n",
    "$$\n",
    "\\dfrac{\\partial F_x}{\\partial x},\n",
    "\\dfrac{\\partial F_x}{\\partial y},\n",
    "\\dfrac{\\partial F_x}{\\partial z},\n",
    "\\dfrac{\\partial F_y}{\\partial x},\n",
    "\\dfrac{\\partial F_y}{\\partial y},\n",
    "\\dfrac{\\partial F_y}{\\partial z},\n",
    "\\dfrac{\\partial F_z}{\\partial x},\n",
    "\\dfrac{\\partial F_z}{\\partial y},\n",
    "\\dfrac{\\partial F_z}{\\partial z},\n",
    "$$\n",
    "\n",
    "It turns out that two combinations of these derivatives are all that is required for electrodynamics!  One combination, called the **divergence** produces a scalar field.  The other, called the **curl** produces another vector field."
   ]
  },
  {
   "cell_type": "markdown",
   "id": "596d57d9",
   "metadata": {},
   "source": [
    "## Divergence\n",
    "\n",
    "The divergence of a vector field $\\vec{F}(x,y,z)$ is defined as\n",
    "$$\\mathbf{div}(\\vec{F}) = \\nabla \\cdot \\vec{F} = \n",
    "\\dfrac{\\partial F_x}{\\partial x} + \n",
    "\\dfrac{\\partial F_y}{\\partial y} +\n",
    "\\dfrac{\\partial F_z}{\\partial z}\n",
    "$$"
   ]
  },
  {
   "cell_type": "code",
   "execution_count": null,
   "id": "13866f54",
   "metadata": {},
   "outputs": [],
   "source": [
    "# Define a vector field.\n",
    "Fx = X**2 * Y\n",
    "Fy = X*Y*Z**2\n",
    "Fz = X*2 + Y*2\n",
    "F = np.stack([Fx, Fy, Fz])\n",
    "\n",
    "# Compute the divergence.\n",
    "dF = vc.div(F,ds)"
   ]
  },
  {
   "cell_type": "code",
   "execution_count": null,
   "id": "57188d4f",
   "metadata": {},
   "outputs": [],
   "source": [
    "# Plot the vector field.\n",
    "ed.draw_vector_field(X,Y,Z,*F)\n",
    "\n",
    "# Plot the divergence.\n",
    "z0 = 0.0\n",
    "ed.draw_scalar_field(X,Y,Z,dF,z0)"
   ]
  },
  {
   "cell_type": "markdown",
   "id": "be08ad25",
   "metadata": {},
   "source": [
    "Compare the vector field to the scalar field.  Can you identify any correlations between the scalar field and the vector field?"
   ]
  },
  {
   "cell_type": "markdown",
   "id": "a002b395",
   "metadata": {},
   "source": [
    "***Repalce with your comments.***"
   ]
  },
  {
   "cell_type": "markdown",
   "id": "a5ac9897",
   "metadata": {},
   "source": [
    "Try looking at different slices of the divergence.  Try changing the definition of the vector field.  Describe your efforts and observations."
   ]
  },
  {
   "cell_type": "markdown",
   "id": "8fbacc85",
   "metadata": {},
   "source": [
    "***Repalce with your comments.***"
   ]
  },
  {
   "cell_type": "markdown",
   "id": "137294b2",
   "metadata": {},
   "source": [
    "According to Maxwell's equations, the divergence of the electric field is related to the charge density ..."
   ]
  },
  {
   "cell_type": "code",
   "execution_count": null,
   "id": "e633efa3",
   "metadata": {},
   "outputs": [],
   "source": [
    "# Compute the divergence of the electric field.\n",
    "dE = vc.div(E,ds)"
   ]
  },
  {
   "cell_type": "code",
   "execution_count": null,
   "id": "19498a75",
   "metadata": {},
   "outputs": [],
   "source": [
    "# Plot the vector field ...\n",
    "ax = ed.draw_vector_field(X,Y,Z,*E)\n",
    "\n",
    "# ... with charges.\n",
    "ax.scatter3D(*list(zip(R1,R2)),c=['k','b'], s=9)\n",
    "\n",
    "# Plot the divergence.\n",
    "ed.draw_scalar_field(X,Y,Z,dE)"
   ]
  },
  {
   "cell_type": "markdown",
   "id": "83664dfd",
   "metadata": {},
   "source": [
    "What kind of correlation do you see between the electric field and its divergence?"
   ]
  },
  {
   "cell_type": "markdown",
   "id": "88682d83",
   "metadata": {},
   "source": [
    "***Repalce with your comments.***"
   ]
  },
  {
   "cell_type": "markdown",
   "id": "e21a1ac2",
   "metadata": {},
   "source": [
    "Change the charges and their locations, and then recompute the field and its divergence.  Describe your efforts and the results."
   ]
  },
  {
   "cell_type": "markdown",
   "id": "a29cf0d4",
   "metadata": {},
   "source": [
    "***Repalce with your comments.***"
   ]
  },
  {
   "cell_type": "markdown",
   "id": "a799f985",
   "metadata": {},
   "source": [
    "## Curl\n",
    "\n",
    "The other combination of derivatives that shows up frequently in physics is called the **curl** of a vector field.  It is another vector field, whose components are particular combinations of derivatives.\n",
    "\n",
    "$$\n",
    "\\mathbf{curl}(\\vec{F}) = \\nabla \\times \\vec{F} =\n",
    "\\left(\\dfrac{\\partial F_z}{\\partial y} - \\dfrac{\\partial F_y}{\\partial z}\\right) \\, \\mathbf{e}_x +\n",
    "\\left(\\dfrac{\\partial F_x}{\\partial z} - \\dfrac{\\partial F_z}{\\partial x}\\right) \\, \\mathbf{e}_y +\n",
    "\\left(\\dfrac{\\partial F_y}{\\partial x} - \\dfrac{\\partial F_x}{\\partial y}\\right) \\, \\mathbf{e}_z\n",
    "$$"
   ]
  },
  {
   "cell_type": "code",
   "execution_count": null,
   "id": "ce12de39",
   "metadata": {},
   "outputs": [],
   "source": [
    "# Define a vector field.\n",
    "Fx = Y\n",
    "Fy = -X\n",
    "Fz = Z**2\n",
    "F = np.stack([Fx, Fy, Fz])\n",
    "\n",
    "# Compute the curl.\n",
    "dF = vc.curl(F,ds)"
   ]
  },
  {
   "cell_type": "code",
   "execution_count": null,
   "id": "7b3acada",
   "metadata": {},
   "outputs": [],
   "source": [
    "# Plot the vector field.\n",
    "ed.draw_vector_field(X,Y,Z,*F)\n",
    "\n",
    "# Plot the curl.\n",
    "ed.draw_vector_field(X,Y,Z,*dF)"
   ]
  },
  {
   "cell_type": "markdown",
   "id": "8928304a",
   "metadata": {},
   "source": [
    "It can be hard to make sense of the mass of arrows, but give it a try.  (You can reduce the number of arrows in a plot using the `stride` keyword ...)\n",
    "\n",
    "What patterns or correlations do you notice between the arrows in the original vector field and those in its curl?"
   ]
  },
  {
   "cell_type": "markdown",
   "id": "ff59f7b4",
   "metadata": {},
   "source": [
    "***Repalce with your comments.***"
   ]
  },
  {
   "cell_type": "markdown",
   "id": "66d57b42",
   "metadata": {},
   "source": [
    "Try changing the definition of the vector field.  Describe your efforts and observations with other functions.  What was special about the original function?"
   ]
  },
  {
   "cell_type": "markdown",
   "id": "23a8c285",
   "metadata": {},
   "source": [
    "***Repalce with your comments.***"
   ]
  },
  {
   "cell_type": "markdown",
   "id": "c2697ee8",
   "metadata": {},
   "source": [
    "## Combinations\n",
    "\n",
    "Just as we can take second derivatives in calculus, we can combine the vector derivative operations.  Play around with the following.  Change the function definitions, and try to deduce patterns or special cases that seem interesting."
   ]
  },
  {
   "cell_type": "markdown",
   "id": "371e2ff6",
   "metadata": {},
   "source": [
    "### Divergence of a Gradient\n",
    "\n",
    "The divergence of the gradient of a function is also called the **laplacian** of the function:\n",
    "$$\\mathbf{div}(\\mathbf{grad}(f)) = \\nabla \\cdot \\nabla f = \\nabla^2 f$$"
   ]
  },
  {
   "cell_type": "code",
   "execution_count": null,
   "id": "ec6b91b3",
   "metadata": {},
   "outputs": [],
   "source": [
    "# Define a function in 3D.\n",
    "f = np.exp(-X**2 - Y**2 - Z**2)\n",
    "\n",
    "# Compute the divergence of the gradient.\n",
    "ddf = vc.div(vc.grad(f,ds),ds)"
   ]
  },
  {
   "cell_type": "code",
   "execution_count": null,
   "id": "ad44299a",
   "metadata": {},
   "outputs": [],
   "source": [
    "# Draw a slice of the function.\n",
    "ed.draw_scalar_field(X,Y,Z,f, cutoff=f.max())\n",
    "\n",
    "# Draw a slice of div-grad-f.\n",
    "ed.draw_scalar_field(X,Y,Z,ddf, cutoff=ddf.max())"
   ]
  },
  {
   "cell_type": "markdown",
   "id": "630679c0",
   "metadata": {},
   "source": [
    "### Curl of a Gradient\n",
    "\n",
    "The curl of the gradient is defined as\n",
    "$$\\mathbf{curl}(\\mathbf{grad}(f)) = \\nabla \\times \\nabla f$$\n",
    "\n",
    "This operation has no special name.  Can you see why?"
   ]
  },
  {
   "cell_type": "code",
   "execution_count": null,
   "id": "2333e57e",
   "metadata": {},
   "outputs": [],
   "source": [
    "# Define a function in 3D.\n",
    "f = np.exp(-X**2 - Y**2 - Z**2)\n",
    "\n",
    "# Compute the curl of the gradient.\n",
    "ddf = vc.curl(vc.grad(f,ds),ds)"
   ]
  },
  {
   "cell_type": "code",
   "execution_count": null,
   "id": "1078fe71",
   "metadata": {},
   "outputs": [],
   "source": [
    "# Draw a slice of the function.\n",
    "ed.draw_scalar_field(X,Y,Z,f, cutoff=f.max())\n",
    "\n",
    "# Draw the vector field.\n",
    "ed.draw_vector_field(X,Y,Z,*ddf)"
   ]
  },
  {
   "cell_type": "code",
   "execution_count": null,
   "id": "ab8a469f",
   "metadata": {},
   "outputs": [],
   "source": [
    "# Draw slices through the components of curl-grad-f.\n",
    "z0 = 0.0\n",
    "ed.draw_scalar_field(X,Y,Z,ddf[0], z0)  # x-component\n",
    "ed.draw_scalar_field(X,Y,Z,ddf[1], z0)  # y-component\n",
    "ed.draw_scalar_field(X,Y,Z,ddf[2], z0)  # z-component"
   ]
  },
  {
   "cell_type": "markdown",
   "id": "471a64e0",
   "metadata": {},
   "source": [
    "### Curl of a Curl\n",
    "\n",
    "The curl of the curl of a vector field is defined as\n",
    "$$\\mathbf{curl}(\\mathbf{curl}(\\vec{F})) = \\nabla \\times (\\nabla \\times \\vec{F})$$\n",
    "\n",
    "This operation will appear when we look at electromagnetic waves!"
   ]
  },
  {
   "cell_type": "code",
   "execution_count": null,
   "id": "f62ced1d",
   "metadata": {},
   "outputs": [],
   "source": [
    "# Define a vector field.\n",
    "Fx = Z*Y**2\n",
    "Fy = Z*X**2\n",
    "Fz = X*Y**2\n",
    "F = np.stack([Fx, Fy, Fz])\n",
    "\n",
    "# Compute the curl.\n",
    "ddF = vc.curl(vc.curl(F,ds),ds)"
   ]
  },
  {
   "cell_type": "code",
   "execution_count": null,
   "id": "6ab4b96a",
   "metadata": {},
   "outputs": [],
   "source": [
    "# Plot the vector field.\n",
    "ed.draw_vector_field(X,Y,Z,*F)\n",
    "\n",
    "# Plot the curl-of-the-curl.\n",
    "ed.draw_vector_field(X,Y,Z,*ddF)"
   ]
  },
  {
   "cell_type": "code",
   "execution_count": null,
   "id": "1e3b6831",
   "metadata": {},
   "outputs": [],
   "source": [
    "# Draw slices through the components of curl-curl-f.\n",
    "z0 = 0.0\n",
    "ed.draw_scalar_field(X,Y,Z,ddF[0], z0)  # x-component\n",
    "ed.draw_scalar_field(X,Y,Z,ddF[1], z0)  # y-component\n",
    "ed.draw_scalar_field(X,Y,Z,ddF[2], z0)  # z-component"
   ]
  },
  {
   "cell_type": "markdown",
   "id": "507933b9",
   "metadata": {},
   "source": [
    "### Divergence of a Curl\n",
    "\n",
    "The divergence of the curl is written as\n",
    "$$\\mathbf{div}(\\mathbf{curl}(\\vec{F})) = \\nabla \\cdot (\\nabla \\times \\vec{F})$$\n",
    "\n",
    "This one has no special name either ..."
   ]
  },
  {
   "cell_type": "code",
   "execution_count": null,
   "id": "2c1809cf",
   "metadata": {},
   "outputs": [],
   "source": [
    "# Define a vector field.\n",
    "Fx = Z*Y**2\n",
    "Fy = Z*X**2\n",
    "Fz = X*Y**2\n",
    "F = np.stack([Fx, Fy, Fz])\n",
    "\n",
    "# Compute the curl.\n",
    "ddF = vc.div(vc.curl(F,ds),ds)"
   ]
  },
  {
   "cell_type": "code",
   "execution_count": null,
   "id": "24bf38f8",
   "metadata": {},
   "outputs": [],
   "source": [
    "# Plot the vector field.\n",
    "ed.draw_vector_field(X,Y,Z,*F)\n",
    "\n",
    "# Plot a slice of div-curl-F.\n",
    "z0 = 0.0\n",
    "ed.draw_scalar_field(X,Y,Z,ddF, z0)"
   ]
  },
  {
   "cell_type": "markdown",
   "id": "a0e3d040",
   "metadata": {},
   "source": [
    "## Reflection and Summary\n",
    "\n",
    "Congratulations!  You just completed a crash course in vector calculus!\n",
    "\n",
    "- What are the major takeaways of this assignment for you?\n",
    "- What was the most difficult part of this assignment?\n",
    "- What was the most interesting part of this assignment?\n",
    "- What questions do you have?"
   ]
  },
  {
   "cell_type": "code",
   "execution_count": null,
   "id": "6b4e5731",
   "metadata": {},
   "outputs": [],
   "source": []
  }
 ],
 "metadata": {
  "kernelspec": {
   "display_name": "Python 3",
   "language": "python",
   "name": "python3"
  },
  "language_info": {
   "codemirror_mode": {
    "name": "ipython",
    "version": 3
   },
   "file_extension": ".py",
   "mimetype": "text/x-python",
   "name": "python",
   "nbconvert_exporter": "python",
   "pygments_lexer": "ipython3",
   "version": "3.9.5"
  }
 },
 "nbformat": 4,
 "nbformat_minor": 5
}
