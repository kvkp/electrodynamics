{
 "cells": [
  {
   "cell_type": "markdown",
   "id": "af4c867f",
   "metadata": {},
   "source": [
    "# Potential and Field\n",
    "\n",
    "In the previous notebook, you explored the effects and properties of the vector operations ***divergence***, ***gradient***, and ***curl***.  In this notebook, you will use these operations to explore relations between the electric field, the electrostatic potential, and the charge density.\n"
   ]
  },
  {
   "cell_type": "markdown",
   "id": "ed406c60",
   "metadata": {},
   "source": [
    "## Zero Curl\n",
    "\n",
    "Consider the following electric field:\n",
    "$$\n",
    "\\vec{E} = (2xy^2 + z^3) \\, \\hat{\\mathbf{e}}_x\n",
    "        + (2x^2y) \\, \\hat{\\mathbf{e}}_y\n",
    "        + (3xz^2) \\, \\hat{\\mathbf{e}}_z\n",
    "$$\n",
    "\n",
    "Show that $\\nabla \\times \\vec{E} = 0$.\n",
    "\n",
    "Adapt the methods of the previous notebook to do the following:\n",
    "\n",
    "1. Define the vector field $\\vec{E}$ on a 3D grid.\n",
    "2. Plot $\\vec{E}$.\n",
    "3. Compute the curl, $\\nabla \\times \\vec{E}$, on the same grid.\n",
    "4. Demonstrate that $\\nabla \\times \\vec{E} \\approx 0$.\n",
    "\n",
    "For Part 4, do not simply compute the curl.  You may not obtain strict equality in part 4 due to numerical error and edge effects, but you should provide some quantitative evidence that the curl is nearly zero nearly everywhere."
   ]
  },
  {
   "cell_type": "code",
   "execution_count": null,
   "id": "b4ca0cd8",
   "metadata": {},
   "outputs": [],
   "source": [
    "# Start your code here."
   ]
  },
  {
   "cell_type": "markdown",
   "id": "a2f6cba4",
   "metadata": {},
   "source": [
    "## Gradient\n",
    "\n",
    "Find the potential.\n",
    "\n",
    "Since the curl of $\\vec{E}$ is zero, we can write $\\vec{E}$ as the gradient of a function $\\phi$:\n",
    "$$\\nabla \\times \\vec{E} = 0 \\qquad \\implies \\qquad \\vec{E} = -\\nabla \\phi$$\n",
    "\n",
    "Determine a function $\\phi(x,y,z)$ whose gradient is $\\vec{E}$.\n",
    "\n",
    "1. Derive the scalar field $\\phi$.  Use any method you like: pencil and paper, trial and error, symbolic computing, etc.\n",
    "2. Define the scalar field $\\phi$ on a 3D grid.\n",
    "3. Plot a slice of $\\phi$ for some constant $z$-values of your choice.\n",
    "4. Compute the gradient, $\\nabla \\phi$, on the same grid.\n",
    "5. Compare $-\\nabla\\phi$ and the original field $\\vec{E}$.  Demonstrate that $\\vec{E} \\approx - \\nabla \\phi$.\n",
    "\n",
    "For Part 5, do not simply compute the gradient.  You may not obtain strict equality due to numerical error and edge effects, but you should provide some quantitative evidence that the gradient of the function you chose is nearly equal to $\\vec{E}$ nearly everywhere."
   ]
  },
  {
   "cell_type": "code",
   "execution_count": null,
   "id": "a1385865",
   "metadata": {},
   "outputs": [],
   "source": [
    "# Insert your code here."
   ]
  },
  {
   "cell_type": "markdown",
   "id": "71b2aa6c",
   "metadata": {},
   "source": [
    "## Summary and Reflection\n",
    "\n",
    "Summarize your efforts, insights, and conclusions in the space below.\n",
    "- What did you find?\n",
    "- What was difficult?\n",
    "- How confident are you in your work?\n",
    "- What questions do you have after working through this exercise?"
   ]
  },
  {
   "cell_type": "markdown",
   "id": "abc76509",
   "metadata": {},
   "source": [
    "***Replace with your response.***"
   ]
  }
 ],
 "metadata": {
  "kernelspec": {
   "display_name": "Python 3",
   "language": "python",
   "name": "python3"
  },
  "language_info": {
   "codemirror_mode": {
    "name": "ipython",
    "version": 3
   },
   "file_extension": ".py",
   "mimetype": "text/x-python",
   "name": "python",
   "nbconvert_exporter": "python",
   "pygments_lexer": "ipython3",
   "version": "3.9.5"
  }
 },
 "nbformat": 4,
 "nbformat_minor": 5
}
