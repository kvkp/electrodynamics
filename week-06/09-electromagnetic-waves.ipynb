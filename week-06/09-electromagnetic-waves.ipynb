{
 "cells": [
  {
   "cell_type": "markdown",
   "id": "3d2a893d",
   "metadata": {},
   "source": [
    "# Electromagnetic Waves\n",
    "\n",
    "This week, we will look at the prototype for time-dependent electromagnetic fields: the electromagnet plane wave."
   ]
  },
  {
   "cell_type": "code",
   "execution_count": null,
   "id": "40923f10",
   "metadata": {},
   "outputs": [],
   "source": [
    "import numpy as np\n",
    "import matplotlib.pyplot as plt"
   ]
  },
  {
   "cell_type": "markdown",
   "id": "efd6ca42",
   "metadata": {},
   "source": [
    "## Maxwell's Equations\n",
    "\n",
    "In the absence of any sources — charges or currents — Maxwell's equations give ***wave equations*** for the electric and magnetic fields:\n",
    "\n",
    "\\begin{align*}\n",
    "\\nabla^2 \\vec{E} - \\dfrac{\\epsilon\\mu}{c^2} \\dfrac{\\partial^2 \\vec{E}}{\\partial t^2} &= 0 \\\\\n",
    "\\nabla^2 \\vec{B} - \\dfrac{\\epsilon\\mu}{c^2} \\dfrac{\\partial^2 \\vec{B}}{\\partial t^2} &= 0\n",
    "\\end{align*}\n",
    "\n",
    "These descirbe waves that propagate with a speed of $v = c / \\sqrt{\\mu\\epsilon}$.\n",
    "\n",
    "Any function $f(\\vec{r} \\pm \\vec{v} t)$ is a solution of the wave equation.\n",
    "\n",
    "Maxwell's equation impose additional constraints.  In particular,\n",
    "\n",
    "\\begin{align*}\n",
    "\\nabla \\times \\vec{E} &= \\dfrac{1}{c} \\dfrac{\\partial \\vec{B}}{\\partial t} \\\\\n",
    "\\nabla \\times \\vec{B} &= -\\dfrac{\\mu\\epsilon}{c} \\dfrac{\\partial \\vec{E}}{\\partial t}\n",
    "\\end{align*}\n",
    "\n",
    "## Plane Waves\n",
    "\n",
    "One solution to the wave equation is a ***plane wave***:\n",
    "\n",
    "$$\n",
    "f(\\vec{r},t) = A \\, e^{i(\\vec{k} \\cdot \\vec{r} - \\omega t)}\n",
    "$$\n",
    "\n",
    "The wave equation requires that $\\omega = vk$.  If each component of $\\vec{E}$ and $\\vec{B}$ has this form, we call it an electromagnetic plane wave.  Maxwell's equations give the following relations:\n",
    "\n",
    "\\begin{align*}\n",
    "\\vec{k} \\cdot \\vec{E} &= 0 \\\\\n",
    "\\vec{k} \\times \\vec{E} &= \\dfrac{\\omega}{c} \\vec{B} \\\\\n",
    "\\vec{k} \\cdot \\vec{B} &=0 \\\\\n",
    "\\vec{k} \\times \\vec{B} &= - \\dfrac{\\mu \\epsilon \\omega}{c} \\vec{E}\n",
    "\\end{align*}\n",
    "\n",
    "Let's look at this class of solution."
   ]
  },
  {
   "cell_type": "code",
   "execution_count": null,
   "id": "3ea12dd8",
   "metadata": {},
   "outputs": [],
   "source": [
    "# Define the material.\n",
    "mu = 1\n",
    "epsilon = 1\n",
    "n = np.sqrt(mu*epsilon)\n",
    "\n",
    "# Define the wave vector.\n",
    "# Give magnitude, lattitude, and longitdue.\n",
    "k = 1.57 * np.pi\n",
    "theta = 0.00 * np.pi\n",
    "phi = 0.25 * np.pi\n",
    "\n",
    "kx = k * np.sin(theta) * np.cos(phi)\n",
    "ky = k * np.sin(theta) * np.sin(phi)\n",
    "kz = k * np.cos(theta)\n",
    "\n",
    "omega = k/n\n",
    "\n",
    "# Set time.\n",
    "t0 = 0\n",
    "\n",
    "# Define the electric field, magnetic field, and Poynting vector\n",
    "# for an electromagnetic plane wave.\n",
    "\n",
    "# Give initial direction of electric field.\n",
    "# Everything else is determined by this.\n",
    "E0 = 0.25\n",
    "B0 = np.sqrt(epsilon*mu) * E0\n",
    "\n",
    "thetaE = 0.50 * np.pi\n",
    "phiE = 0.00 * np.pi\n",
    "\n",
    "Ex0 = E0 * np.sin(thetaE) * np.cos(phiE)\n",
    "Ey0 = E0 * np.sin(thetaE) * np.sin(phiE)\n",
    "Ez0 = E0 * np.cos(thetaE)\n",
    "\n",
    "# Set phase difference between electric and magnetic fields.\n",
    "alpha = 0.0 * np.pi\n",
    "\n",
    "# Create a grid.\n",
    "box_size = 2\n",
    "num_points = 11\n",
    "\n",
    "s = np.linspace(-box_size, box_size, num_points)\n",
    "X, Y, Z = np.meshgrid(s,s,s)\n",
    "\n",
    "# Compute the fields on a grid.\n",
    "Ex = Ex0 * np.exp(1j*(kx*X + ky*Y + kz*Z - omega*t0))\n",
    "Ey = Ey0 * np.exp(1j*(kx*X + ky*Y + kz*Z - omega*t0)) * np.exp(1j*alpha)\n",
    "Ez = Ez0 * np.exp(1j*(kx*X + ky*Y + kz*Z - omega*t0))\n",
    "\n",
    "Bx = (ky*Ez - kz*Ey)/omega\n",
    "By = (kz*Ex - kx*Ez)/omega\n",
    "Bz = (kx*Ey - ky*Ex)/omega\n",
    "\n",
    "Sx = 1/(8*np.pi*mu) * (Ey * Bz.conj() - Ez * By.conj())\n",
    "Sy = 1/(8*np.pi*mu) * (Ez * Bx.conj() - Ex * Bz.conj())\n",
    "Sz = 1/(8*np.pi*mu) * (Ex * By.conj() - Ey * Bx.conj())"
   ]
  },
  {
   "cell_type": "code",
   "execution_count": null,
   "id": "e2dead72",
   "metadata": {},
   "outputs": [],
   "source": [
    "# Plot the field.\n",
    "fig = plt.figure(dpi=300)\n",
    "ax = fig.add_subplot(projection='3d')\n",
    "\n",
    "ax.quiver3D(X,Y,Z, Ex.real, Ey.real, Ez.real, pivot='middle',\n",
    "            linewidth=0.5, color='red', label='Electric Field')\n",
    "ax.quiver3D(X,Y,Z, Bx.real, By.real, Bz.real, pivot='middle',\n",
    "            linewidth=0.5, color='blue', label='Magnetic Field')\n",
    "ax.quiver3D(X,Y,Z, 100*Sx.real, 100*Sy.real, 100*Sz.real, pivot='middle',\n",
    "            linewidth=0.5, color='green', label='Poynting Vector x 100')\n",
    "ax.legend()"
   ]
  },
  {
   "cell_type": "code",
   "execution_count": null,
   "id": "b2e84e4e",
   "metadata": {},
   "outputs": [],
   "source": [
    "# Plot the field.\n",
    "# Crop to see more detail.\n",
    "\n",
    "# Create a grid.\n",
    "box_size = 1\n",
    "num_points = 6\n",
    "\n",
    "s = np.linspace(-box_size, box_size, num_points)\n",
    "X, Y, Z = np.meshgrid(s,s,s)\n",
    "\n",
    "# Compute the fields on a grid.\n",
    "ex = Ex0 * np.exp(1j*(kx*X + ky*Y + kz*Z - omega*t0))\n",
    "ey = Ey0 * np.exp(1j*(kx*X + ky*Y + kz*Z - omega*t0)) * np.exp(1j*alpha)\n",
    "ez = Ez0 * np.exp(1j*(kx*X + ky*Y + kz*Z - omega*t0))\n",
    "\n",
    "bx = (ky*ez - kz*ey)/omega\n",
    "by = (kz*ex - kx*ez)/omega\n",
    "bz = (kx*ey - ky*ex)/omega\n",
    "\n",
    "sx = 1/(8*np.pi*mu) * (ey * bz.conj() - ez * by.conj())\n",
    "sy = 1/(8*np.pi*mu) * (ez * bx.conj() - ex * bz.conj())\n",
    "sz = 1/(8*np.pi*mu) * (ex * by.conj() - ey * bx.conj())\n",
    "\n",
    "# Make the plot.\n",
    "fig = plt.figure(dpi=300)\n",
    "ax = fig.add_subplot(projection='3d')\n",
    "\n",
    "ax.quiver3D(X,Y,Z, ex.real, ey.real, ez.real, pivot='middle',\n",
    "            linewidth=0.5, color='red', label='Electric Field')\n",
    "ax.quiver3D(X,Y,Z, bx.real, by.real, bz.real, pivot='middle',\n",
    "            linewidth=0.5, color='blue', label='Magnetic Field')\n",
    "ax.quiver3D(X,Y,Z, 100*sx.real, 100*sy.real, 100*sz.real, pivot='middle',\n",
    "            linewidth=0.5, color='green', label='Poynting Vector x 100')\n",
    "ax.legend()"
   ]
  },
  {
   "cell_type": "markdown",
   "id": "c5262068",
   "metadata": {},
   "source": [
    "## Spatial Structure\n",
    "\n",
    "Do your best to describe the spatial structure of the fields.\n",
    "\n",
    "- In what direction does the electric field point?\n",
    "- In what direction does the magnetic field point?\n",
    "- In what direction does the Poynting vector point?\n",
    "- How does this change as you move along the x, y, and z axes?"
   ]
  },
  {
   "cell_type": "markdown",
   "id": "dfab7731",
   "metadata": {},
   "source": [
    "***Replace with your observations.***"
   ]
  },
  {
   "cell_type": "markdown",
   "id": "35a31512",
   "metadata": {},
   "source": [
    "The magnitude of the wave vector in the last plot was $k = \\pi$.  Change this value to $k = 2\\pi$.  Describe how the spatial structure of the fields changes."
   ]
  },
  {
   "cell_type": "markdown",
   "id": "25deed34",
   "metadata": {},
   "source": [
    "***Replace with your observations.***"
   ]
  },
  {
   "cell_type": "markdown",
   "id": "d1ce894d",
   "metadata": {},
   "source": [
    "Change this value to $k = \\pi/2$.  Describe how the spatial structure of the fields changes."
   ]
  },
  {
   "cell_type": "markdown",
   "id": "608efdc4",
   "metadata": {},
   "source": [
    "***Replace with your observations.***"
   ]
  },
  {
   "cell_type": "markdown",
   "id": "ce480e03",
   "metadata": {},
   "source": [
    "The direction of $\\vec{k}$ is defined by the polar angle $\\theta$ and the azimuthal angle $\\phi$.  Set $k = \\pi$.  Change the ***direction*** of $\\vec{k}$ — but not the magnitude — and describe your observations of the spatial structure of the fields.\n",
    "\n",
    "- How does the direction of $\\vec{k}$ affect the direction of $\\vec{E}$?\n",
    "- How does the direction of $\\vec{k}$ affect the direction of $\\vec{B}$?\n",
    "- How does the direction of $\\vec{k}$ affect the direction of $\\vec{S}$?"
   ]
  },
  {
   "cell_type": "markdown",
   "id": "4572c3d5",
   "metadata": {},
   "source": [
    "***Replace with your observations.***"
   ]
  },
  {
   "cell_type": "markdown",
   "id": "7cf84583",
   "metadata": {},
   "source": [
    "The direction of the electric field and the relative phase of its components defines the ***polarization*** of the wave.\n",
    "\n",
    "Set $\\vec{k}$ to point along the $z$-axis: $\\theta = 0$ and $\\phi=0$.\n",
    "\n",
    "Vary the direction of the electric field by adjusting `thetaE` and `phiE` above.\n",
    "\n",
    "- What happens to $\\vec{E}$, $\\vec{B}$, and $\\vec{S}$ as you change `phiE` while holding `thetaE = 0.5 * np.pi`?\n",
    "- What happens to $\\vec{E}$, $\\vec{B}$, and $\\vec{S}$ as you change `thetaE` while holding `phiE = 0.0`?\n",
    "- What directions of the electric field give the smallest Poynting vectors?"
   ]
  },
  {
   "cell_type": "markdown",
   "id": "3e292023",
   "metadata": {},
   "source": [
    "***Replace with your observations.***"
   ]
  },
  {
   "cell_type": "markdown",
   "id": "f9d1df87",
   "metadata": {},
   "source": [
    "## Temporal Structure\n",
    "\n",
    "Electromagnetic waves oscillate in space and time.\n",
    "\n",
    "The code below will create two plots of the same electromagnetic plane wave at different times."
   ]
  },
  {
   "cell_type": "code",
   "execution_count": null,
   "id": "0c94baa6",
   "metadata": {},
   "outputs": [],
   "source": [
    "# Define the material.\n",
    "mu = 1\n",
    "epsilon = 1\n",
    "n = np.sqrt(mu*epsilon)\n",
    "\n",
    "# Define the wave vector.\n",
    "# Give magnitude, lattitude, and longitdue.\n",
    "k = 1.00 * np.pi\n",
    "theta = 0.00 * np.pi\n",
    "phi = 0.25 * np.pi\n",
    "\n",
    "kx = k * np.sin(theta) * np.cos(phi)\n",
    "ky = k * np.sin(theta) * np.sin(phi)\n",
    "kz = k * np.cos(theta)\n",
    "\n",
    "omega = k/n\n",
    "\n",
    "# Set times for snapshots.\n",
    "T = (2*np.pi) / omega\n",
    "t0 = 0.00\n",
    "t1 = t0 + 0.25*T\n",
    "\n",
    "# Define the electric field, magnetic field, and Poynting vector\n",
    "# for an electromagnetic plane wave.\n",
    "\n",
    "# Give initial direction of electric field.\n",
    "# Everything else is determined by this.\n",
    "E0 = 0.25\n",
    "B0 = np.sqrt(epsilon*mu) * E0\n",
    "\n",
    "thetaE = 0.50 * np.pi\n",
    "phiE = 0.25 * np.pi\n",
    "\n",
    "Ex0 = E0 * np.sin(thetaE) * np.cos(phiE)\n",
    "Ey0 = E0 * np.sin(thetaE) * np.sin(phiE)\n",
    "Ez0 = E0 * np.cos(thetaE)\n",
    "\n",
    "# Set phase difference between electric and magnetic fields.\n",
    "alpha = 0.00 * np.pi\n",
    "\n",
    "# Plot the results.\n",
    "# Create a grid.\n",
    "box_size = 1\n",
    "num_points = 6\n",
    "\n",
    "s = np.linspace(-box_size, box_size, num_points)\n",
    "X, Y, Z = np.meshgrid(s,s,s)\n",
    "\n",
    "# Create the figure.\n",
    "fig = plt.figure(dpi=400)\n",
    "ax1 = fig.add_subplot(211, projection='3d')\n",
    "ax2 = fig.add_subplot(212, projection='3d')\n",
    "\n",
    "# Compute the fields on a grid at the first time.\n",
    "ex = Ex0 * np.exp(1j*(kx*X + ky*Y + kz*Z - omega*t0))\n",
    "ey = Ey0 * np.exp(1j*(kx*X + ky*Y + kz*Z - omega*t0)) * np.exp(1j*alpha)\n",
    "ez = Ez0 * np.exp(1j*(kx*X + ky*Y + kz*Z - omega*t0))\n",
    "\n",
    "bx = (ky*ez - kz*ey)/omega\n",
    "by = (kz*ex - kx*ez)/omega\n",
    "bz = (kx*ey - ky*ex)/omega\n",
    "\n",
    "sx = 1/(8*np.pi*mu) * (ey * bz.conj() - ez * by.conj())\n",
    "sy = 1/(8*np.pi*mu) * (ez * bx.conj() - ex * bz.conj())\n",
    "sz = 1/(8*np.pi*mu) * (ex * by.conj() - ey * bx.conj())\n",
    "\n",
    "ax1.quiver3D(X,Y,Z, ex.real, ey.real, ez.real, pivot='middle',\n",
    "             linewidth=0.5, color='red', label='Electric Field')\n",
    "ax1.quiver3D(X,Y,Z, bx.real, by.real, bz.real, pivot='middle',\n",
    "             linewidth=0.5, color='blue', label='Magnetic Field')\n",
    "ax1.quiver3D(X,Y,Z, 100*sx.real, 100*sy.real, 100*sz.real, pivot='middle',\n",
    "             linewidth=0.5, color='green', label='Poynting Vector x 100')\n",
    "\n",
    "# Compute the fields on a grid at the second time.\n",
    "ex = Ex0 * np.exp(1j*(kx*X + ky*Y + kz*Z - omega*t1))\n",
    "ey = Ey0 * np.exp(1j*(kx*X + ky*Y + kz*Z - omega*t1)) * np.exp(1j*alpha)\n",
    "ez = Ez0 * np.exp(1j*(kx*X + ky*Y + kz*Z - omega*t1))\n",
    "\n",
    "bx = (ky*ez - kz*ey)/omega\n",
    "by = (kz*ex - kx*ez)/omega\n",
    "bz = (kx*ey - ky*ex)/omega\n",
    "\n",
    "sx = 1/(8*np.pi) * (ey * bz.conj() - ez * by.conj())\n",
    "sy = 1/(8*np.pi) * (ez * bx.conj() - ex * bz.conj())\n",
    "sz = 1/(8*np.pi) * (ex * by.conj() - ey * bx.conj())\n",
    "\n",
    "ax2.quiver3D(X,Y,Z, ex.real, ey.real, ez.real, pivot='middle',\n",
    "             linewidth=0.5, color='red', label='Electric Field')\n",
    "ax2.quiver3D(X,Y,Z, bx.real, by.real, bz.real, pivot='middle',\n",
    "             linewidth=0.5, color='blue', label='Magnetic Field')\n",
    "ax2.quiver3D(X,Y,Z, 100*sx.real, 100*sy.real, 100*sz.real, pivot='middle',\n",
    "             linewidth=0.5, color='green', label='Poynting Vector x 100')\n",
    "ax2.legend(bbox_to_anchor=(1.25, 1.25), loc='upper left')"
   ]
  },
  {
   "cell_type": "markdown",
   "id": "7af84a8b",
   "metadata": {},
   "source": [
    "Adjust the value of `t1` while keeping `t0` and the other parameters constant.\n",
    "\n",
    "- What differences do you notice between the two plots as you adjust `t1`?"
   ]
  },
  {
   "cell_type": "markdown",
   "id": "8b73325f",
   "metadata": {},
   "source": [
    "***Replace with your observations.***"
   ]
  },
  {
   "cell_type": "markdown",
   "id": "6948db02",
   "metadata": {},
   "source": [
    "Adjust the direction of $\\vec{k}$, as in the exercises above.  Observe the wave at different times.\n",
    "\n",
    "- What differences do you notice between the two plots as you adjust `t1` and $\\vec{k}$?"
   ]
  },
  {
   "cell_type": "markdown",
   "id": "0371bc84",
   "metadata": {},
   "source": [
    "***Replace with your observations.***"
   ]
  },
  {
   "cell_type": "markdown",
   "id": "4d82f427",
   "metadata": {},
   "source": [
    "In addition to changing the ***direction*** of $\\vec{E}$, we can also change the ***relative phase*** of its components.  The code above allows us to describe waves of the form\n",
    "\n",
    "\\begin{align*}\n",
    "Ex &= E_{x0} \\, \\cos \\omega t \\\\\n",
    "Ey &= E_{y0} \\, \\cos (\\omega t + \\alpha) \\\\\n",
    "Ez &= E_{z0} \\, \\cos \\omega t\n",
    "\\end{align*}"
   ]
  },
  {
   "cell_type": "markdown",
   "id": "ba04dcc8",
   "metadata": {},
   "source": [
    "Reset $\\vec{k}$ to point along the $z$-axis: $\\theta = 0$ and $\\phi = 0$.  Set $\\alpha = \\pi/2$.  Then, adjust the value of `t1` while keeping `t0` and the other parameters constant.\n",
    "\n",
    "- What differences do you notice between the two plots as you adjust `t1`?\n",
    "- How does $\\alpha = \\pi/2$ compare with $\\alpha = 0$?"
   ]
  },
  {
   "cell_type": "markdown",
   "id": "10267555",
   "metadata": {},
   "source": [
    "***Replace with your observations.***"
   ]
  },
  {
   "cell_type": "markdown",
   "id": "b222b0e8",
   "metadata": {},
   "source": [
    "Explore other values of $\\alpha$ and `t1`.\n",
    "\n",
    "- How does $\\alpha$ affect the patterns you observe?"
   ]
  },
  {
   "cell_type": "markdown",
   "id": "d5f9dba0",
   "metadata": {},
   "source": [
    "***Replace with your observations.***"
   ]
  },
  {
   "cell_type": "markdown",
   "id": "74e7a583",
   "metadata": {},
   "source": [
    "# Electromagnetic Movies\n",
    "\n",
    "Observing plane waves is instructive, but a movie can illustrate the behavior even better.\n",
    "\n",
    "The following code will create a movie of a plane wave and display it in this notebook.  It may take a little while to run.\n",
    "\n",
    "If you get an error regarding `ffmpeg` use `conda` to install it.  Open a terminal or the \"Anaconda Prompt\" and type\n",
    "```\n",
    "conda install --channel conda-forge ffmpeg\n",
    "```"
   ]
  },
  {
   "cell_type": "code",
   "execution_count": null,
   "id": "d68a92ca",
   "metadata": {},
   "outputs": [],
   "source": [
    "# Name of file to store movie.\n",
    "num_frames = 500\n",
    "\n",
    "## Define the electromagnetic wave and plot its initial configuration.\n",
    "# Define the material.\n",
    "mu = 1\n",
    "epsilon = 1\n",
    "n = np.sqrt(mu*epsilon)\n",
    "\n",
    "# Define the wave vector.\n",
    "# Give magnitude, lattitude, and longitdue.\n",
    "k = 1.00 * np.pi\n",
    "theta = 0.00 * np.pi\n",
    "phi = 0.25 * np.pi\n",
    "\n",
    "kx = k * np.sin(theta) * np.cos(phi)\n",
    "ky = k * np.sin(theta) * np.sin(phi)\n",
    "kz = k * np.cos(theta)\n",
    "\n",
    "omega = k/n\n",
    "\n",
    "# Set times for snapshots.\n",
    "T = (2*np.pi) / omega\n",
    "dt = T / 50\n",
    "t0 = 0.00\n",
    "\n",
    "# Define the electric field, magnetic field, and Poynting vector\n",
    "# for an electromagnetic plane wave.\n",
    "\n",
    "# Give initial direction of electric field.\n",
    "# Everything else is determined by this.\n",
    "E0 = 0.25\n",
    "B0 = np.sqrt(epsilon*mu) * E0\n",
    "\n",
    "thetaE = 0.50 * np.pi\n",
    "phiE = 0.33 * np.pi\n",
    "\n",
    "Ex0 = E0 * np.sin(thetaE) * np.cos(phiE)\n",
    "Ey0 = E0 * np.sin(thetaE) * np.sin(phiE)\n",
    "Ez0 = E0 * np.cos(thetaE)\n",
    "\n",
    "# Set phase difference between electric and magnetic fields.\n",
    "alpha = 0.50 * np.pi"
   ]
  },
  {
   "cell_type": "code",
   "execution_count": null,
   "id": "bb195422",
   "metadata": {},
   "outputs": [],
   "source": [
    "# Create a grid.\n",
    "L = 1\n",
    "N = 5\n",
    "\n",
    "# Define function to compute fields on a grid.\n",
    "def compute_fields(n, box_size=L, num_points=N):\n",
    "    t = t0 + n * dt\n",
    "    \n",
    "    s = np.linspace(-box_size, box_size, num_points)\n",
    "    X, Y, Z = np.meshgrid(s,s,s)\n",
    "\n",
    "    \n",
    "    # Compute the fields on a grid at the initial time.\n",
    "    ex = Ex0 * np.exp(1j*(kx*X + ky*Y + kz*Z - omega*t))\n",
    "    ey = Ey0 * np.exp(1j*(kx*X + ky*Y + kz*Z - omega*t)) * np.exp(1j*alpha)\n",
    "    ez = Ez0 * np.exp(1j*(kx*X + ky*Y + kz*Z - omega*t))\n",
    "    \n",
    "    bx = (ky*ez - kz*ey)/omega\n",
    "    by = (kz*ex - kx*ez)/omega\n",
    "    bz = (kx*ey - ky*ex)/omega\n",
    "    \n",
    "    sx = 1/(8*np.pi*mu) * (ey * bz.conj() - ez * by.conj())\n",
    "    sy = 1/(8*np.pi*mu) * (ez * bx.conj() - ex * bz.conj())\n",
    "    sz = 1/(8*np.pi*mu) * (ex * by.conj() - ey * bx.conj())\n",
    "        \n",
    "    return X, Y, Z, ex.real, ey.real, ez.real, bx.real, by.real, bz.real, sx.real, sy.real, sz.real\n",
    "\n",
    "\n",
    "# Create a figure for each time step.\n",
    "# It is essential that the frames be named in alphabetical order.\n",
    "# {:03d} will display integers with three digits and insert zeros if needed:\n",
    "# '000_movie.jpg', '001_movie.jpg', etc.\n",
    "file_name = \"{:03d}_movie.jpg\"\n",
    "\n",
    "# Generate frames and save each figure as a separate .jpg file.\n",
    "for i in range(num_frames):\n",
    "    # Update fields.\n",
    "    X,Y,Z,ex,ey,ez,bx,by,bz,sx,sy,sz = compute_fields(i)\n",
    "\n",
    "    ## Set up the plot.\n",
    "    fig = plt.figure(dpi=400)\n",
    "    ax = fig.add_subplot(projection='3d')\n",
    "    ax.set(xlim3d=(-1.1, 1.1), xlabel='X')\n",
    "    ax.set(ylim3d=(-1.1, 1.1), ylabel='Y')\n",
    "    ax.set(zlim3d=(-1.1, 1.1), zlabel='Z')\n",
    "    ax.view_init(40,25)\n",
    "\n",
    "    e_quivers = ax.quiver(X,Y,Z, ex.real, ey.real, ez.real, pivot='middle',\n",
    "                          linewidth=0.5, color='red', label='Electric Field')\n",
    "    b_quivers = ax.quiver(X,Y,Z, bx.real, by.real, bz.real, pivot='middle',\n",
    "                          linewidth=0.5, color='blue', label='Magnetic Field')\n",
    "    s_quivers = ax.quiver(X,Y,Z, 100*sx.real, 100*sy.real, 100*sz.real, pivot='middle',\n",
    "                          linewidth=0.5, color='green', label='Poynting Vector x 100')\n",
    "\n",
    "    ax.legend(bbox_to_anchor=(0.7, 1.1), loc='upper left')\n",
    "    \n",
    "    plt.savefig(file_name.format(i))\n",
    "    print(\"%s saved ...\" % file_name.format(i))\n",
    "    plt.close(fig)"
   ]
  },
  {
   "cell_type": "code",
   "execution_count": null,
   "id": "193f1e6e",
   "metadata": {},
   "outputs": [],
   "source": [
    "!ffmpeg -y -i %03d_movie.jpg -pix_fmt yuv420p movie.mp4"
   ]
  },
  {
   "cell_type": "code",
   "execution_count": null,
   "id": "6bbb8766",
   "metadata": {},
   "outputs": [],
   "source": [
    "# Play the movie within the notebook.\n",
    "from IPython.display import HTML\n",
    "\n",
    "HTML(\"\"\"\n",
    "    <video width=\"800\" height=\"800\" alt=\"test\" controls>\n",
    "        <source src=%s type=\"video/mp4\">\n",
    "    </video>\n",
    "\"\"\" % \"movie.mp4\")"
   ]
  },
  {
   "cell_type": "markdown",
   "id": "019d3395",
   "metadata": {},
   "source": [
    "Even though it takes a while to create a video, play around with the field parameters and try to get an intuition for the kinds of electromagnetic fields associated with different polarizations ($\\vec{E}_0$ and $\\alpha$) and wave vectors ($\\vec{k}$)."
   ]
  },
  {
   "cell_type": "markdown",
   "id": "70fa1d41",
   "metadata": {},
   "source": [
    "***Describe your experiments and observations.***"
   ]
  },
  {
   "cell_type": "markdown",
   "id": "37168d49",
   "metadata": {},
   "source": [
    "- Give a set of parameters for an electromagnetic wave with **linear polarization**.\n",
    "- Give a set of parameters for an electromagnetic wave with **circular polarization**.\n",
    "- Give a set of parameters for an electromagnetic wave with **elliptical polarization**."
   ]
  },
  {
   "cell_type": "markdown",
   "id": "d81a8391",
   "metadata": {},
   "source": [
    "***Replace with your response.***"
   ]
  },
  {
   "cell_type": "markdown",
   "id": "03a516a9",
   "metadata": {},
   "source": [
    "Why is it called an \"electromagnetic plane wave\"?"
   ]
  },
  {
   "cell_type": "markdown",
   "id": "cbd68f59",
   "metadata": {},
   "source": [
    "***Replace with your response.***"
   ]
  },
  {
   "cell_type": "markdown",
   "id": "672834ea",
   "metadata": {},
   "source": [
    "# Reflection and Summary\n",
    "\n",
    "- What are the major takeaways of this assignment for you?\n",
    "- What was the most difficult part of this assignment?\n",
    "- What was the most interesting part of this assignment?\n",
    "- What questions do you have?"
   ]
  },
  {
   "cell_type": "markdown",
   "id": "386a0011",
   "metadata": {},
   "source": [
    "***Replace with your response.***"
   ]
  }
 ],
 "metadata": {
  "kernelspec": {
   "display_name": "Python 3 (ipykernel)",
   "language": "python",
   "name": "python3"
  },
  "language_info": {
   "codemirror_mode": {
    "name": "ipython",
    "version": 3
   },
   "file_extension": ".py",
   "mimetype": "text/x-python",
   "name": "python",
   "nbconvert_exporter": "python",
   "pygments_lexer": "ipython3",
   "version": "3.10.6"
  }
 },
 "nbformat": 4,
 "nbformat_minor": 5
}
