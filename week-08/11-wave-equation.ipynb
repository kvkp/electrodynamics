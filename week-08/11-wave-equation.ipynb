{
  "cells": [
    {
      "cell_type": "markdown",
      "metadata": {
        "id": "view-in-github",
        "colab_type": "text"
      },
      "source": [
        "<a href=\"https://colab.research.google.com/github/dr-kinder/playground/blob/dev/11_wave_equation.ipynb\" target=\"_parent\"><img src=\"https://colab.research.google.com/assets/colab-badge.svg\" alt=\"Open In Colab\"/></a>"
      ]
    },
    {
      "cell_type": "markdown",
      "metadata": {
        "id": "zQ5O3wSgnbsX"
      },
      "source": [
        "# Wave Equation\n",
        "\n",
        "The electromagnetic fields in empty space obey a wave equation:\n",
        "\\begin{align*}\n",
        "\\dfrac{\\partial^2 \\vec{E}}{\\partial t^2} - c^2 \\nabla^2 \\vec{E} &= 0 \\\\\n",
        "\\dfrac{\\partial^2 \\vec{B}}{\\partial t^2} - c^2 \\nabla^2 \\vec{B} &= 0 \\\\\n",
        "\\end{align*}\n",
        "\n",
        "The scalar and vector potentials in the Lorentz gauge obey an inhomogenous wave equation as well:\n",
        "\\begin{align*}\n",
        "\\dfrac{1}{c^2} \\dfrac{\\partial^2 \\Phi}{\\partial t^2} - \\nabla^2 \\Phi &= 4\\pi \\rho \\\\\n",
        "\\dfrac{1}{c^2} \\dfrac{\\partial^2 \\vec{A}}{\\partial t^2} - \\nabla^2 \\vec{A} &= \\dfrac{4\\pi}{c^2} \\vec{J} \\\\\n",
        "\\end{align*}\n",
        "\n",
        "This notebook will explore numerical methods for solving the wave equation.  We will explore specific examples in electrodynamics in the coming weeks.\n",
        "\n",
        "The general form of the wave equation is\n",
        "$$\\dfrac{1}{c^2} \\dfrac{\\partial^2 \\phi}{\\partial t^2} - \\nabla^2 \\phi = 0$$\n",
        "\n",
        "The simulation below includes a diffusion term, too.\n",
        "$$\\dfrac{1}{c^2} \\dfrac{\\partial^2 \\phi}{\\partial t^2} + \\dfrac{1}{D} \\dfrac{\\partial \\phi}{\\partial t} - \\nabla^2 \\phi = 0$$"
      ]
    },
    {
      "cell_type": "markdown",
      "metadata": {
        "id": "HPzBadVSnbLB"
      },
      "source": [
        "# Installation"
      ]
    },
    {
      "cell_type": "code",
      "execution_count": null,
      "metadata": {
        "id": "dUcWSRSU55t7"
      },
      "outputs": [],
      "source": [
        "from IPython import display"
      ]
    },
    {
      "cell_type": "code",
      "execution_count": null,
      "metadata": {
        "id": "1nWiL9DC3Noa"
      },
      "outputs": [],
      "source": [
        "# Need to upgrade matplotlib for some PyVista plotting commands to work.\n",
        "# Run this cell, then select \"Runtime > Restart runtime\" from the CoLab menu.\n",
        "!pip install --upgrade matplotlib\n",
        "\n",
        "display.clear_output()"
      ]
    },
    {
      "cell_type": "code",
      "execution_count": null,
      "metadata": {
        "id": "CspovEw3lxk4"
      },
      "outputs": [],
      "source": [
        "# This simulation uses real values.\n",
        "try:\n",
        "    import dolfinx\n",
        "except ImportError:\n",
        "    !wget \"https://fem-on-colab.github.io/releases/fenicsx-install-complex.sh\" -O \"/tmp/fenicsx-install.sh\" && bash \"/tmp/fenicsx-install.sh\"\n",
        "    import dolfinx\n",
        "\n",
        "display.clear_output()"
      ]
    },
    {
      "cell_type": "code",
      "execution_count": null,
      "metadata": {
        "id": "k-8QYHmUtnhe"
      },
      "outputs": [],
      "source": [
        "# Everything should be installed now.\n",
        "# Import the rest of what we need.\n",
        "from dolfinx import fem, mesh, plot, la\n",
        "import ufl\n",
        "\n",
        "from mpi4py import MPI\n",
        "import petsc4py.PETSc as petsc\n",
        "\n",
        "import numpy as np\n",
        "import pyvista\n",
        "\n",
        "# Start a virtual plot window for PyVista in CoLab.\n",
        "pyvista.start_xvfb()\n",
        "pyvista.set_jupyter_backend(\"pythreejs\")\n",
        "\n",
        "# Get tools for embedding movies in CoLab.\n",
        "from base64 import b64encode"
      ]
    },
    {
      "cell_type": "code",
      "execution_count": null,
      "metadata": {
        "id": "UyU1QB4GNsEE"
      },
      "outputs": [],
      "source": [
        "if not np.issubdtype(petsc.ScalarType, np.complexfloating):\n",
        "    print(\"This tutorial requires complex number support\")\n",
        "    sys.exit(0)\n",
        "else:\n",
        "    print(f\"Using {petsc.ScalarType}.\")"
      ]
    },
    {
      "cell_type": "markdown",
      "metadata": {
        "id": "wfD2qGNBKUjl"
      },
      "source": [
        "# Real Time Simulation\n",
        "\n",
        "One approach to studying the wave equation is to use a finite difference method.  We approximate the time derivative as follows:\n",
        "$$\n",
        "\\dfrac{\\partial^2 \\phi}{\\partial t^2}\n",
        "\\approx  \n",
        "\\dfrac{\\phi_{n+1} - 2 \\phi_{n} + \\phi_{n-1}}{(\\Delta t)^2}\n",
        "$$\n",
        "We then adapt the finite element problem to include a contribution from the two preceding time steps and solve for $\\phi_{n+1}$ over and over.\n",
        "\n",
        "Let's return to the potential from the previous notebook on the diffusion equation and observe the impact of a seemingly minor change in the code."
      ]
    },
    {
      "cell_type": "markdown",
      "metadata": {
        "id": "7Whv3SwXva-A"
      },
      "source": [
        "## Model\n",
        "\n",
        "The model is a gaussian charge distribution inside of a box with grounded walls.\n",
        "\n",
        "You can change the boundary conditions to explore other systems."
      ]
    },
    {
      "cell_type": "markdown",
      "metadata": {
        "id": "8BsMGSPhYv9X"
      },
      "source": [
        "### Geometry"
      ]
    },
    {
      "cell_type": "code",
      "execution_count": null,
      "metadata": {
        "id": "3H7XjEPKhCZb"
      },
      "outputs": [],
      "source": [
        "# Create a simple rectangular mesh.\n",
        "length = 10\n",
        "height = 10\n",
        "Nx, Ny = 101, 101\n",
        "extent = [[-length/2, -height/2], [length/2, height/2]]\n",
        "domain = mesh.create_rectangle(\n",
        "    MPI.COMM_WORLD, extent, [Nx, Ny], mesh.CellType.triangle)"
      ]
    },
    {
      "cell_type": "code",
      "execution_count": null,
      "metadata": {
        "id": "EkNWZPG_n-Sf"
      },
      "outputs": [],
      "source": [
        "# Prepare the mesh for plotting.\n",
        "topology, cells, geometry = dolfinx.plot.create_vtk_mesh(domain)\n",
        "\n",
        "# Turn the mesh into a PyVista grid.\n",
        "grid = pyvista.UnstructuredGrid(topology, cells, geometry)\n",
        "\n",
        "# Create the plot and export it to HTML.\n",
        "plotter = pyvista.Plotter(window_size=(800, 400))\n",
        "renderer = plotter.add_mesh(grid, show_edges=True)\n",
        "plotter.view_xy()\n",
        "\n",
        "# Save the HTML file.\n",
        "plotter.export_html(\"./grid.html\", backend=\"pythreejs\")\n",
        "\n",
        "# Use the IPython library to embed the HTML in the CoLab notebook.\n",
        "display.HTML(filename='/content/grid.html')"
      ]
    },
    {
      "cell_type": "markdown",
      "metadata": {
        "id": "0r_2Mis6veMm"
      },
      "source": [
        "### Charge Density\n",
        "\n",
        "This time, we will define the charge density as a time-dependent function on the grid."
      ]
    },
    {
      "cell_type": "code",
      "execution_count": null,
      "metadata": {
        "id": "N6Zt5bLlydd_"
      },
      "outputs": [],
      "source": [
        "# Define a set of functions on our mesh.\n",
        "V = dolfinx.fem.FunctionSpace(domain, (\"Lagrange\", 2))\n",
        "# V = dolfinx.fem.FunctionSpace(domain, (\"CG\", 1))"
      ]
    },
    {
      "cell_type": "code",
      "execution_count": null,
      "metadata": {
        "id": "u2VhsKznwKVx"
      },
      "outputs": [],
      "source": [
        "# Define the charge.\n",
        "xC = -1\n",
        "yC = -1\n",
        "Q = 1\n",
        "sQ = 0.2\n",
        "beta = 1/sQ\n",
        "tau = 1\n",
        "\n",
        "# This function returns a function that can be interpolated.\n",
        "def rho_function(t):\n",
        "    return lambda x: Q * beta / 2 / np.pi * np.exp(-t/tau) * np.exp(-0.5 * beta**2 * ((x[0]-xC)**2 + (x[1] - yC)**2))\n",
        "\n",
        "# Turn this function definition into a time-dependent function on the mesh.\n",
        "rho = fem.Function(V)\n",
        "\n",
        "# Initialize the function for t=0.\n",
        "rho.interpolate(rho_function(0))"
      ]
    },
    {
      "cell_type": "code",
      "execution_count": null,
      "metadata": {
        "id": "Zp7gQncExCt9"
      },
      "outputs": [],
      "source": [
        "# Plot the initial charge density.\n",
        "topology, cells, geometry = plot.create_vtk_mesh(rho.function_space)\n",
        "grid = pyvista.UnstructuredGrid(topology, cells, geometry)\n",
        "grid.point_data[\"rho\"] = rho.x.array.real\n",
        "grid.set_active_scalars(\"rho\")\n",
        "\n",
        "# The grid is flat.  This will warp the grid into three dimensions\n",
        "# using the value of the function as the height.\n",
        "warped = grid.warp_by_scalar(\"rho\", factor=10)\n",
        "\n",
        "# Create the plot and export it to HTML.\n",
        "plotter = pyvista.Plotter(window_size=(800, 400))\n",
        "renderer = plotter.add_mesh(\n",
        "    warped,\n",
        "    lighting=False,\n",
        "    show_edges=False,\n",
        "    scalar_bar_args={\"title\": \"Charge Density\"},\n",
        "    clim=[0, 1],\n",
        "    cmap='turbo'\n",
        ")\n",
        "plotter.add_text(\"Initial Charge Density\")\n",
        "# Save the HTML file.\n",
        "plotter.export_html(\"./rho-initial.html\", backend=\"pythreejs\")\n",
        "\n",
        "# Use the IPython library to embed the HTML in the CoLab notebook.\n",
        "display.HTML(filename='/content/rho-initial.html')"
      ]
    },
    {
      "cell_type": "markdown",
      "metadata": {
        "id": "DiHcMIKP0qmj"
      },
      "source": [
        "### Boundary Conditions\n",
        "\n",
        "We will set the potential to zero on the boundary to compute the initial potential and fields.  After this, the boundaries will be open."
      ]
    },
    {
      "cell_type": "code",
      "execution_count": null,
      "metadata": {
        "id": "gRRufVBR06yY"
      },
      "outputs": [],
      "source": [
        "# Define a function to locate boundaries.\n",
        "# It will return True for points on the boundary, and False otherwise.\n",
        "def find_facets(x):\n",
        "    yes = np.isclose(x[0], -length/2)\n",
        "    yes += np.isclose(x[0], length/2)\n",
        "    yes += np.isclose(x[1], -height/2)\n",
        "    yes += np.isclose(x[1], height/2)\n",
        "    return yes\n",
        "\n",
        "# Next, we use this function to tag each cell along the boundary.\n",
        "tdim = domain.topology.dim\n",
        "bc_facets = mesh.locate_entities_boundary(\n",
        "    domain, tdim - 1, find_facets)\n",
        "\n",
        "# Identify those for which the function was True as\n",
        "# boundary_dofs = \"boundary degrees of freedom\"\n",
        "boundary_dofs = fem.locate_dofs_topological(V, tdim - 1, bc_facets)\n",
        "\n",
        "# # Now introduce the boundary condition: constant potential on the boundary.\n",
        "# Define the potential on the boundary.\n",
        "def uD_function(t):\n",
        "    return lambda x: 0j * x[0]\n",
        "\n",
        "# Turn this function definition into a time-dependent function on the mesh.\n",
        "uD = fem.Function(V)\n",
        "\n",
        "# Initialize the function for t=0.\n",
        "uD.interpolate(uD_function(0.0))\n",
        "\n",
        "# Add these to the list of boundary conditions to be imposed.\n",
        "# This will apply the uD function to the cells along the boundary.\n",
        "# It will be updated during each time step.\n",
        "bcs = [fem.dirichletbc(uD, boundary_dofs)]"
      ]
    },
    {
      "cell_type": "markdown",
      "metadata": {
        "id": "AQdi4ksa1XWr"
      },
      "source": [
        "### Initial Potential"
      ]
    },
    {
      "cell_type": "code",
      "execution_count": null,
      "metadata": {
        "id": "kOGO4gTK1Otb"
      },
      "outputs": [],
      "source": [
        "# Define the trial and test functions.\n",
        "u = ufl.TrialFunction(V)\n",
        "v = ufl.TestFunction(V)\n",
        "\n",
        "# Create a function to store the solution.\n",
        "phi = fem.Function(V)\n",
        "phi_n = fem.Function(V)\n",
        "\n",
        "# This is the FEM version of the Laplacian.\n",
        "# It is the left-hand side of Poisson's equation.\n",
        "a = ufl.inner(ufl.grad(u), ufl.grad(v)) * ufl.dx\n",
        "\n",
        "# This is how we introduce the charge density.\n",
        "# It is the right-hand side of Poisson's equation.\n",
        "L = 4 * ufl.pi * ufl.inner(rho,v) * ufl.dx\n",
        "\n",
        "# Put it all together for FEniCSx.\n",
        "problem = fem.petsc.LinearProblem(a, L, bcs=bcs, u=phi, petsc_options={\"ksp_type\": \"preonly\", \"pc_type\": \"lu\"})\n",
        "\n",
        "# Now, solve it!\n",
        "problem.solve()\n",
        "\n",
        "# Tie up some loose ends.\n",
        "phi.vector.ghostUpdate(addv=petsc.InsertMode.INSERT, mode=petsc.ScatterMode.FORWARD)\n",
        "\n",
        "display.clear_output()"
      ]
    },
    {
      "cell_type": "code",
      "execution_count": null,
      "metadata": {
        "id": "tGwWXovB5dFk"
      },
      "outputs": [],
      "source": [
        "# Plot the initial potential.\n",
        "topology, cells, geometry = plot.create_vtk_mesh(rho.function_space)\n",
        "grid = pyvista.UnstructuredGrid(topology, cells, geometry)\n",
        "grid.point_data[\"phi\"] = phi.x.array.real\n",
        "grid.set_active_scalars(\"phi\")\n",
        "\n",
        "# The grid is flat.  This will warp the grid into three dimensions\n",
        "# using the value of the function as the height.\n",
        "warped = grid.warp_by_scalar(\"phi\", factor=10)\n",
        "\n",
        "# Create the plot and export it to HTML.\n",
        "plotter = pyvista.Plotter(window_size=(800, 400))\n",
        "renderer = plotter.add_mesh(\n",
        "    warped,\n",
        "    lighting=False,\n",
        "    show_edges=False,\n",
        "    scalar_bar_args={\"title\": \"Potential\"},\n",
        "    clim=[0, 1],\n",
        "    cmap='turbo'\n",
        ")\n",
        "plotter.add_text(\"Initial Potential\")\n",
        "# Save the HTML file.\n",
        "plotter.export_html(\"./phi-initial.html\", backend=\"pythreejs\")\n",
        "\n",
        "# Use the IPython library to embed the HTML in the CoLab notebook.\n",
        "display.HTML(filename='/content/phi-initial.html')"
      ]
    },
    {
      "cell_type": "code",
      "execution_count": null,
      "metadata": {
        "id": "B7VkQCLJ4dbA"
      },
      "outputs": [],
      "source": [
        "# Store this solution for reuse later.\n",
        "phi_initial = phi.copy()"
      ]
    },
    {
      "cell_type": "markdown",
      "metadata": {
        "id": "gjiA60vJ5Ia3"
      },
      "source": [
        "## Time Evolution\n",
        "\n",
        "Let's compare the diffusion and wave equations side by side."
      ]
    },
    {
      "cell_type": "code",
      "execution_count": null,
      "metadata": {
        "id": "51SP4tad_-Ut"
      },
      "outputs": [],
      "source": [
        "# Initial time and maximum time.\n",
        "t0 = 0.0\n",
        "t_max = 0.05\n",
        "t_step = 0.002\n",
        "\n",
        "# Wave speed.\n",
        "c_val = 500.0\n",
        "\n",
        "# Diffusion constant.\n",
        "d_val = 200.0\n",
        "\n",
        "# This is the time step for the simulation.\n",
        "c = fem.Constant(domain, petsc.ScalarType(c_val))\n",
        "D = fem.Constant(domain, petsc.ScalarType(d_val))\n",
        "dt = fem.Constant(domain, petsc.ScalarType(t_step))\n",
        "f = fem.Constant(domain, petsc.ScalarType(0.0))"
      ]
    },
    {
      "cell_type": "markdown",
      "metadata": {
        "id": "rAOdTd1qtd_U"
      },
      "source": [
        "### Diffusion"
      ]
    },
    {
      "cell_type": "code",
      "execution_count": null,
      "metadata": {
        "id": "S3BBVpoaCgd3"
      },
      "outputs": [],
      "source": [
        "# Reset the initial potential.\n",
        "phi = phi_initial.copy()\n",
        "phi_n = fem.Function(V)"
      ]
    },
    {
      "cell_type": "code",
      "execution_count": null,
      "metadata": {
        "id": "zMGuToSL_-U6"
      },
      "outputs": [],
      "source": [
        "# This is the problem we are going to solve:\n",
        "# The diffusion equaiton, in weak form for finite elements.\n",
        "F = ufl.inner(u - phi_n, v) * ufl.dx\n",
        "F += dt * D * ufl.inner(ufl.grad(u), ufl.grad(v)) * ufl.dx\n",
        "F -= dt * rho * ufl.conj(v) * ufl.dx\n",
        "(a, L) = ufl.system(F)"
      ]
    },
    {
      "cell_type": "code",
      "execution_count": null,
      "metadata": {
        "id": "pHna6Tn-hTep"
      },
      "outputs": [],
      "source": [
        "## Choose boundary conditions.\n",
        "bcs = [fem.dirichletbc(uD, boundary_dofs)]\n",
        "# bcs = []"
      ]
    },
    {
      "cell_type": "code",
      "execution_count": null,
      "metadata": {
        "id": "Gi9_C4u0_-U6"
      },
      "outputs": [],
      "source": [
        "# Building the matrix for the finite element problem takes a while.\n",
        "# It does not change throughout the problem, either.  The following\n",
        "# line build the matrix once and store it for reuse.\n",
        "compiled_a = fem.form(a)\n",
        "A = fem.petsc.assemble_matrix(compiled_a, bcs=bcs)\n",
        "A.assemble()\n",
        "\n",
        "display.clear_output()"
      ]
    },
    {
      "cell_type": "code",
      "execution_count": null,
      "metadata": {
        "id": "DIvO_8Hv_-U6"
      },
      "outputs": [],
      "source": [
        "# We do the same for the vector, but it will be updated at each time step.\n",
        "compiled_L = fem.form(L)\n",
        "b = fem.Function(V)\n",
        "\n",
        "display.clear_output()"
      ]
    },
    {
      "cell_type": "code",
      "execution_count": null,
      "metadata": {
        "id": "YT5PJ7TJ_-U6"
      },
      "outputs": [],
      "source": [
        "# Now we use the PETSc problem to construct the linear algebra problem.\n",
        "solver = petsc.KSP().create(domain.comm)\n",
        "solver.setOperators(A)\n",
        "solver.setType(petsc.KSP.Type.CG)\n",
        "pc = solver.getPC()\n",
        "pc.setType(petsc.PC.Type.LU)"
      ]
    },
    {
      "cell_type": "code",
      "execution_count": null,
      "metadata": {
        "id": "YYBVUuE-_-U7"
      },
      "outputs": [],
      "source": [
        "# Set potential to initial solution.\n",
        "phi = phi_initial.copy()\n",
        "\n",
        "# Create a plotter for charge density, but don't display the plot.\n",
        "phi_file = \"%03d-diffusion.jpg\"\n",
        "\n",
        "# It will be making a movie in the background.\n",
        "phi_plotter = pyvista.Plotter(notebook=False, off_screen=True)\n",
        "\n",
        "# And add the charge and potentials to the plot.\n",
        "topology, cells, geometry = plot.create_vtk_mesh(phi.function_space)\n",
        "phi_grid = pyvista.UnstructuredGrid(topology, cells, geometry)\n",
        "phi_grid.point_data[\"phi\"] = phi.x.array.real\n",
        "phi_grid.set_active_scalars(\"phi\")\n",
        "\n",
        "# The grid is flat.  This will warp the grid into three dimensions\n",
        "# using the value of the function as the height.\n",
        "phi_warped = phi_grid.warp_by_scalar(\"phi\", factor=10)\n",
        "\n",
        "# Add the warped grid to the plot.\n",
        "phi_plotter.add_mesh(\n",
        "    phi_warped,\n",
        "    lighting=False,\n",
        "    show_edges=False,\n",
        "    clim=[0, 1],\n",
        "    cmap='turbo'\n",
        ");"
      ]
    },
    {
      "cell_type": "code",
      "execution_count": null,
      "metadata": {
        "id": "H9FnC3A8Obeg"
      },
      "outputs": [],
      "source": [
        "# Get rid of old diffusion movie files.\n",
        "!rm *-diffusion.jpg\n",
        "!rm diffusion-movie.mp4"
      ]
    },
    {
      "cell_type": "code",
      "execution_count": null,
      "metadata": {
        "id": "0zraiY0e_-U7"
      },
      "outputs": [],
      "source": [
        "# Now, compute an update for each time step and add it to the movie.\n",
        "# Initial time\n",
        "t = t0\n",
        "n = 0\n",
        "\n",
        "# Set up the initial potential.\n",
        "phi = phi_initial.copy()\n",
        "phi_n.x.array[:] = phi_initial.x.array\n",
        "\n",
        "# Loop until completion.\n",
        "while t < t_max:\n",
        "    # Take snapshots for the video.\n",
        "    phi_frame = phi_file % n\n",
        "    phi_plotter.show(screenshot=phi_frame, auto_close=False) \n",
        "    \n",
        "    # Update boundary conditions.\n",
        "    t += dt.value\n",
        "    rho.interpolate(rho_function(t))\n",
        "    uD.interpolate(uD_function(t))\n",
        "\n",
        "    # Assemble the RSH: the vector on the \"right-hand side\" of A.u = b.\n",
        "    b.x.array[:] = 0\n",
        "    fem.petsc.assemble_vector(b.vector, compiled_L)\n",
        "\n",
        "    # Apply boundary condition.\n",
        "    # These commands distribute the updated problem to all processes.\n",
        "    fem.petsc.apply_lifting(b.vector, [compiled_a], [bcs])\n",
        "    b.x.scatter_reverse(la.ScatterMode.add)\n",
        "    fem.petsc.set_bc(b.vector, bcs)\n",
        "\n",
        "    # Solve linear problem.\n",
        "    solver.solve(b.vector, phi.vector)\n",
        "\n",
        "    # Distribute the solution to all processes.\n",
        "    phi.x.scatter_forward()\n",
        "\n",
        "    # Update un --- the current value of the function.\n",
        "    phi_n.x.array[:] = phi.x.array\n",
        "\n",
        "    # Update the plots and save the frame.\n",
        "    phi_grid.point_data[\"phi\"] = phi.x.array.real\n",
        "    phi_warped = phi_grid.warp_by_scalar(\"phi\", factor=10)\n",
        "    phi_plotter.update_scalars(phi.x.array.real, render=False)\n",
        "    phi_plotter.update_coordinates(phi_warped.points, render=False)\n",
        "\n",
        "    n += 1\n",
        "\n",
        "# Take final snapshots for the video.\n",
        "phi_frame = phi_file % n\n",
        "phi_plotter.show(screenshot=phi_frame, auto_close=False)\n",
        "\n",
        "# Close the plotter and finish processing the movie.\n",
        "phi_plotter.close()\n",
        "\n",
        "display.clear_output()"
      ]
    },
    {
      "cell_type": "code",
      "execution_count": null,
      "metadata": {
        "id": "72no1fWo_-U8"
      },
      "outputs": [],
      "source": [
        "!ffmpeg -y -i %03d-diffusion.jpg -pix_fmt yuv420p diffusion-movie.mp4"
      ]
    },
    {
      "cell_type": "markdown",
      "metadata": {
        "id": "pFHVoPuqtsYR"
      },
      "source": [
        "### Wave Equation"
      ]
    },
    {
      "cell_type": "code",
      "execution_count": null,
      "metadata": {
        "id": "rtVWJr8u1-zd"
      },
      "outputs": [],
      "source": [
        "# Reset the initial potential.\n",
        "phi = phi_initial.copy()\n",
        "phi_n = fem.Function(V)\n",
        "phi_n_1 = fem.Function(V)"
      ]
    },
    {
      "cell_type": "code",
      "execution_count": null,
      "metadata": {
        "id": "WRvCN-QRuRmI"
      },
      "outputs": [],
      "source": [
        "# This is the problem we are going to solve:\n",
        "# The wave equaiton, in weak form for finite elements.\n",
        "u_n = 0.25*u + 0.5*phi_n + 0.25*phi_n_1\n",
        "F = ufl.inner(u - 2*phi_n + phi_n_1, v) * ufl.dx\n",
        "F += dt**2 * c**2 * ufl.inner(ufl.grad(u_n), ufl.grad(v)) * ufl.dx\n",
        "\n",
        "# Add a diffusive term to keep the solution from blowing up right away.\n",
        "F += c**2 * dt / D * ufl.inner(u - phi_n, v) * ufl.dx\n",
        "\n",
        "# Add a potential source term.\n",
        "F -= dt**2 * c**2 * ufl.inner(f, v) * ufl.dx\n",
        "\n",
        "# Assemble the FEM problem.\n",
        "(a, L) = ufl.system(F)\n",
        "\n",
        "display.clear_output()"
      ]
    },
    {
      "cell_type": "code",
      "execution_count": null,
      "metadata": {
        "id": "pqP6oE2yuRmI"
      },
      "outputs": [],
      "source": [
        "## Choose boundary conditions.\n",
        "bcs = [fem.dirichletbc(uD, boundary_dofs)]\n",
        "# bcs = []"
      ]
    },
    {
      "cell_type": "code",
      "execution_count": null,
      "metadata": {
        "id": "QN64S5BjuRmI"
      },
      "outputs": [],
      "source": [
        "# Building the matrix for the finite element problem takes a while.\n",
        "# It does not change throughout the problem, either.  The following\n",
        "# line build the matrix once and store it for reuse.\n",
        "compiled_a = fem.form(a)\n",
        "A = fem.petsc.assemble_matrix(compiled_a, bcs=bcs)\n",
        "A.assemble()\n",
        "\n",
        "display.clear_output()"
      ]
    },
    {
      "cell_type": "code",
      "execution_count": null,
      "metadata": {
        "id": "U9DU0yueuRmJ"
      },
      "outputs": [],
      "source": [
        "# We do the same for the vector, but it will be updated at each time step.\n",
        "compiled_L = fem.form(L)\n",
        "b = fem.Function(V)\n",
        "\n",
        "display.clear_output()"
      ]
    },
    {
      "cell_type": "code",
      "execution_count": null,
      "metadata": {
        "id": "pdjJmWQyuRmJ"
      },
      "outputs": [],
      "source": [
        "# Now we use the PETSc problem to construct the linear algebra problem.\n",
        "solver = petsc.KSP().create(domain.comm)\n",
        "solver.setOperators(A)\n",
        "solver.setType(petsc.KSP.Type.CG)\n",
        "pc = solver.getPC()\n",
        "pc.setType(petsc.PC.Type.LU)"
      ]
    },
    {
      "cell_type": "code",
      "execution_count": null,
      "metadata": {
        "id": "3Jn02VukuRmJ"
      },
      "outputs": [],
      "source": [
        "# Set potential to initial solution.\n",
        "phi = phi_initial.copy()\n",
        "\n",
        "# Create a plotter for charge density, but don't display the plot.\n",
        "phi_file = \"%03d-wave.jpg\"\n",
        "\n",
        "# It will be making a movie in the background.\n",
        "phi_plotter = pyvista.Plotter(notebook=False, off_screen=True)\n",
        "\n",
        "# And add the charge and potentials to the plot.\n",
        "topology, cells, geometry = plot.create_vtk_mesh(phi.function_space)\n",
        "phi_grid = pyvista.UnstructuredGrid(topology, cells, geometry)\n",
        "phi_grid.point_data[\"phi\"] = phi.x.array.real\n",
        "phi_grid.set_active_scalars(\"phi\")\n",
        "\n",
        "# The grid is flat.  This will warp the grid into three dimensions\n",
        "# using the value of the function as the height.\n",
        "phi_warped = phi_grid.warp_by_scalar(\"phi\", factor=10)\n",
        "\n",
        "# Add the warped grid to the plot.\n",
        "phi_plotter.add_mesh(\n",
        "    phi_warped,\n",
        "    lighting=False,\n",
        "    show_edges=False,\n",
        "    clim=[0, 1],\n",
        "    cmap='turbo'\n",
        ");"
      ]
    },
    {
      "cell_type": "code",
      "execution_count": null,
      "metadata": {
        "id": "KQJO-JOYuRmJ"
      },
      "outputs": [],
      "source": [
        "# Get rid of old diffusion movie files.\n",
        "!rm *-wave.jpg\n",
        "!rm wave-movie.mp4"
      ]
    },
    {
      "cell_type": "code",
      "execution_count": null,
      "metadata": {
        "id": "WyWM5rNkuRmJ"
      },
      "outputs": [],
      "source": [
        "# Now, compute an update for each time step and add it to the movie.\n",
        "# Initial time\n",
        "t = t0\n",
        "n = 0\n",
        "\n",
        "# Set up the initial potential.\n",
        "phi = phi_initial.copy()\n",
        "phi_n_1.x.array[:] = phi_initial.x.array\n",
        "phi_n.x.array[:] = phi_initial.x.array\n",
        "\n",
        "\n",
        "# Loop until completion.\n",
        "while t < t_max:\n",
        "    # Take snapshots for the video.\n",
        "    phi_frame = phi_file % n\n",
        "    phi_plotter.show(screenshot=phi_frame, auto_close=False) \n",
        "    \n",
        "    # Update boundary conditions.\n",
        "    t += dt.value\n",
        "    rho.interpolate(rho_function(t))\n",
        "    uD.interpolate(uD_function(t))\n",
        "\n",
        "    # Assemble the RSH: the vector on the \"right-hand side\" of A.u = b.\n",
        "    b.x.array[:] = 0\n",
        "    fem.petsc.assemble_vector(b.vector, compiled_L)\n",
        "\n",
        "    # Apply boundary condition.\n",
        "    # These commands distribute the updated problem to all processes.\n",
        "    fem.petsc.apply_lifting(b.vector, [compiled_a], [bcs])\n",
        "    b.x.scatter_reverse(la.ScatterMode.add)\n",
        "    fem.petsc.set_bc(b.vector, bcs)\n",
        "\n",
        "    # Solve linear problem.\n",
        "    solver.solve(b.vector, phi.vector)\n",
        "\n",
        "    # Distribute the solution to all processes.\n",
        "    phi.x.scatter_forward()\n",
        "\n",
        "    # Update un --- the current value of the function.\n",
        "    phi_n.x.array[:] = phi.x.array.real\n",
        "\n",
        "    # Update the plots and save the frame.\n",
        "    phi_grid.point_data[\"phi\"] = phi.x.array.real\n",
        "    phi_warped = phi_grid.warp_by_scalar(\"phi\", factor=10)\n",
        "    phi_plotter.update_scalars(phi.x.array.real, render=False)\n",
        "    phi_plotter.update_coordinates(phi_warped.points, render=False)\n",
        "\n",
        "    n += 1\n",
        "\n",
        "# Take final snapshots for the video.\n",
        "phi_frame = phi_file % n\n",
        "phi_plotter.show(screenshot=phi_frame, auto_close=False)\n",
        "\n",
        "# Close the plotter and finish processing the movie.\n",
        "phi_plotter.close()\n",
        "\n",
        "display.clear_output()"
      ]
    },
    {
      "cell_type": "code",
      "execution_count": null,
      "metadata": {
        "id": "KITS6UFyuRmJ"
      },
      "outputs": [],
      "source": [
        "!ffmpeg -y -i %03d-wave.jpg -pix_fmt yuv420p wave-movie.mp4"
      ]
    },
    {
      "cell_type": "markdown",
      "metadata": {
        "id": "iuDSUTHhptGf"
      },
      "source": [
        "## Results"
      ]
    },
    {
      "cell_type": "code",
      "execution_count": null,
      "metadata": {
        "id": "DxkY0YKU_-U8"
      },
      "outputs": [],
      "source": [
        "## Play the diffusion movie.\n",
        "mp4 = open('diffusion-movie.mp4','rb').read()\n",
        "data_url = \"data:video/mp4;base64,\" + b64encode(mp4).decode()\n",
        "display.HTML(\"\"\"\n",
        "<video width=800 controls>\n",
        "      <source src=\"%s\" type=\"video/mp4\">\n",
        "</video>\n",
        "\"\"\" % data_url)"
      ]
    },
    {
      "cell_type": "code",
      "execution_count": null,
      "metadata": {
        "id": "iduZi17GvHVI"
      },
      "outputs": [],
      "source": [
        "# Play the wave movie.\n",
        "mp4 = open('wave-movie.mp4','rb').read()\n",
        "data_url = \"data:video/mp4;base64,\" + b64encode(mp4).decode()\n",
        "display.HTML(\"\"\"\n",
        "<video width=800 controls>\n",
        "      <source src=\"%s\" type=\"video/mp4\">\n",
        "</video>\n",
        "\"\"\" % data_url)"
      ]
    },
    {
      "cell_type": "markdown",
      "metadata": {
        "id": "AGyarMyCqlnt"
      },
      "source": [
        "## Questions\n",
        "\n",
        "Compare and contrast the two simulations.  Use the slider of the movie to view the action frame by frame.\n",
        "\n",
        "- Describe similarities and differences between the diffusion simulation and the wave simulation.\n",
        "\n",
        "***Describe your observations below.***"
      ]
    },
    {
      "cell_type": "markdown",
      "metadata": {
        "id": "X75fHYxtrsHe"
      },
      "source": [
        "REPLACE WITH YOUR RESPONSE."
      ]
    },
    {
      "cell_type": "markdown",
      "metadata": {
        "id": "erkTwbhtt0Lr"
      },
      "source": [
        "# Helmholtz Equation\n",
        "\n",
        "You probably noticed that the wave equation does not look right after a few frames.  This is due to ***numerical instability*** in the simulation.  Effects at the boundaries and processes that would take place \"inside\" one of our mesh cells or \"between\" our discrete time steps eventually cause the wave simulation to \"blow up\".\n",
        "\n",
        "It's fun to watch, but it's not representative of what happens in a real system — most of the time.\n",
        "\n",
        "There are techniques for dealing with this instability, but there are other ways to study the dynamics of waves, too.  A very important method is \"plane wave decomposition\" — a kind of Fourier analysis, where we study the behavior of waves of a single frequency.\n",
        "\n",
        "We use separation of variables:\n",
        "$$\\phi(\\vec{r},t) = \\phi(\\vec{r}) \\, e^{-i\\omega t}$$\n",
        "\n",
        "In empty space, or in a uniform material, the spatial part of our solution can also be represented by a plane wave:\n",
        "$$\n",
        "\\phi(\\vec{r}) = A e^{i\\vec{k} \\cdot \\vec{r}}\n",
        "\\qquad \\implies \\qquad\n",
        "\\phi(\\vec{r},t) = A e^{i(\\vec{k}\\cdot\\vec{r} - \\omega t)}\n",
        "$$\n",
        "However, when the material is not uniform — an interface, an obstacle, an impurity — plane waves scatter.  The frequency does not change, but $\\phi(\\vec{r})$ can no longer be represented by a single wave vector $\\vec{k}$.  We can still simplify the problem we have to solve, though.  If we substitute $\\phi(\\vec{r}) \\, e^{-i\\omega t}$ into the (generalized) wave equation, we find\n",
        "\\begin{align*}\n",
        "0 &= \\dfrac{1}{c^2} \\dfrac{\\partial^2 \\phi}{\\partial t^2} + \\dfrac{1}{D} \\dfrac{\\partial \\phi}{\\partial t} - \\nabla^2 \\phi \\\\\n",
        "&= \\left(-\\dfrac{\\omega^2}{c^2} \\phi(\\vec{r})\n",
        "- \\dfrac{i\\omega}{D} \\phi(\\vec{r}) - \\nabla^2 \\phi(\\vec{r})\\right)\n",
        "e^{-i\\omega t} \\\\\n",
        "0 &= \\nabla^2 \\phi(\\vec{r}) + \\dfrac{\\omega^2}{c^2} \\phi(\\vec{r})\n",
        "+ \\dfrac{i\\omega}{D} \\phi(\\vec{r}) \n",
        "\\end{align*}\n",
        "\n",
        "This may not look like an improvement, but we now have a ***time-independent*** PDE for $\\phi(\\vec{r})$, which we can solve ***once*** to learn about the ***time-dependent*** behavior for ***all*** times!\n",
        "\n",
        "This equation is similar to Laplace's equation and Poisson's equation, but not the same.  It is called ***the Helmholtz equation.***\n",
        "\n"
      ]
    },
    {
      "cell_type": "markdown",
      "metadata": {
        "id": "utQ2k-E8hAsp"
      },
      "source": [
        "## Model\n",
        "\n",
        "Our original model of the \"disappearing charge distribution\" is not described by a single plane wave.\n",
        "\n",
        "We will construct a new model instead: a plane wave that collides with an object that has a different index of refraction — hence, a different wave speed — than the surrounding medium."
      ]
    },
    {
      "cell_type": "code",
      "execution_count": null,
      "metadata": {
        "id": "XGcW579rqdxu"
      },
      "outputs": [],
      "source": [
        "# Set the frequency of the wave.\n",
        "omega = 2 * np.pi\n",
        "\n",
        "# Set the background index of refraction.\n",
        "n0 = 1.0\n",
        "\n",
        "# Set the maximum index of refraction inside the obstacle.\n",
        "n_max = 1.0\n",
        "\n",
        "# Set the size of the scattering object.\n",
        "spread = 0.5\n",
        "\n",
        "# Set the wave speed.\n",
        "c = 1.0\n",
        "\n",
        "# Compute the wave vector.\n",
        "k0 = n0 * omega / c"
      ]
    },
    {
      "cell_type": "markdown",
      "metadata": {
        "id": "iiaHrmIshAsw"
      },
      "source": [
        "## Geometry"
      ]
    },
    {
      "cell_type": "code",
      "execution_count": null,
      "metadata": {
        "id": "VOIAnBK1hAsw"
      },
      "outputs": [],
      "source": [
        "# Use the same grid.\n",
        "# Create a simple rectangular mesh.\n",
        "length = 10\n",
        "height = 10\n",
        "Nx, Ny = 51, 51\n",
        "extent = [[-length/2, -height/2], [length/2, height/2]]\n",
        "domain = mesh.create_rectangle(\n",
        "    MPI.COMM_WORLD, extent, [Nx, Ny], mesh.CellType.triangle)"
      ]
    },
    {
      "cell_type": "code",
      "execution_count": null,
      "metadata": {
        "id": "mpIkIDHGhAsw"
      },
      "outputs": [],
      "source": [
        "# Prepare the mesh for plotting.\n",
        "topology, cells, geometry = dolfinx.plot.create_vtk_mesh(domain)\n",
        "\n",
        "# Turn the mesh into a PyVista grid.\n",
        "grid = pyvista.UnstructuredGrid(topology, cells, geometry)\n",
        "\n",
        "# Create the plot and export it to HTML.\n",
        "plotter = pyvista.Plotter(window_size=(800, 400))\n",
        "renderer = plotter.add_mesh(grid, show_edges=True)\n",
        "plotter.view_xy()\n",
        "\n",
        "# Save the HTML file.\n",
        "plotter.export_html(\"./grid.html\", backend=\"pythreejs\")\n",
        "\n",
        "# Use the IPython library to embed the HTML in the CoLab notebook.\n",
        "display.HTML(filename='/content/grid.html')"
      ]
    },
    {
      "cell_type": "markdown",
      "metadata": {
        "id": "hRhS5ZC5hAsx"
      },
      "source": [
        "## Obstacle\n",
        "\n",
        "Add a dielectric object to the center of the region.  We'll describe it by a gaussian function.  You can picture it as concentric shells of decreasing dielectric strength."
      ]
    },
    {
      "cell_type": "code",
      "execution_count": null,
      "metadata": {
        "id": "aE4quEYphAsx"
      },
      "outputs": [],
      "source": [
        "# Define a set of functions on our mesh.\n",
        "V = dolfinx.fem.FunctionSpace(domain, (\"Lagrange\", 2))"
      ]
    },
    {
      "cell_type": "code",
      "execution_count": null,
      "metadata": {
        "id": "pS_4hGgrhAsx"
      },
      "outputs": [],
      "source": [
        "# Define the obstacle.\n",
        "xC = 0\n",
        "yC = 0\n",
        "beta = 1/spread\n",
        "\n",
        "# This function returns a function that can be interpolated.\n",
        "def n_function(x0,y0):\n",
        "    return lambda x: n_0 + (n_max - n_0) * np.exp(-0.5 * beta**2 * ((x[0]-x0)**2 + (x[1] - y0)**2))\n",
        "    # return lambda x: n_0 + \\\n",
        "    # (n_max - n_0) * np.exp(-0.5 * beta**2 * ((x[0]-x0)**2 + (x[1] + y0)**2)) + \\\n",
        "    # (n_max - n_0) * np.exp(-0.5 * beta**2 * ((x[0]-x0)**2 + (x[1] - y0)**2))\n",
        "\n",
        "# Turn this function definition into a time-dependent function on the mesh.\n",
        "index = fem.Function(V)\n",
        "\n",
        "# Initialize the function.\n",
        "index.interpolate(n_function(xC,yC))"
      ]
    },
    {
      "cell_type": "code",
      "execution_count": null,
      "metadata": {
        "id": "Q1BTO41WhAsx"
      },
      "outputs": [],
      "source": [
        "# Plot the index of refraction.\n",
        "topology, cells, geometry = plot.create_vtk_mesh(index.function_space)\n",
        "grid = pyvista.UnstructuredGrid(topology, cells, geometry)\n",
        "grid.point_data[\"n\"] = index.x.array.real\n",
        "grid.set_active_scalars(\"n\")\n",
        "\n",
        "# The grid is flat.  This will warp the grid into three dimensions\n",
        "# using the value of the function as the height.\n",
        "warped = grid.warp_by_scalar(\"n\", factor=10)\n",
        "\n",
        "# Create the plot and export it to HTML.\n",
        "plotter = pyvista.Plotter(window_size=(800, 400))\n",
        "renderer = plotter.add_mesh(\n",
        "    warped,\n",
        "    lighting=False,\n",
        "    show_edges=False,\n",
        "    scalar_bar_args={\"title\": \"Index of refraction\"},\n",
        "    clim=[n0, n_max],\n",
        "    cmap='turbo'\n",
        ")\n",
        "plotter.add_text(\"Index of Refraction\")\n",
        "# Save the HTML file.\n",
        "plotter.export_html(\"./index.html\", backend=\"pythreejs\")\n",
        "\n",
        "# Use the IPython library to embed the HTML in the CoLab notebook.\n",
        "display.HTML(filename='/content/index.html')"
      ]
    },
    {
      "cell_type": "markdown",
      "metadata": {
        "id": "kUZpIMxGhAsx"
      },
      "source": [
        "## Boundary Conditions\n",
        "\n",
        "The boundary conditions are quite different here.  We want a plane wave incident from the left (moving to the right).  We will fix the boundary conditions to represent this plane wave.  The other boundaries will be natural (open).\n",
        "\n",
        "We need to match the value and the normal derivative of the incoming wave at the edges of the mesh.  To do this, we add a boundary term to the finite element problem:\n",
        "$$\\hat{n}\\cdot\\nabla u + in \\dfrac{\\omega}{c} u = \\hat{n}\\cdot\\nabla\\phi_{0} + in \\dfrac{\\omega}{c} \\phi_{0}$$"
      ]
    },
    {
      "cell_type": "code",
      "execution_count": null,
      "metadata": {
        "id": "msw113z6hAsx"
      },
      "outputs": [],
      "source": [
        "n_hat = ufl.FacetNormal(domain)\n",
        "x = ufl.SpatialCoordinate(domain)\n",
        "phi0 = ufl.exp(1j * k0 * x[0])\n",
        "g = ufl.dot(ufl.grad(phi0), n_hat) + 1j * k0 * phi0\n",
        "\n",
        "display.clear_output()"
      ]
    },
    {
      "cell_type": "markdown",
      "metadata": {
        "id": "Bf0YAhwFhAsy"
      },
      "source": [
        "## Finite Element Problem"
      ]
    },
    {
      "cell_type": "code",
      "execution_count": null,
      "metadata": {
        "id": "-cdmsI_EhAsy"
      },
      "outputs": [],
      "source": [
        "# Define the trial and test functions.\n",
        "u = ufl.TrialFunction(V)\n",
        "v = ufl.TestFunction(V)\n",
        "\n",
        "# Create a function to store the solution.\n",
        "phi = fem.Function(V)\n",
        "\n",
        "# This is the FEM version of the Helmholtz equation.\n",
        "# It includes a boundary term, indicated by \"ds\".\n",
        "a = - ufl.inner(ufl.grad(u), ufl.grad(v)) * ufl.dx \\\n",
        "    + index**2 * k0**2 * ufl.inner(u, v) * ufl.dx \\\n",
        "    + 1j * k0 * ufl.inner(u, v) * ufl.ds\n",
        "\n",
        "# This is the boundary condition.\n",
        "L = ufl.inner(g, v) * ufl.ds\n",
        "\n",
        "# Put it all together for FEniCSx.\n",
        "problem = fem.petsc.LinearProblem(a, L, u=phi, petsc_options={\"ksp_type\": \"preonly\", \"pc_type\": \"lu\"})\n",
        "\n",
        "# Now, solve it!\n",
        "problem.solve()\n",
        "\n",
        "# Tie up some loose ends.\n",
        "phi.vector.ghostUpdate(addv=petsc.InsertMode.INSERT, mode=petsc.ScatterMode.FORWARD)\n",
        "\n",
        "display.clear_output()"
      ]
    },
    {
      "cell_type": "code",
      "execution_count": null,
      "metadata": {
        "id": "tgHUqkSUzy_G"
      },
      "outputs": [],
      "source": []
    },
    {
      "cell_type": "markdown",
      "metadata": {
        "id": "3_DW_-FH00Yr"
      },
      "source": [
        "### Time Evolution\n",
        "\n",
        "We can now simulate time evolution.  The spatial part of our solution does not change in time.  We need to multiply it by $e^{-i\\omega t}$ and plot the real part as $t$ advances."
      ]
    },
    {
      "cell_type": "code",
      "execution_count": null,
      "metadata": {
        "id": "1C5DctzKIgeU"
      },
      "outputs": [],
      "source": [
        "# Prepare the mesh for PyVista ...\n",
        "topology, cells, geometry = plot.create_vtk_mesh(V)\n",
        "\n",
        "# Create a plotter for charge density, but don't display the plot.\n",
        "phi_file = \"%03d-helmholtz.jpg\"\n",
        "\n",
        "# It will be making a movie in the background.\n",
        "phi_plotter = pyvista.Plotter(notebook=False, off_screen=True)\n",
        "\n",
        "# And add the charge and potentials to the plot.\n",
        "topology, cells, geometry = plot.create_vtk_mesh(phi.function_space)\n",
        "phi_grid = pyvista.UnstructuredGrid(topology, cells, geometry)\n",
        "phi_grid.point_data[\"phi\"] = phi.x.array.real\n",
        "phi_grid.set_active_scalars(\"phi\")\n",
        "\n",
        "# The grid is flat.  This will warp the grid into three dimensions\n",
        "# using the value of the function as the height.\n",
        "phi_warped = phi_grid.warp_by_scalar(\"phi\", factor=0.2)\n",
        "\n",
        "# Add the warped grid to the plot.\n",
        "phi_plotter.add_mesh(\n",
        "    phi_warped,\n",
        "    lighting=False,\n",
        "    show_edges=False,\n",
        "    clim=[-2, 2],\n",
        "    cmap='plasma'\n",
        ");"
      ]
    },
    {
      "cell_type": "code",
      "execution_count": null,
      "metadata": {
        "id": "HaLAKKRwE3lb"
      },
      "outputs": [],
      "source": [
        "# Get rid of any old movie files.\n",
        "!rm *-helmholtz.jpg\n",
        "!rm helmholtz-movie.mp4"
      ]
    },
    {
      "cell_type": "code",
      "execution_count": null,
      "metadata": {
        "id": "qzIDJasOyemZ"
      },
      "outputs": [],
      "source": [
        "# Now, compute an update for each time step and add it to the movie.\n",
        "# Initial time\n",
        "t = 0.0\n",
        "T = 2*np.pi / omega\n",
        "t_max = 4 * T\n",
        "dt = T / 60\n",
        "\n",
        "n = 0\n",
        "\n",
        "# Loop until completion.\n",
        "while t < t_max:\n",
        "    # Take snapshots for the video.\n",
        "    phi_frame = phi_file % n\n",
        "    phi_plotter.show(screenshot=phi_frame, auto_close=False) \n",
        "    \n",
        "    # Update boundary conditions.\n",
        "    t += dt\n",
        "    \n",
        "    # Update the plot and save the frame.\n",
        "    phi_real = np.real(phi.x.array * np.exp(-1j * omega * t))\n",
        "    phi_grid.point_data[\"phi\"] = phi_real\n",
        "    phi_warped = phi_grid.warp_by_scalar(\"phi\", factor=0.2)\n",
        "    phi_plotter.update_scalars(phi_real, render=False)\n",
        "    phi_plotter.update_coordinates(phi_warped.points, render=False)\n",
        "    phi_frame = phi_file % n\n",
        "\n",
        "    n += 1\n",
        "\n",
        "# Take final snapshots for the video.\n",
        "phi_frame = phi_file % n\n",
        "phi_plotter.show(screenshot=phi_frame, auto_close=False)\n",
        "\n",
        "# Close the plotter and finish processing the movie.\n",
        "phi_plotter.close()"
      ]
    },
    {
      "cell_type": "code",
      "execution_count": null,
      "metadata": {
        "id": "feN46MjJCjlm"
      },
      "outputs": [],
      "source": [
        "# Assemble the movies with FFMPEG.\n",
        "!ffmpeg -y -i %03d-helmholtz.jpg -pix_fmt yuv420p helmholtz-movie.mp4"
      ]
    },
    {
      "cell_type": "markdown",
      "metadata": {
        "id": "su_9LxzGnyO1"
      },
      "source": [
        "## Results\n",
        "\n",
        "Let look at the results."
      ]
    },
    {
      "cell_type": "code",
      "execution_count": null,
      "metadata": {
        "id": "s0H_ZMDhhAsy"
      },
      "outputs": [],
      "source": [
        "# See the results.\n",
        "topology, cells, geometry = plot.create_vtk_mesh(V)\n",
        "grid = pyvista.UnstructuredGrid(topology, cells, geometry)\n",
        "grid.point_data[\"phi_R\"] = phi.x.array.real\n",
        "grid.point_data[\"phi_I\"] = phi.x.array.imag\n",
        "grid.point_data[\"phi_0\"] = np.abs(phi.x.array)"
      ]
    },
    {
      "cell_type": "code",
      "execution_count": null,
      "metadata": {
        "id": "4ihzAle2zUo1"
      },
      "outputs": [],
      "source": [
        "# Plot the real part.\n",
        "grid.set_active_scalars(\"phi_R\")\n",
        "warped = grid.warp_by_scalar(\"phi_R\", factor=0.1)\n",
        "\n",
        "# Create the plot and export it to HTML.\n",
        "plotter = pyvista.Plotter(window_size=(800, 400))\n",
        "renderer = plotter.add_mesh(\n",
        "    warped,\n",
        "    lighting=False,\n",
        "    show_edges=False,\n",
        "    scalar_bar_args={\"title\": \"Potential\"},\n",
        "    clim=[-2, 2],\n",
        "    cmap='plasma'\n",
        ")\n",
        "plotter.add_text(\"Real Part\")\n",
        "# Save the HTML file.\n",
        "plotter.export_html(\"./phi-real.html\", backend=\"pythreejs\")\n",
        "\n",
        "# Use the IPython library to embed the HTML in the CoLab notebook.\n",
        "display.HTML(filename='/content/phi-real.html')"
      ]
    },
    {
      "cell_type": "code",
      "execution_count": null,
      "metadata": {
        "id": "d5E0Ct7_zX_F"
      },
      "outputs": [],
      "source": [
        "# Plot the imaginary part.\n",
        "grid.set_active_scalars(\"phi_I\")\n",
        "warped = grid.warp_by_scalar(\"phi_I\", factor=0.1)\n",
        "\n",
        "# Create the plot and export it to HTML.\n",
        "plotter = pyvista.Plotter(window_size=(800, 400))\n",
        "renderer = plotter.add_mesh(\n",
        "    warped,\n",
        "    lighting=False,\n",
        "    show_edges=False,\n",
        "    scalar_bar_args={\"title\": \"Potential\"},\n",
        "    clim=[-2, 2],\n",
        "    cmap='plasma'\n",
        ")\n",
        "plotter.add_text(\"Real Part\")\n",
        "# Save the HTML file.\n",
        "plotter.export_html(\"./phi-imag.html\", backend=\"pythreejs\")\n",
        "\n",
        "# Use the IPython library to embed the HTML in the CoLab notebook.\n",
        "display.HTML(filename='/content/phi-imag.html')"
      ]
    },
    {
      "cell_type": "code",
      "execution_count": null,
      "metadata": {
        "id": "xXK-jx-xzgQc"
      },
      "outputs": [],
      "source": [
        "# Plot the modulus.\n",
        "grid.set_active_scalars(\"phi_0\")\n",
        "warped = grid.warp_by_scalar(\"phi_0\", factor=0.1)\n",
        "\n",
        "# Create the plot and export it to HTML.\n",
        "plotter = pyvista.Plotter(window_size=(800, 400))\n",
        "renderer = plotter.add_mesh(\n",
        "    warped,\n",
        "    lighting=False,\n",
        "    show_edges=False,\n",
        "    scalar_bar_args={\"title\": \"Potential\"},\n",
        "    clim=[0, 2],\n",
        "    cmap='plasma'\n",
        ")\n",
        "plotter.add_text(\"Real Part\")\n",
        "# Save the HTML file.\n",
        "plotter.export_html(\"./phi-abs.html\", backend=\"pythreejs\")\n",
        "\n",
        "# Use the IPython library to embed the HTML in the CoLab notebook.\n",
        "display.HTML(filename='/content/phi-abs.html')"
      ]
    },
    {
      "cell_type": "code",
      "execution_count": null,
      "metadata": {
        "id": "Vx4Iq3Q8C9BU"
      },
      "outputs": [],
      "source": [
        "# Play the potential movie.\n",
        "mp4 = open('helmholtz-movie.mp4','rb').read()\n",
        "data_url = \"data:video/mp4;base64,\" + b64encode(mp4).decode()\n",
        "display.HTML(\"\"\"\n",
        "<video width=800 controls>\n",
        "      <source src=\"%s\" type=\"video/mp4\">\n",
        "</video>\n",
        "\"\"\" % data_url)"
      ]
    },
    {
      "cell_type": "markdown",
      "metadata": {
        "id": "F06EGayn4NKf"
      },
      "source": [
        "## Questions\n",
        "\n",
        "Run the cells in the Helmholtz section of this notebook.  Inspect the plots and video that result.\n",
        "\n",
        "\n",
        "### Plane wave\n",
        "\n",
        "The index of refraction is constant on the entire mesh.\n",
        "\n",
        "- Describe the plots you see.  What does the plane wave do in this case?\n",
        "- Is the output consistent with what you expect?  Explain why or why not.\n",
        "\n",
        "***Type your response below.***"
      ]
    },
    {
      "cell_type": "markdown",
      "source": [
        "REPLACE WITH YOUR RESPONSE."
      ],
      "metadata": {
        "id": "oUR_ujbr9ppE"
      }
    },
    {
      "cell_type": "markdown",
      "source": [
        "### Adjust the frequency\n",
        "\n",
        "Go to the \"Model\" section above (in the \"Helmholtz Equation\" section of the notebook).  You can change the frequency of the wave by adjusting $\\omega$ — the `omega` variable.\n",
        "\n",
        "- What do you expect to happen if you increase $\\omega$?  If you decrease $\\omega$?\n",
        "- Double the value of $\\omega$ or reduce it by half.  What happens in the plots and video?\n",
        "\n",
        "***Include your predictions and observations below.***\n"
      ],
      "metadata": {
        "id": "CXahbHxg9svd"
      }
    },
    {
      "cell_type": "markdown",
      "source": [
        "REPLACE WITH YOUR RESPONSE."
      ],
      "metadata": {
        "id": "EeSMumTE-b-k"
      }
    },
    {
      "cell_type": "markdown",
      "source": [
        "### Introduce an obstacle\n",
        "\n",
        "You can introduce an obstacle by changing the value of `n_max`.  This will introduce a round region of higher index of refraction in the center of the box.\n",
        "\n",
        "- What do you expect to happen if you introduce such an obstacle?\n",
        "- Set `n_max = 2.0`.  Describe what happens.\n",
        "\n",
        "***Include your predictions and observations below.***"
      ],
      "metadata": {
        "id": "cWkz00S3-d1E"
      }
    },
    {
      "cell_type": "markdown",
      "source": [
        "REPLACE WITH YOUR RESPONSE."
      ],
      "metadata": {
        "id": "ljJRVe3s_EbJ"
      }
    },
    {
      "cell_type": "markdown",
      "source": [
        "### Exploration\n",
        "\n",
        "Experiment with size, location, and index of refraction of the obstacle — and the frequency of the wave.\n",
        "\n",
        "***Describe your experiments and observations below.***"
      ],
      "metadata": {
        "id": "6xO3Djvl_J4H"
      }
    },
    {
      "cell_type": "markdown",
      "source": [
        "REPLACE WITH YOUR RESPONSE."
      ],
      "metadata": {
        "id": "8yEsJtA4_eGH"
      }
    },
    {
      "cell_type": "markdown",
      "source": [
        "## Bonus\n",
        "\n",
        "Try one of the following, or your own experiments.\n",
        "\n",
        "- Add one or more additional obstacles to the box.\n",
        "- Create an obstacle with a sharp boundary instead of a smooth change in index of refraction.\n",
        "- Add a flat interface with different indices of refraction on either side.\n",
        "- Try to make a movie that illustrates Snell's law.\n",
        "- Introduce a complex index of refraction in the obstacle.\n",
        "\n",
        "***Describe your efforts and observations below.***"
      ],
      "metadata": {
        "id": "fNRg211F_g1o"
      }
    },
    {
      "cell_type": "markdown",
      "source": [
        "REPLACE WITH YOUR RESPONSE."
      ],
      "metadata": {
        "id": "BVtjAn9uANyd"
      }
    },
    {
      "cell_type": "markdown",
      "source": [
        "# Reflection and Summary\n",
        "\n",
        "- What are the major takeaways of this assignment for you?\n",
        "- What was the most difficult part of this assignment?\n",
        "- What was the most interesting part of this assignment?\n",
        "- What questions do you have?"
      ],
      "metadata": {
        "id": "Td3xAkMLtlkG"
      }
    },
    {
      "cell_type": "markdown",
      "source": [
        "REPLACE WITH YOUR RESPONSE"
      ],
      "metadata": {
        "id": "pJFFTX2Stt0D"
      }
    }
  ],
  "metadata": {
    "colab": {
      "collapsed_sections": [
        "HPzBadVSnbLB",
        "wfD2qGNBKUjl",
        "8BsMGSPhYv9X",
        "DiHcMIKP0qmj",
        "AQdi4ksa1XWr",
        "gjiA60vJ5Ia3",
        "rAOdTd1qtd_U",
        "pFHVoPuqtsYR",
        "iuDSUTHhptGf"
      ],
      "provenance": [],
      "authorship_tag": "ABX9TyO4D1U22q9BlBcBTETb/1l6",
      "include_colab_link": true
    },
    "kernelspec": {
      "display_name": "Python 3",
      "name": "python3"
    },
    "language_info": {
      "name": "python"
    }
  },
  "nbformat": 4,
  "nbformat_minor": 0
}
