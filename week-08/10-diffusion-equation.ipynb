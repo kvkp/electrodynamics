{
  "cells": [
    {
      "cell_type": "markdown",
      "metadata": {
        "id": "view-in-github",
        "colab_type": "text"
      },
      "source": [
        "<a href=\"https://colab.research.google.com/github/dr-kinder/playground/blob/dev/10_diffusion_equation.ipynb\" target=\"_parent\"><img src=\"https://colab.research.google.com/assets/colab-badge.svg\" alt=\"Open In Colab\"/></a>"
      ]
    },
    {
      "cell_type": "markdown",
      "source": [
        "# NOTE #\n",
        "It appears that the `multiphenicsx.io` library and the `pyvista.start_xvfb()` commands are incompatible.  I suspect the problem is the `itkwidgets` library used in multiphenicsx.\n",
        "\n",
        "Whatever the cause, the effect is that I cannot generate movies with PyVista if I import **multiphenicsx**; I can if I don't.  So don't."
      ],
      "metadata": {
        "id": "mGiKnrjdBPhf"
      }
    },
    {
      "cell_type": "markdown",
      "source": [
        "# Introduction\n",
        "\n",
        "This notebook introduce the time dependent equations of electrodynamics.\n",
        "\n",
        "We will use Maxwell's equations to explore how the charge, potentials, and fields relax to equilibrium.  Refer to Sections 4.1, 4.4, and 4.5 of our textbook for background on the equations for the fields.\n",
        "\n",
        "Refer to the [`colab_movies.ipynb`](https://github.com/dr-kinder/playground/blob/dev/colab_movies.ipynb) notebook for more explanation of some details of the code."
      ],
      "metadata": {
        "id": "U7wWS6Tbnebb"
      }
    },
    {
      "cell_type": "markdown",
      "metadata": {
        "id": "8xYOJjrrmvL7"
      },
      "source": [
        "# Install and Import"
      ]
    },
    {
      "cell_type": "code",
      "execution_count": null,
      "metadata": {
        "id": "dUcWSRSU55t7"
      },
      "outputs": [],
      "source": [
        "from IPython import display"
      ]
    },
    {
      "cell_type": "code",
      "execution_count": null,
      "metadata": {
        "id": "1nWiL9DC3Noa"
      },
      "outputs": [],
      "source": [
        "# Need to upgrade matplotlib for some PyVista plotting commands to work.\n",
        "# Run this cell, then select \"Runtime > Restart runtime\" from the CoLab menu.\n",
        "!pip install --upgrade matplotlib\n",
        "\n",
        "display.clear_output()"
      ]
    },
    {
      "cell_type": "code",
      "execution_count": null,
      "metadata": {
        "id": "2fYTkoDJmkR4"
      },
      "outputs": [],
      "source": [
        "try:\n",
        "    import gmsh\n",
        "except ImportError:\n",
        "    !wget \"https://fem-on-colab.github.io/releases/gmsh-install.sh\" -O \"/tmp/gmsh-install.sh\" && bash \"/tmp/gmsh-install.sh\"\n",
        "    import gmsh\n",
        "\n",
        "display.clear_output()"
      ]
    },
    {
      "cell_type": "code",
      "execution_count": null,
      "metadata": {
        "id": "CspovEw3lxk4"
      },
      "outputs": [],
      "source": [
        "# This simulation uses real values.\n",
        "try:\n",
        "    import dolfinx\n",
        "except ImportError:\n",
        "    !wget \"https://fem-on-colab.github.io/releases/fenicsx-install-real.sh\" -O \"/tmp/fenicsx-install.sh\" && bash \"/tmp/fenicsx-install.sh\"\n",
        "    import dolfinx\n",
        "\n",
        "display.clear_output()"
      ]
    },
    {
      "cell_type": "code",
      "source": [
        "# Everything should be installed now.\n",
        "# Import the rest of what we need.\n",
        "import gmsh\n",
        "\n",
        "from dolfinx import fem, mesh, plot, la\n",
        "from dolfinx.io import gmshio\n",
        "import ufl\n",
        "\n",
        "from mpi4py import MPI\n",
        "import petsc4py.PETSc as petsc\n",
        "\n",
        "import numpy as np\n",
        "import pyvista\n",
        "\n",
        "# Start a virtual plot window for PyVista in CoLab.\n",
        "pyvista.start_xvfb()\n",
        "pyvista.set_jupyter_backend(\"pythreejs\")\n",
        "\n",
        "# Get tools for embedding movies in CoLab.\n",
        "from base64 import b64encode"
      ],
      "metadata": {
        "id": "k-8QYHmUtnhe"
      },
      "execution_count": null,
      "outputs": []
    },
    {
      "cell_type": "markdown",
      "source": [
        "# Initial Conditions\n",
        "\n",
        "The code in this section is similar to [06-finite-element-method.ipynb](https://github.com/dr-kinder/electrodynamics/blob/master/week-03/06-finite-element-method.ipynb).  We will use the solution to the electrostatics problem as the initial condition for an electrodynamics problem."
      ],
      "metadata": {
        "id": "wfD2qGNBKUjl"
      }
    },
    {
      "cell_type": "markdown",
      "source": [
        "## Model\n",
        "\n",
        "The model is a gaussian charge distribution inside of a box with grounded walls.\n",
        "\n",
        "You can change the boundary conditions to explore other systems."
      ],
      "metadata": {
        "id": "7Whv3SwXva-A"
      }
    },
    {
      "cell_type": "code",
      "source": [
        "# Create a simple rectangular mesh.\n",
        "length = 10\n",
        "height = 10\n",
        "Nx, Ny = 51, 51\n",
        "extent = [[-length/2, -height/2], [length/2, height/2]]\n",
        "domain = mesh.create_rectangle(\n",
        "    MPI.COMM_WORLD, extent, [Nx, Ny], mesh.CellType.triangle)"
      ],
      "metadata": {
        "id": "3H7XjEPKhCZb"
      },
      "execution_count": null,
      "outputs": []
    },
    {
      "cell_type": "code",
      "execution_count": null,
      "metadata": {
        "id": "EkNWZPG_n-Sf"
      },
      "outputs": [],
      "source": [
        "# Prepare the mesh for plotting.\n",
        "topology, cells, geometry = dolfinx.plot.create_vtk_mesh(domain)\n",
        "\n",
        "# Turn the mesh into a PyVista grid.\n",
        "grid = pyvista.UnstructuredGrid(topology, cells, geometry)\n",
        "\n",
        "# Create the plot and export it to HTML.\n",
        "plotter = pyvista.Plotter(window_size=(800, 400))\n",
        "renderer = plotter.add_mesh(grid, show_edges=True)\n",
        "plotter.view_xy()\n",
        "\n",
        "# Save the HTML file.\n",
        "plotter.export_html(\"./grid.html\", backend=\"pythreejs\")\n",
        "\n",
        "# Use the IPython library to embed the HTML in the CoLab notebook.\n",
        "display.HTML(filename='/content/grid.html')"
      ]
    },
    {
      "cell_type": "markdown",
      "source": [
        "## Charge Density\n",
        "\n",
        "This time, we will define the charge density as a time-dependent function on the grid."
      ],
      "metadata": {
        "id": "0r_2Mis6veMm"
      }
    },
    {
      "cell_type": "code",
      "source": [
        "# Define a set of functions on our mesh.\n",
        "V = dolfinx.fem.FunctionSpace(domain, (\"Lagrange\", 2))"
      ],
      "metadata": {
        "id": "N6Zt5bLlydd_"
      },
      "execution_count": null,
      "outputs": []
    },
    {
      "cell_type": "code",
      "source": [
        "# Define the charge.\n",
        "xC = -1\n",
        "yC = -1\n",
        "Q = 1\n",
        "sQ = 0.2\n",
        "beta = 1/sQ\n",
        "tau = 1\n",
        "\n",
        "# This function returns a function that can be interpolated.\n",
        "def rho_function(t):\n",
        "    return lambda x: Q * beta / 2 / np.pi * np.exp(-t/tau) * np.exp(-0.5 * beta**2 * ((x[0]-xC)**2 + (x[1] - yC)**2))\n",
        "\n",
        "# Turn this function definition into a time-dependent function on the mesh.\n",
        "rho = fem.Function(V)\n",
        "\n",
        "# Initialize the function for t=0.\n",
        "rho.interpolate(rho_function(0))"
      ],
      "metadata": {
        "id": "u2VhsKznwKVx"
      },
      "execution_count": null,
      "outputs": []
    },
    {
      "cell_type": "code",
      "source": [
        "# Plot the initial charge density.\n",
        "topology, cells, geometry = plot.create_vtk_mesh(rho.function_space)\n",
        "grid = pyvista.UnstructuredGrid(topology, cells, geometry)\n",
        "grid.point_data[\"rho\"] = rho.x.array\n",
        "grid.set_active_scalars(\"rho\")\n",
        "\n",
        "# The grid is flat.  This will warp the grid into three dimensions\n",
        "# using the value of the function as the height.\n",
        "warped = grid.warp_by_scalar(\"rho\", factor=10)\n",
        "\n",
        "# Create the plot and export it to HTML.\n",
        "plotter = pyvista.Plotter(window_size=(800, 400))\n",
        "renderer = plotter.add_mesh(\n",
        "    warped,\n",
        "    lighting=False,\n",
        "    show_edges=False,\n",
        "    scalar_bar_args={\"title\": \"Charge Density\"},\n",
        "    clim=[0, 1],\n",
        "    cmap='turbo'\n",
        ")\n",
        "plotter.add_text(\"Initial Charge Density\")\n",
        "# Save the HTML file.\n",
        "plotter.export_html(\"./rho-initial.html\", backend=\"pythreejs\")\n",
        "\n",
        "# Use the IPython library to embed the HTML in the CoLab notebook.\n",
        "display.HTML(filename='/content/rho-initial.html')"
      ],
      "metadata": {
        "id": "Zp7gQncExCt9"
      },
      "execution_count": null,
      "outputs": []
    },
    {
      "cell_type": "markdown",
      "source": [
        "## Boundary Conditions\n",
        "\n",
        "We will set the potential to zero on the boundary to compute the initial potential and fields.  After this, the boundaries will be open."
      ],
      "metadata": {
        "id": "DiHcMIKP0qmj"
      }
    },
    {
      "cell_type": "code",
      "source": [
        "# Define a function to locate boundaries.\n",
        "# It will return True for points on the boundary, and False otherwise.\n",
        "def find_facets(x):\n",
        "    yes = np.isclose(x[0], -length/2)\n",
        "    yes += np.isclose(x[0], length/2)\n",
        "    yes += np.isclose(x[1], -height/2)\n",
        "    yes += np.isclose(x[1], height/2)\n",
        "    return yes\n",
        "\n",
        "# Next, we use this function to tag each cell along the boundary.\n",
        "tdim = domain.topology.dim\n",
        "bc_facets = mesh.locate_entities_boundary(\n",
        "    domain, tdim - 1, find_facets)\n",
        "\n",
        "# Identify those for which the function was True as\n",
        "# boundary_dofs = \"boundary degrees of freedom\"\n",
        "boundary_dofs = fem.locate_dofs_topological(V, tdim - 1, bc_facets)\n",
        "\n",
        "# # Now introduce the boundary condition: constant potential on the boundary.\n",
        "# Define the potential on the boundary.\n",
        "def uD_function(t):\n",
        "    return lambda x: 0 * x[0]\n",
        "\n",
        "# Turn this function definition into a time-dependent function on the mesh.\n",
        "uD = fem.Function(V)\n",
        "\n",
        "# Initialize the function for t=0.\n",
        "uD.interpolate(uD_function(0.0))\n",
        "\n",
        "# Add these to the list of boundary conditions to be imposed.\n",
        "# This will apply the uD function to the cells along the boundary.\n",
        "# It will be updated during each time step.\n",
        "bcs = [fem.dirichletbc(uD, boundary_dofs)]"
      ],
      "metadata": {
        "id": "gRRufVBR06yY"
      },
      "execution_count": null,
      "outputs": []
    },
    {
      "cell_type": "markdown",
      "source": [
        "## Solve for the Initial Potential"
      ],
      "metadata": {
        "id": "AQdi4ksa1XWr"
      }
    },
    {
      "cell_type": "code",
      "source": [
        "# Define the trial and test functions.\n",
        "u = ufl.TrialFunction(V)\n",
        "v = ufl.TestFunction(V)\n",
        "\n",
        "# Create a function to store the solution.\n",
        "phi = fem.Function(V)\n",
        "phi_n = fem.Function(V)\n",
        "\n",
        "# This is the FEM version of the Laplacian.\n",
        "# It is the left-hand side of Poisson's equation.\n",
        "a = ufl.inner(ufl.grad(u), ufl.grad(v)) * ufl.dx\n",
        "\n",
        "# This is how we introduce the charge density.\n",
        "# It is the right-hand side of Poisson's equation.\n",
        "L = 4 * ufl.pi * rho * v * ufl.dx\n",
        "\n",
        "# Put it all together for FEniCSx.\n",
        "problem = fem.petsc.LinearProblem(a, L, bcs=bcs, u=phi, petsc_options={\"ksp_type\": \"preonly\", \"pc_type\": \"lu\"})\n",
        "\n",
        "# Now, solve it!\n",
        "problem.solve()\n",
        "\n",
        "# Tie up some loose ends.\n",
        "phi.vector.ghostUpdate(addv=petsc.InsertMode.INSERT, mode=petsc.ScatterMode.FORWARD)"
      ],
      "metadata": {
        "id": "kOGO4gTK1Otb"
      },
      "execution_count": null,
      "outputs": []
    },
    {
      "cell_type": "code",
      "source": [
        "# Plot the initial potential.\n",
        "topology, cells, geometry = plot.create_vtk_mesh(rho.function_space)\n",
        "grid = pyvista.UnstructuredGrid(topology, cells, geometry)\n",
        "grid.point_data[\"phi\"] = phi.x.array\n",
        "grid.set_active_scalars(\"phi\")\n",
        "\n",
        "# The grid is flat.  This will warp the grid into three dimensions\n",
        "# using the value of the function as the height.\n",
        "warped = grid.warp_by_scalar(\"phi\", factor=10)\n",
        "\n",
        "# Create the plot and export it to HTML.\n",
        "plotter = pyvista.Plotter(window_size=(800, 400))\n",
        "renderer = plotter.add_mesh(\n",
        "    warped,\n",
        "    lighting=False,\n",
        "    show_edges=False,\n",
        "    scalar_bar_args={\"title\": \"Potential\"},\n",
        "    clim=[0, 1],\n",
        "    cmap='turbo'\n",
        ")\n",
        "plotter.add_text(\"Initial Potential\")\n",
        "# Save the HTML file.\n",
        "plotter.export_html(\"./phi-initial.html\", backend=\"pythreejs\")\n",
        "\n",
        "# Use the IPython library to embed the HTML in the CoLab notebook.\n",
        "display.HTML(filename='/content/phi-initial.html')"
      ],
      "metadata": {
        "id": "tGwWXovB5dFk"
      },
      "execution_count": null,
      "outputs": []
    },
    {
      "cell_type": "code",
      "source": [
        "# Define a set of elements for a vector field.\n",
        "W = dolfinx.fem.VectorFunctionSpace(domain, (\"Lagrange\", 2))\n",
        "E = dolfinx.fem.Function(W)\n",
        "\n",
        "# Compute the gradient as a symbolic expression, then interpolate it onto the mesh.\n",
        "expr = dolfinx.fem.Expression(ufl.as_vector((-phi.dx(0), -phi.dx(1))), W.element.interpolation_points())\n",
        "E.interpolate(expr)"
      ],
      "metadata": {
        "id": "6QOQU3-z3tIN"
      },
      "execution_count": null,
      "outputs": []
    },
    {
      "cell_type": "code",
      "source": [
        "# Plot the initial electric field.\n",
        "topology, cells, geometry = plot.create_vtk_mesh(E.function_space)\n",
        "values = np.zeros((geometry.shape[0], 3), dtype=np.float64)\n",
        "values[:, :len(E)] = E.x.array.real.reshape((geometry.shape[0], len(E)))\n",
        "\n",
        "# Create a point cloud of glyphs\n",
        "e_grid = pyvista.UnstructuredGrid(topology, cells, geometry)\n",
        "e_grid[\"E\"] = values\n",
        "arrows = e_grid.glyph(orient=\"E\", factor=0.2)\n",
        "\n",
        "# Create a pyvista-grid for the mesh\n",
        "topology, cells, geometry = plot.create_vtk_mesh(domain, domain.topology.dim)\n",
        "grid = pyvista.UnstructuredGrid(topology, cells, geometry)\n",
        "\n",
        "# Create plotter\n",
        "plotter = pyvista.Plotter()\n",
        "plotter.add_mesh(grid, style=\"wireframe\", color='#BBBBBB')\n",
        "plotter.background_color = 'white'\n",
        "plotter.add_mesh(arrows)\n",
        "plotter.add_text(\"Initial Field\")\n",
        "# Save the HTML file.\n",
        "plotter.export_html(\"./e-initial.html\", backend=\"pythreejs\")\n",
        "\n",
        "# Use the IPython library to embed the HTML in the CoLab notebook.\n",
        "display.HTML(filename='/content/e-initial.html')"
      ],
      "metadata": {
        "id": "Tn4mMVb_6COv"
      },
      "execution_count": null,
      "outputs": []
    },
    {
      "cell_type": "code",
      "source": [
        "# Store this solution for reuse later.\n",
        "phi_initial = phi.copy()"
      ],
      "metadata": {
        "id": "B7VkQCLJ4dbA"
      },
      "execution_count": null,
      "outputs": []
    },
    {
      "cell_type": "markdown",
      "source": [
        "## Questions\n",
        "\n",
        "In Notebook #6, we looked at a similar charge distribution in a circular geometry.  This time we placed the charge distribution in a rectangular geometry.\n",
        "\n",
        "***Describe the similarities and differences between the resulting potential.***"
      ],
      "metadata": {
        "id": "JSzBQ3HphvYK"
      }
    },
    {
      "cell_type": "markdown",
      "source": [
        "REPLACE WITH YOUR RESPONSE."
      ],
      "metadata": {
        "id": "fLLO12UviSZw"
      }
    },
    {
      "cell_type": "markdown",
      "source": [
        "# Slow Relaxation\n",
        "\n",
        "We now let the system relax to equilibrium.  If the system is weakly conducting, then relaxation to equilibrium is slow enough that conduction and displacement currents cancel each other and there is no magnetic field.  (See Heald & Marion 4.4.)\n",
        "\n",
        "In this case, the problem is \"quasi-static\".  We can solve the time *dependent* problem (approximately) by solving a time *independent* problem at each time step, using the current value of $rho(t)$.\n",
        "\n",
        "The continuity equation and Ohm's Law imply that\n",
        "$$\\rho(t) = \\rho_0 \\, e^{-t/\\tau}$$\n",
        "where the relaxation time $\\tau$ is\n",
        "$$\\tau = \\dfrac{4\\pi\\sigma}{\\epsilon}$$\n",
        "\n",
        "We can visualize this by placing the FEM solving code inside of a loop."
      ],
      "metadata": {
        "id": "gjiA60vJ5Ia3"
      }
    },
    {
      "cell_type": "markdown",
      "source": [
        "## Setup\n",
        "\n",
        "You can adjust the parameters below to control the time step and duration of the simulation."
      ],
      "metadata": {
        "id": "jjcpJtp3nIbe"
      }
    },
    {
      "cell_type": "code",
      "execution_count": null,
      "metadata": {
        "id": "sTPagyEXxDVv"
      },
      "outputs": [],
      "source": [
        "# This is the time step for the simulation.\n",
        "dt = fem.Constant(domain, 0.01)\n",
        "\n",
        "# Initial time and maximum time.\n",
        "t0 = 0.0\n",
        "t_max = 5*tau"
      ]
    },
    {
      "cell_type": "code",
      "execution_count": null,
      "metadata": {
        "id": "VMKeLpYwx7Wk"
      },
      "outputs": [],
      "source": [
        "# Constant factor from Maxwell's equations.\n",
        "k = fem.Constant(domain, 4*np.pi)\n",
        "\n",
        "# This is the problem we are going to solve:\n",
        "# We update the charge distribution and compute the potential\n",
        "# using Poisson's equation at each time step.\n",
        "F = ufl.inner(ufl.grad(u), ufl.grad(v)) * ufl.dx\n",
        "F -= k * ufl.inner(rho, v) * ufl.dx\n",
        "(a, L) = ufl.system(F)"
      ]
    },
    {
      "cell_type": "code",
      "execution_count": null,
      "metadata": {
        "id": "ZC3wgTtyyHMg"
      },
      "outputs": [],
      "source": [
        "# Building the matrix for the finite element problem takes a while.\n",
        "# It does not change throughout the problem, either.  The following\n",
        "# line build the matrix once and store it for reuse.\n",
        "compiled_a = fem.form(a)\n",
        "A = fem.petsc.assemble_matrix(compiled_a, bcs=bcs)\n",
        "A.assemble()"
      ]
    },
    {
      "cell_type": "code",
      "execution_count": null,
      "metadata": {
        "id": "bRgpS7QayJQg"
      },
      "outputs": [],
      "source": [
        "# We do the same for the vector, but it will be updated at each time step.\n",
        "compiled_L = fem.form(L)\n",
        "b = fem.Function(V)"
      ]
    },
    {
      "cell_type": "code",
      "execution_count": null,
      "metadata": {
        "id": "LIY5PsXlyLVo"
      },
      "outputs": [],
      "source": [
        "# Now we use the PETSc problem to construct the linear algebra problem.\n",
        "solver = petsc.KSP().create(domain.comm)\n",
        "solver.setOperators(A)\n",
        "solver.setType(petsc.KSP.Type.CG)\n",
        "pc = solver.getPC()\n",
        "pc.setType(petsc.PC.Type.HYPRE)\n",
        "pc.setHYPREType(\"boomeramg\")"
      ]
    },
    {
      "cell_type": "markdown",
      "source": [
        "## Simulation\n",
        "\n",
        "The next cells will make movies of the charge distribution and the potential as the charge distribution \"slowly\" relaxes to equilibirium: zero net charge inside the conductor."
      ],
      "metadata": {
        "id": "WQagLOj4neZF"
      }
    },
    {
      "cell_type": "code",
      "source": [
        "# Prepare the mesh for PyVista ...\n",
        "topology, cells, geometry = plot.create_vtk_mesh(V)\n",
        "\n",
        "# Create a plotter for charge density, but don't display the plot.\n",
        "rho_file = \"%03d-charge.jpg\"\n",
        "\n",
        "# It will be making a movie in the background.\n",
        "rho_plotter = pyvista.Plotter(notebook=False, off_screen=True)\n",
        "\n",
        "# And add the charge and potentials to the plot.\n",
        "topology, cells, geometry = plot.create_vtk_mesh(rho.function_space)\n",
        "rho_grid = pyvista.UnstructuredGrid(topology, cells, geometry)\n",
        "rho_grid.point_data[\"rho\"] = rho.x.array\n",
        "rho_grid.set_active_scalars(\"rho\")\n",
        "\n",
        "# The grid is flat.  This will warp the grid into three dimensions\n",
        "# using the value of the function as the height.\n",
        "rho_warped = rho_grid.warp_by_scalar(\"rho\", factor=10)\n",
        "\n",
        "# Add the warped grid to the plot.\n",
        "rho_plotter.add_mesh(\n",
        "    rho_warped,\n",
        "    lighting=False,\n",
        "    show_edges=False,\n",
        "    clim=[0, 1],\n",
        "    cmap='turbo'\n",
        ");"
      ],
      "metadata": {
        "id": "1C5DctzKIgeU"
      },
      "execution_count": null,
      "outputs": []
    },
    {
      "cell_type": "code",
      "source": [
        "# Do exactly the same thing for the potential.\n",
        "phi_file = \"%03d-potential.jpg\"\n",
        "phi_plotter = pyvista.Plotter(off_screen=True, notebook=False)\n",
        "phi_grid = pyvista.UnstructuredGrid(topology, cells, geometry)\n",
        "phi_grid.point_data[\"phi\"] = phi.x.array\n",
        "phi_warped = phi_grid.warp_by_scalar(\"phi\", factor=10)\n",
        "phi_plotter.add_mesh(\n",
        "    phi_warped,\n",
        "    lighting=False,\n",
        "    show_edges=False,\n",
        "    clim=[0, 1],\n",
        "    cmap='turbo'\n",
        ");"
      ],
      "metadata": {
        "id": "GNJELjkAIV_l"
      },
      "execution_count": null,
      "outputs": []
    },
    {
      "cell_type": "code",
      "source": [
        "# Get rid of any old movie files.\n",
        "!rm *-charge.jpg\n",
        "!rm *-potential.jpg\n",
        "!rm charge-movie.mp4\n",
        "!rm potential-movie.mp4"
      ],
      "metadata": {
        "id": "HaLAKKRwE3lb"
      },
      "execution_count": null,
      "outputs": []
    },
    {
      "cell_type": "code",
      "execution_count": null,
      "metadata": {
        "id": "qzIDJasOyemZ"
      },
      "outputs": [],
      "source": [
        "# Now, compute an update for each time step and add it to the movie.\n",
        "# Initial time\n",
        "t = t0\n",
        "n = 0\n",
        "\n",
        "# Set up the initial potential.\n",
        "phi = phi_initial.copy()\n",
        "\n",
        "# Loop until completion.\n",
        "while t < t_max:\n",
        "    # Take snapshots for the video.\n",
        "    rho_frame = rho_file % n\n",
        "    rho_plotter.show(screenshot=rho_frame, auto_close=False)\n",
        "    phi_frame = phi_file % n\n",
        "    phi_plotter.show(screenshot=phi_frame, auto_close=False) \n",
        "    \n",
        "    # Update boundary conditions.\n",
        "    t += dt.value\n",
        "    rho.interpolate(rho_function(t))\n",
        "    uD.interpolate(uD_function(t))\n",
        "\n",
        "    # Assemble the RSH: the vector on the \"right-hand side\" of A.u = b.\n",
        "    b.x.array[:] = 0\n",
        "    fem.petsc.assemble_vector(b.vector, compiled_L)\n",
        "\n",
        "    # Apply boundary condition.\n",
        "    # These commands distribute the updated problem to all processes.\n",
        "    fem.petsc.apply_lifting(b.vector, [compiled_a], [bcs])\n",
        "    b.x.scatter_reverse(la.ScatterMode.add)\n",
        "    fem.petsc.set_bc(b.vector, bcs)\n",
        "\n",
        "    # Solve linear problem.\n",
        "    solver.solve(b.vector, phi.vector)\n",
        "\n",
        "    # Distribute the solution to all processes.\n",
        "    phi.x.scatter_forward()\n",
        "\n",
        "    # Update un --- the current value of the function.\n",
        "    phi_n.x.array[:] = phi.x.array\n",
        "\n",
        "    # Update the plots and save the frame to the GIF.\n",
        "    rho_grid.point_data[\"rho\"] = rho.x.array\n",
        "    rho_warped = rho_grid.warp_by_scalar(\"rho\", factor=10)\n",
        "    rho_plotter.update_scalars(rho.x.array, render=False)\n",
        "    rho_plotter.update_coordinates(rho_warped.points)\n",
        "\n",
        "    phi_grid.point_data[\"phi\"] = phi.x.array\n",
        "    phi_warped = phi_grid.warp_by_scalar(\"phi\", factor=10)\n",
        "    phi_plotter.update_scalars(phi.x.array, render=False)\n",
        "    phi_plotter.update_coordinates(phi_warped.points, render=False)\n",
        "    phi_frame = phi_file % n\n",
        "\n",
        "    n += 1\n",
        "\n",
        "# Take final snapshots for the video.\n",
        "rho_frame = rho_file % n\n",
        "rho_plotter.show(screenshot=rho_frame, auto_close=False)\n",
        "phi_frame = phi_file % n\n",
        "phi_plotter.show(screenshot=phi_frame, auto_close=False)\n",
        "\n",
        "# Close the plotter and finish processing the movie.\n",
        "rho_plotter.close()\n",
        "phi_plotter.close()"
      ]
    },
    {
      "cell_type": "code",
      "source": [
        "# Assemble the movies with FFMPEG.\n",
        "!ffmpeg -y -i %03d-charge.jpg -pix_fmt yuv420p charge-movie.mp4\n",
        "!ffmpeg -y -i %03d-potential.jpg -pix_fmt yuv420p potential-movie.mp4"
      ],
      "metadata": {
        "id": "feN46MjJCjlm"
      },
      "execution_count": null,
      "outputs": []
    },
    {
      "cell_type": "markdown",
      "source": [
        "## Results\n",
        "\n",
        "The two movies below show the charge distribution and the potential evolving in time."
      ],
      "metadata": {
        "id": "su_9LxzGnyO1"
      }
    },
    {
      "cell_type": "code",
      "source": [
        "# Play the charge movie.\n",
        "mp4 = open('charge-movie.mp4','rb').read()\n",
        "data_url = \"data:video/mp4;base64,\" + b64encode(mp4).decode()\n",
        "display.HTML(\"\"\"\n",
        "<video width=800 controls>\n",
        "      <source src=\"%s\" type=\"video/mp4\">\n",
        "</video>\n",
        "\"\"\" % data_url)"
      ],
      "metadata": {
        "id": "OfKfpCIiCwyX"
      },
      "execution_count": null,
      "outputs": []
    },
    {
      "cell_type": "code",
      "source": [
        "# Play the potential movie.\n",
        "mp4 = open('potential-movie.mp4','rb').read()\n",
        "data_url = \"data:video/mp4;base64,\" + b64encode(mp4).decode()\n",
        "display.HTML(\"\"\"\n",
        "<video width=800 controls>\n",
        "      <source src=\"%s\" type=\"video/mp4\">\n",
        "</video>\n",
        "\"\"\" % data_url)"
      ],
      "metadata": {
        "id": "Vx4Iq3Q8C9BU"
      },
      "execution_count": null,
      "outputs": []
    },
    {
      "cell_type": "markdown",
      "source": [
        "## Questions\n",
        "\n",
        "- Describe what happens as the charge distribution relaxes to equilibrium.\n",
        "- Describe any correlations or significant differences you see between the behavior of the charge distribution and the potential.\n",
        "- Describe any interesting or unusual features you observe in the simulations.\n",
        "\n",
        "***Summarize your observations below.***"
      ],
      "metadata": {
        "id": "97X3Y6LaoDJI"
      }
    },
    {
      "cell_type": "markdown",
      "source": [
        "REPLACE WITH YOUR RESPONSE."
      ],
      "metadata": {
        "id": "PERkZP5SooLU"
      }
    },
    {
      "cell_type": "markdown",
      "source": [
        "# Field Diffusion\n",
        "\n",
        "In a good conductor, the charges and the electromagnetic fields do not remain in synch.  Rapidly changing electromagnetic fields lead to induction, and the field may take much longer to reach equilibrium than the charges.\n",
        "\n",
        "Heald an Marion show that the field equations become diffusion equations:\n",
        "\\begin{align*}\n",
        "\\nabla^2 \\vec{E} - \\dfrac{4\\pi\\mu\\sigma}{c^2} \\dfrac{\\partial \\vec{E}}{\\partial t} &= \\dfrac{4\\pi}{\\epsilon} \\nabla \\rho \\\\\n",
        "\\nabla^2 \\vec{B} - \\dfrac{4\\pi\\mu\\sigma}{c^2} \\dfrac{\\partial \\vec{B}}{\\partial t} &= 0\n",
        "\\end{align*}\n",
        "\n",
        "The ***diffusion equation*** is\n",
        "$$D \\nabla^2 \\phi - \\dfrac{\\partial \\phi}{\\partial t} = 0$$\n",
        "Thus, the fields obey a diffusion equation with diffusion constant\n",
        "$$\n",
        "D = \\dfrac{c^2}{4\\pi\\mu\\sigma}\n",
        "$$\n",
        "\n",
        "As Marion and Heald point out, the timescale for diffusion over a distance of 1 mm in copper is on the order of 0.1 ms, compared with $10^{-14}$ s for the relaxation of the charge to its equilibrium distribution.  The relaxation of the fields in copper will take about 10 billion times longer than the relaxation of the charge distribution we just simulated.  Thus, we will ignore the charge density in what follows.\n",
        "\n",
        "The following cells return to our initial potential, but allow it to relax under the action of the diffusion equation, rather than tracking the density.  The components of the electromagnetic field will behave in a similar fashion.\n",
        "\n",
        "The cells below are a copy of those in the preceding section, except the finite element problem definition is now that appropriate to a diffusion equation."
      ],
      "metadata": {
        "id": "pKQKfDL7y2z-"
      }
    },
    {
      "cell_type": "markdown",
      "source": [
        "## Setup"
      ],
      "metadata": {
        "id": "-wjuoyn4pA5m"
      }
    },
    {
      "cell_type": "code",
      "execution_count": null,
      "metadata": {
        "id": "51SP4tad_-Ut"
      },
      "outputs": [],
      "source": [
        "# Diffusion constant.\n",
        "d_val = 10.0\n",
        "\n",
        "# Initial time and maximum time.\n",
        "t0 = 0.0\n",
        "t_max = 1\n",
        "t_step = 0.002\n",
        "\n",
        "# This is the time step for the simulation.\n",
        "D = fem.Constant(domain, d_val)\n",
        "dt = fem.Constant(domain, t_step)\n",
        "f = fem.Constant(domain, 0.0)"
      ]
    },
    {
      "cell_type": "code",
      "source": [
        "# Reset the initial potential.\n",
        "phi = phi_initial.copy()\n",
        "phi_n = fem.Function(V)"
      ],
      "metadata": {
        "id": "S3BBVpoaCgd3"
      },
      "execution_count": null,
      "outputs": []
    },
    {
      "cell_type": "code",
      "execution_count": null,
      "metadata": {
        "id": "zMGuToSL_-U6"
      },
      "outputs": [],
      "source": [
        "# This is the problem we are going to solve:\n",
        "# The diffusion equaiton, in weak form for finite elements.\n",
        "F = ufl.inner(u - phi_n, v) * ufl.dx\n",
        "F += dt * D * ufl.inner(ufl.grad(u), ufl.grad(v)) * ufl.dx\n",
        "F -= dt * ufl.inner(f, v) * ufl.dx\n",
        "(a, L) = ufl.system(F)"
      ]
    },
    {
      "cell_type": "code",
      "source": [
        "## Choose boundary conditions.\n",
        "bcs = [fem.dirichletbc(uD, boundary_dofs)]\n",
        "# bcs = []"
      ],
      "metadata": {
        "id": "pHna6Tn-hTep"
      },
      "execution_count": null,
      "outputs": []
    },
    {
      "cell_type": "code",
      "execution_count": null,
      "metadata": {
        "id": "Gi9_C4u0_-U6"
      },
      "outputs": [],
      "source": [
        "# Building the matrix for the finite element problem takes a while.\n",
        "# It does not change throughout the problem, either.  The following\n",
        "# line build the matrix once and store it for reuse.\n",
        "compiled_a = fem.form(a)\n",
        "A = fem.petsc.assemble_matrix(compiled_a, bcs=bcs)\n",
        "A.assemble()"
      ]
    },
    {
      "cell_type": "code",
      "execution_count": null,
      "metadata": {
        "id": "DIvO_8Hv_-U6"
      },
      "outputs": [],
      "source": [
        "# We do the same for the vector, but it will be updated at each time step.\n",
        "compiled_L = fem.form(L)\n",
        "b = fem.Function(V)"
      ]
    },
    {
      "cell_type": "code",
      "execution_count": null,
      "metadata": {
        "id": "YT5PJ7TJ_-U6"
      },
      "outputs": [],
      "source": [
        "# Now we use the PETSc problem to construct the linear algebra problem.\n",
        "solver = petsc.KSP().create(domain.comm)\n",
        "solver.setOperators(A)\n",
        "solver.setType(petsc.KSP.Type.CG)\n",
        "pc = solver.getPC()\n",
        "pc.setType(petsc.PC.Type.HYPRE)\n",
        "pc.setHYPREType(\"boomeramg\")"
      ]
    },
    {
      "cell_type": "markdown",
      "source": [
        "## Simulation"
      ],
      "metadata": {
        "id": "2e4bLsEtpm0c"
      }
    },
    {
      "cell_type": "code",
      "source": [
        "# Create a plotter for charge density, but don't display the plot.\n",
        "phi_file = \"%03d-diffusion.jpg\"\n",
        "\n",
        "# It will be making a movie in the background.\n",
        "phi_plotter = pyvista.Plotter(notebook=False, off_screen=True)\n",
        "\n",
        "# And add the charge and potentials to the plot.\n",
        "topology, cells, geometry = plot.create_vtk_mesh(phi.function_space)\n",
        "phi_grid = pyvista.UnstructuredGrid(topology, cells, geometry)\n",
        "phi_grid.point_data[\"phi\"] = phi.x.array\n",
        "phi_grid.set_active_scalars(\"phi\")\n",
        "\n",
        "# The grid is flat.  This will warp the grid into three dimensions\n",
        "# using the value of the function as the height.\n",
        "phi_warped = phi_grid.warp_by_scalar(\"phi\", factor=10)\n",
        "\n",
        "# Add the warped grid to the plot.\n",
        "phi_plotter.add_mesh(\n",
        "    phi_warped,\n",
        "    lighting=False,\n",
        "    show_edges=False,\n",
        "    clim=[0, 1],\n",
        "    cmap='turbo'\n",
        ");"
      ],
      "metadata": {
        "id": "YYBVUuE-_-U7"
      },
      "execution_count": null,
      "outputs": []
    },
    {
      "cell_type": "code",
      "source": [
        "# Plot the initial potential.\n",
        "topology, cells, geometry = plot.create_vtk_mesh(phi.function_space)\n",
        "grid = pyvista.UnstructuredGrid(topology, cells, geometry)\n",
        "grid.point_data[\"phi\"] = phi.x.array\n",
        "grid.set_active_scalars(\"phi\")\n",
        "\n",
        "# The grid is flat.  This will warp the grid into three dimensions\n",
        "# using the value of the function as the height.\n",
        "warped = grid.warp_by_scalar(\"phi\", factor=10)\n",
        "\n",
        "# Create the plot and export it to HTML.\n",
        "plotter = pyvista.Plotter(window_size=(800, 400))\n",
        "renderer = plotter.add_mesh(\n",
        "    warped,\n",
        "    lighting=False,\n",
        "    show_edges=False,\n",
        "    scalar_bar_args={\"title\": \"Potential\"},\n",
        "    clim=[0, 1],\n",
        "    cmap='turbo'\n",
        ")\n",
        "plotter.add_text(\"Initial Potential\")\n",
        "# Save the HTML file.\n",
        "plotter.export_html(\"./phi-initial.html\", backend=\"pythreejs\")\n",
        "\n",
        "# Use the IPython library to embed the HTML in the CoLab notebook.\n",
        "display.HTML(filename='/content/phi-initial.html')"
      ],
      "metadata": {
        "id": "5cyrZmzKITE9"
      },
      "execution_count": null,
      "outputs": []
    },
    {
      "cell_type": "code",
      "source": [
        "# Get rid of old diffusion movie files.\n",
        "!rm *-diffusion.jpg\n",
        "!rm diffusion-movie.mp4"
      ],
      "metadata": {
        "id": "H9FnC3A8Obeg"
      },
      "execution_count": null,
      "outputs": []
    },
    {
      "cell_type": "code",
      "execution_count": null,
      "metadata": {
        "id": "0zraiY0e_-U7"
      },
      "outputs": [],
      "source": [
        "# Now, compute an update for each time step and add it to the movie.\n",
        "# Initial time\n",
        "t = t0\n",
        "n = 0\n",
        "\n",
        "# Set up the initial potential.\n",
        "phi = phi_initial.copy()\n",
        "phi_n.x.array[:] = phi_initial.x.array\n",
        "\n",
        "# Loop until completion.\n",
        "while t < t_max:\n",
        "    # Take snapshots for the video.\n",
        "    phi_frame = phi_file % n\n",
        "    phi_plotter.show(screenshot=phi_frame, auto_close=False) \n",
        "    \n",
        "    # Update boundary conditions.\n",
        "    t += dt.value\n",
        "    rho.interpolate(rho_function(t))\n",
        "    uD.interpolate(uD_function(t))\n",
        "\n",
        "    # Assemble the RSH: the vector on the \"right-hand side\" of A.u = b.\n",
        "    b.x.array[:] = 0\n",
        "    fem.petsc.assemble_vector(b.vector, compiled_L)\n",
        "\n",
        "    # Apply boundary condition.\n",
        "    # These commands distribute the updated problem to all processes.\n",
        "    fem.petsc.apply_lifting(b.vector, [compiled_a], [bcs])\n",
        "    b.x.scatter_reverse(la.ScatterMode.add)\n",
        "    fem.petsc.set_bc(b.vector, bcs)\n",
        "\n",
        "    # Solve linear problem.\n",
        "    solver.solve(b.vector, phi.vector)\n",
        "\n",
        "    # Distribute the solution to all processes.\n",
        "    phi.x.scatter_forward()\n",
        "\n",
        "    # Update un --- the current value of the function.\n",
        "    phi_n.x.array[:] = phi.x.array\n",
        "\n",
        "    # Update the plots and save the frame.\n",
        "    phi_grid.point_data[\"phi\"] = phi.x.array\n",
        "    phi_warped = phi_grid.warp_by_scalar(\"phi\", factor=10)\n",
        "    phi_plotter.update_scalars(phi.x.array, render=False)\n",
        "    phi_plotter.update_coordinates(phi_warped.points, render=False)\n",
        "\n",
        "    n += 1\n",
        "\n",
        "# Take final snapshots for the video.\n",
        "phi_frame = phi_file % n\n",
        "phi_plotter.show(screenshot=phi_frame, auto_close=False)\n",
        "\n",
        "# Close the plotter and finish processing the movie.\n",
        "phi_plotter.close()"
      ]
    },
    {
      "cell_type": "code",
      "source": [
        "!ffmpeg -y -i %03d-diffusion.jpg -pix_fmt yuv420p diffusion-movie.mp4"
      ],
      "metadata": {
        "id": "72no1fWo_-U8"
      },
      "execution_count": null,
      "outputs": []
    },
    {
      "cell_type": "markdown",
      "source": [
        "## Results"
      ],
      "metadata": {
        "id": "iuDSUTHhptGf"
      }
    },
    {
      "cell_type": "code",
      "source": [
        "# Play the diffusion movie.\n",
        "mp4 = open('diffusion-movie.mp4','rb').read()\n",
        "data_url = \"data:video/mp4;base64,\" + b64encode(mp4).decode()\n",
        "display.HTML(\"\"\"\n",
        "<video width=800 controls>\n",
        "      <source src=\"%s\" type=\"video/mp4\">\n",
        "</video>\n",
        "\"\"\" % data_url)"
      ],
      "metadata": {
        "id": "DxkY0YKU_-U8"
      },
      "execution_count": null,
      "outputs": []
    },
    {
      "cell_type": "markdown",
      "source": [
        "## Questions\n",
        "\n",
        "- Describe similarities and differences between the diffusion simulation in this section and the \"slow relaxation\" simulation in the previous section.\n",
        "\n",
        "(Keep in mind that the diffusion process actually takes over a billion times longer than the relaxation process in the previous section.)\n",
        "\n",
        "***Describe your observations below.***"
      ],
      "metadata": {
        "id": "AGyarMyCqlnt"
      }
    },
    {
      "cell_type": "markdown",
      "source": [
        "REPLACE WITH YOUR RESPONSE."
      ],
      "metadata": {
        "id": "X75fHYxtrsHe"
      }
    },
    {
      "cell_type": "markdown",
      "source": [
        "### Boundary Conditions\n",
        "\n",
        "Find the cell above that begins\n",
        "\n",
        "```## Choose boundary conditions```\n",
        "\n",
        "Comment out one set of boundary condtions and uncomment the other.  This will switch the boundary condtions from essential ($\\phi = 0$ on the boundaries) to natural ($\\hat{n} \\cdot \\nabla \\phi = 0$ on the boundaries).\n",
        "\n",
        "Run all the cells in this section — \"Field Diffusion\" — again.\n",
        "\n",
        "Describe similarities and differences of diffusion with closed and open boundaries.\n",
        "\n",
        "***Describe your observations below.***"
      ],
      "metadata": {
        "id": "g6M9NJ1Arucx"
      }
    },
    {
      "cell_type": "markdown",
      "source": [
        "REPLACE WITH YOUR RESPONSE."
      ],
      "metadata": {
        "id": "D_azoSzfsno-"
      }
    },
    {
      "cell_type": "markdown",
      "source": [
        "### Charge Location\n",
        "\n",
        "Go back to the \"Charge Density\" section above.  Move the center of the charge closer to an edge or corner of the box by adjusting `xC` and `yC`.  Run the entire notebook again.\n",
        "\n",
        "What effects of the boundaries do you notice when the charge is close to the wall?\n",
        "\n",
        "***Describe your observations below.***"
      ],
      "metadata": {
        "id": "njC55EBAsqKX"
      }
    },
    {
      "cell_type": "markdown",
      "source": [
        "REPLACE WITH YOUR RESPONSE."
      ],
      "metadata": {
        "id": "nOlkgBADtTB7"
      }
    },
    {
      "cell_type": "markdown",
      "source": [
        "# Exploration\n",
        "\n",
        "Do something original with this notebook.  You can try one the following if you are not sure where to start:\n",
        "\n",
        "- Change the shape of the box.\n",
        "- Add more charges — positive or negative — to the box.\n",
        "- Explore the effect of changing the diffusion constant.\n",
        "- Try to make a movie of the electric field for the diffusing potential.  (Challenging!)\n",
        "\n",
        "***Describe your efforts and observations below.***"
      ],
      "metadata": {
        "id": "erkTwbhtt0Lr"
      }
    },
    {
      "cell_type": "markdown",
      "source": [
        "REPLACE WITH YOUR RESPONSE"
      ],
      "metadata": {
        "id": "MhFv6IQTujdn"
      }
    },
    {
      "cell_type": "markdown",
      "source": [
        "# Reflection and Summary\n",
        "\n",
        "- What are the major takeaways of this assignment for you?\n",
        "- What was the most difficult part of this assignment?\n",
        "- What was the most interesting part of this assignment?\n",
        "- What questions do you have?"
      ],
      "metadata": {
        "id": "Td3xAkMLtlkG"
      }
    },
    {
      "cell_type": "markdown",
      "source": [
        "REPLACE WITH YOUR RESPONSE"
      ],
      "metadata": {
        "id": "pJFFTX2Stt0D"
      }
    }
  ],
  "metadata": {
    "colab": {
      "provenance": [],
      "authorship_tag": "ABX9TyND7aBEH12+cCQbtC0JfORY",
      "include_colab_link": true
    },
    "kernelspec": {
      "display_name": "Python 3",
      "name": "python3"
    },
    "language_info": {
      "name": "python"
    }
  },
  "nbformat": 4,
  "nbformat_minor": 0
}
